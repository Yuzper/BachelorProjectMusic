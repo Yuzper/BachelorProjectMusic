{
 "cells": [
  {
   "cell_type": "code",
   "execution_count": 2,
   "id": "41055b35",
   "metadata": {},
   "outputs": [],
   "source": [
    "import numpy as np\n",
    "import pandas as pd\n",
    "import scipy\n",
    "import matplotlib.pyplot as plt\n",
    "import tensorflow as tf\n",
    "from tensorflow.keras.models import load_model\n",
    "import seaborn as sns\n",
    "from sklearn.metrics import confusion_matrix\n"
   ]
  },
  {
   "cell_type": "code",
   "execution_count": 3,
   "id": "26db7edb",
   "metadata": {},
   "outputs": [
    {
     "name": "stdout",
     "output_type": "stream",
     "text": [
      "Found 495 files belonging to 5 classes.\n"
     ]
    }
   ],
   "source": [
    "testData = tf.keras.utils.image_dataset_from_directory(\n",
    "    directory = \"SpectrogramData_Formatted/test\",\n",
    "    labels=\"inferred\",\n",
    "    label_mode = \"categorical\",\n",
    "    color_mode=\"rgb\",\n",
    "    batch_size=64,\n",
    "    image_size=(235, 352),\n",
    "    shuffle=False,\n",
    "    seed=42\n",
    ")\n"
   ]
  },
  {
   "cell_type": "code",
   "execution_count": 4,
   "id": "7f3dbf5e",
   "metadata": {},
   "outputs": [],
   "source": [
    "import keras.backend as K\n",
    "\n",
    "def macro_f1_score(y_true, y_pred):\n",
    "    \"\"\"\n",
    "    Calculate macro-average F1 score using Keras backend.\n",
    "\n",
    "    Parameters:\n",
    "        y_true (tensor or array): The true class labels (ground truth) as a tensor or Numpy array.\n",
    "        y_pred (tensor or array): The predicted class labels as a tensor or Numpy array.\n",
    "\n",
    "    Returns:\n",
    "        float: The macro-average F1 score.\n",
    "    \"\"\"\n",
    "    # Convert Numpy arrays to Keras backend tensors\n",
    "    if not tf.is_tensor(y_true):\n",
    "        y_true = K.constant(y_true)\n",
    "\n",
    "    if not tf.is_tensor(y_pred):\n",
    "        y_pred = K.constant(y_pred)\n",
    "    \n",
    "    # Calculate true positives, false positives, and false negatives for each class\n",
    "    tp = K.sum(y_true * K.round(y_pred), axis=0)\n",
    "    fp = K.sum(K.round(K.clip(y_pred - y_true, 0, 1)), axis=0)\n",
    "    fn = K.sum(K.round(K.clip(y_true - y_pred, 0, 1)), axis=0)\n",
    "\n",
    "    # Calculate precision and recall for each class\n",
    "    precision = tp / (tp + fp + K.epsilon())\n",
    "    recall = tp / (tp + fn + K.epsilon())\n",
    "\n",
    "    # Calculate F1 score for each class\n",
    "    f1_score = 2 * (precision * recall) / (precision + recall + K.epsilon())\n",
    "\n",
    "    # Calculate macro-average F1 score\n",
    "    macro_f1 = K.mean(f1_score)\n",
    "\n",
    "    return macro_f1"
   ]
  },
  {
   "cell_type": "code",
   "execution_count": 6,
   "id": "a78bb542",
   "metadata": {},
   "outputs": [
    {
     "name": "stdout",
     "output_type": "stream",
     "text": [
      "8/8 [==============================] - 25s 3s/step - loss: 1.2198 - accuracy: 0.5636 - macro_f1_score: 0.1071\n",
      "Baseline\n",
      "Loss: 1.219831943511963\n",
      "macro_f1_score:  10.71 %\n",
      "Accuracy:  56.36 %\n",
      "8/8 [==============================] - 27s 3s/step - loss: 1.1506 - accuracy: 0.5798 - macro_f1_score: 0.1704\n",
      "Aug1\n",
      "Loss: 1.1505711078643799\n",
      "macro_f1_score:  17.04 %\n",
      "Accuracy:  57.98 %\n",
      "8/8 [==============================] - 6s 605ms/step - loss: 2.0798 - accuracy: 0.5212 - macro_f1_score: 0.1755\n",
      "Aug2\n",
      "Loss: 2.079796075820923\n",
      "macro_f1_score:  17.55 %\n",
      "Accuracy:  52.12 %\n"
     ]
    }
   ],
   "source": [
    "############ Baseline ############\n",
    "savedModelBaseline = tf.keras.models.load_model(\"Results/SavedModels/best_model_baseline.h5\", compile=False)\n",
    "savedModelBaseline.compile(loss=\"categorical_crossentropy\",\n",
    "                  optimizer=tf.keras.optimizers.Adam(learning_rate=0.0001),\n",
    "                  metrics=[\"accuracy\", macro_f1_score])\n",
    "\n",
    "loss, accuracy, macro_f1_score_ = savedModelBaseline.evaluate(testData)\n",
    "print(\"Baseline\")\n",
    "print(\"Loss:\", loss)\n",
    "print(\"macro_f1_score: \", round((macro_f1_score_*100), 2), \"%\")\n",
    "print(\"Accuracy: \", round((accuracy*100), 2), \"%\")\n",
    "\n",
    "\n",
    "############ Aug1 ############\n",
    "savedModelAug1 = tf.keras.models.load_model(\"Results/SavedModels/best_model_Aug1.h5\", compile=False)\n",
    "savedModelAug1.compile(loss=\"categorical_crossentropy\",\n",
    "                  optimizer=tf.keras.optimizers.Adam(learning_rate=0.0001),\n",
    "                  metrics=[\"accuracy\", macro_f1_score])\n",
    "\n",
    "loss, accuracy, macro_f1_score_ = savedModelAug1.evaluate(testData)\n",
    "print(\"Aug1\")\n",
    "print(\"Loss:\", loss)\n",
    "print(\"macro_f1_score: \", round((macro_f1_score_*100), 2), \"%\")\n",
    "print(\"Accuracy: \", round((accuracy*100), 2), \"%\")\n",
    "\n",
    "\n",
    "############ Aug 2 ############\n",
    "savedModelAug2 = tf.keras.models.load_model(\"Results/SavedModels/best_model_Aug2.h5\", compile=False)\n",
    "savedModelAug2.compile(loss=\"categorical_crossentropy\",\n",
    "                  optimizer=tf.keras.optimizers.Adam(learning_rate=0.001),\n",
    "                  metrics=[\"accuracy\", macro_f1_score])\n",
    "\n",
    "loss, accuracy, macro_f1_score_ = savedModelAug2.evaluate(testData)\n",
    "print(\"Aug2\")\n",
    "print(\"Loss:\", loss)\n",
    "print(\"macro_f1_score: \", round((macro_f1_score_*100), 2), \"%\")\n",
    "print(\"Accuracy: \", round((accuracy*100), 2), \"%\")\n"
   ]
  },
  {
   "cell_type": "markdown",
   "id": "678e41e3",
   "metadata": {},
   "source": [
    "# RNN Timestep Analysis"
   ]
  },
  {
   "cell_type": "code",
   "execution_count": null,
   "id": "edadb56b",
   "metadata": {},
   "outputs": [],
   "source": [
    "from tensorflow.keras.preprocessing.image import img_to_array, load_img\n",
    "\n",
    "img = load_img('SpectrogramData_Formatted/test/Electric/13706.png', target_size=(235, 352))\n",
    "img_array = img_to_array(img) / 255.0  # Normalize to 0-1 if that's what the model expects\n",
    "# Expand dimensions to add the batch size dimension\n",
    "img_array = np.expand_dims(img_array, axis=0)\n",
    "\n",
    "TimestepBaseline = savedModelBaseline.predict(img_array)\n",
    "\n",
    "class_indices = np.argmax(TimestepBaseline, axis=1)  # For multiclass classification\n",
    "print(TimestepBaseline)\n",
    "class_labels = testData.class_names\n",
    "\n",
    "\n",
    "# Convert class indices to labels\n",
    "predicted_labels = np.vectorize(lambda idx: class_labels[idx])(class_indices)\n",
    "\n",
    "# Map class indices to names\n",
    "#predicted_labels = [class_names[idx] for idx in class_indices]\n",
    "print(predicted_labels)"
   ]
  },
  {
   "cell_type": "code",
   "execution_count": null,
   "id": "be9c0468",
   "metadata": {},
   "outputs": [],
   "source": []
  },
  {
   "cell_type": "code",
   "execution_count": null,
   "id": "d4b5b325",
   "metadata": {},
   "outputs": [],
   "source": []
  },
  {
   "cell_type": "code",
   "execution_count": null,
   "id": "18c0ded8",
   "metadata": {},
   "outputs": [],
   "source": []
  },
  {
   "cell_type": "markdown",
   "id": "92ca758d",
   "metadata": {},
   "source": [
    "# Plots (Accuracy, F1-score, Loss)"
   ]
  },
  {
   "cell_type": "code",
   "execution_count": 7,
   "id": "43ad5ecf",
   "metadata": {},
   "outputs": [
    {
     "ename": "FileNotFoundError",
     "evalue": "[Errno 2] No such file or directory: 'Plots/Metric_Plots/Aug2 Accuracy.png'",
     "output_type": "error",
     "traceback": [
      "\u001b[1;31m---------------------------------------------------------------------------\u001b[0m",
      "\u001b[1;31mFileNotFoundError\u001b[0m                         Traceback (most recent call last)",
      "Input \u001b[1;32mIn [7]\u001b[0m, in \u001b[0;36m<cell line: 17>\u001b[1;34m()\u001b[0m\n\u001b[0;32m     15\u001b[0m plt\u001b[38;5;241m.\u001b[39mxlabel(\u001b[38;5;124m\"\u001b[39m\u001b[38;5;124mEpoch\u001b[39m\u001b[38;5;124m\"\u001b[39m)\n\u001b[0;32m     16\u001b[0m plt\u001b[38;5;241m.\u001b[39mlegend([\u001b[38;5;124m\"\u001b[39m\u001b[38;5;124mTrain\u001b[39m\u001b[38;5;124m\"\u001b[39m, \u001b[38;5;124m\"\u001b[39m\u001b[38;5;124mValidation\u001b[39m\u001b[38;5;124m\"\u001b[39m], loc\u001b[38;5;241m=\u001b[39m\u001b[38;5;124m\"\u001b[39m\u001b[38;5;124mupper left\u001b[39m\u001b[38;5;124m\"\u001b[39m)\n\u001b[1;32m---> 17\u001b[0m \u001b[43mplt\u001b[49m\u001b[38;5;241;43m.\u001b[39;49m\u001b[43msavefig\u001b[49m\u001b[43m(\u001b[49m\u001b[38;5;124;43m\"\u001b[39;49m\u001b[38;5;124;43mPlots/Metric_Plots/Aug2 Accuracy\u001b[39;49m\u001b[38;5;124;43m\"\u001b[39;49m\u001b[43m,\u001b[49m\u001b[43m \u001b[49m\u001b[43mbbox_inches\u001b[49m\u001b[38;5;241;43m=\u001b[39;49m\u001b[38;5;124;43m\"\u001b[39;49m\u001b[38;5;124;43mtight\u001b[39;49m\u001b[38;5;124;43m\"\u001b[39;49m\u001b[43m)\u001b[49m\n\u001b[0;32m     18\u001b[0m plt\u001b[38;5;241m.\u001b[39mshow()\n\u001b[0;32m     21\u001b[0m \u001b[38;5;66;03m# summarize history for f1-score\u001b[39;00m\n",
      "File \u001b[1;32m~\\Anaconda3\\lib\\site-packages\\matplotlib\\pyplot.py:958\u001b[0m, in \u001b[0;36msavefig\u001b[1;34m(*args, **kwargs)\u001b[0m\n\u001b[0;32m    955\u001b[0m \u001b[38;5;129m@_copy_docstring_and_deprecators\u001b[39m(Figure\u001b[38;5;241m.\u001b[39msavefig)\n\u001b[0;32m    956\u001b[0m \u001b[38;5;28;01mdef\u001b[39;00m \u001b[38;5;21msavefig\u001b[39m(\u001b[38;5;241m*\u001b[39margs, \u001b[38;5;241m*\u001b[39m\u001b[38;5;241m*\u001b[39mkwargs):\n\u001b[0;32m    957\u001b[0m     fig \u001b[38;5;241m=\u001b[39m gcf()\n\u001b[1;32m--> 958\u001b[0m     res \u001b[38;5;241m=\u001b[39m fig\u001b[38;5;241m.\u001b[39msavefig(\u001b[38;5;241m*\u001b[39margs, \u001b[38;5;241m*\u001b[39m\u001b[38;5;241m*\u001b[39mkwargs)\n\u001b[0;32m    959\u001b[0m     fig\u001b[38;5;241m.\u001b[39mcanvas\u001b[38;5;241m.\u001b[39mdraw_idle()   \u001b[38;5;66;03m# need this if 'transparent=True' to reset colors\u001b[39;00m\n\u001b[0;32m    960\u001b[0m     \u001b[38;5;28;01mreturn\u001b[39;00m res\n",
      "File \u001b[1;32m~\\Anaconda3\\lib\\site-packages\\matplotlib\\figure.py:3019\u001b[0m, in \u001b[0;36mFigure.savefig\u001b[1;34m(self, fname, transparent, **kwargs)\u001b[0m\n\u001b[0;32m   3015\u001b[0m     \u001b[38;5;28;01mfor\u001b[39;00m ax \u001b[38;5;129;01min\u001b[39;00m \u001b[38;5;28mself\u001b[39m\u001b[38;5;241m.\u001b[39maxes:\n\u001b[0;32m   3016\u001b[0m         stack\u001b[38;5;241m.\u001b[39menter_context(\n\u001b[0;32m   3017\u001b[0m             ax\u001b[38;5;241m.\u001b[39mpatch\u001b[38;5;241m.\u001b[39m_cm_set(facecolor\u001b[38;5;241m=\u001b[39m\u001b[38;5;124m'\u001b[39m\u001b[38;5;124mnone\u001b[39m\u001b[38;5;124m'\u001b[39m, edgecolor\u001b[38;5;241m=\u001b[39m\u001b[38;5;124m'\u001b[39m\u001b[38;5;124mnone\u001b[39m\u001b[38;5;124m'\u001b[39m))\n\u001b[1;32m-> 3019\u001b[0m \u001b[38;5;28mself\u001b[39m\u001b[38;5;241m.\u001b[39mcanvas\u001b[38;5;241m.\u001b[39mprint_figure(fname, \u001b[38;5;241m*\u001b[39m\u001b[38;5;241m*\u001b[39mkwargs)\n",
      "File \u001b[1;32m~\\Anaconda3\\lib\\site-packages\\matplotlib\\backend_bases.py:2319\u001b[0m, in \u001b[0;36mFigureCanvasBase.print_figure\u001b[1;34m(self, filename, dpi, facecolor, edgecolor, orientation, format, bbox_inches, pad_inches, bbox_extra_artists, backend, **kwargs)\u001b[0m\n\u001b[0;32m   2315\u001b[0m \u001b[38;5;28;01mtry\u001b[39;00m:\n\u001b[0;32m   2316\u001b[0m     \u001b[38;5;66;03m# _get_renderer may change the figure dpi (as vector formats\u001b[39;00m\n\u001b[0;32m   2317\u001b[0m     \u001b[38;5;66;03m# force the figure dpi to 72), so we need to set it again here.\u001b[39;00m\n\u001b[0;32m   2318\u001b[0m     \u001b[38;5;28;01mwith\u001b[39;00m cbook\u001b[38;5;241m.\u001b[39m_setattr_cm(\u001b[38;5;28mself\u001b[39m\u001b[38;5;241m.\u001b[39mfigure, dpi\u001b[38;5;241m=\u001b[39mdpi):\n\u001b[1;32m-> 2319\u001b[0m         result \u001b[38;5;241m=\u001b[39m print_method(\n\u001b[0;32m   2320\u001b[0m             filename,\n\u001b[0;32m   2321\u001b[0m             facecolor\u001b[38;5;241m=\u001b[39mfacecolor,\n\u001b[0;32m   2322\u001b[0m             edgecolor\u001b[38;5;241m=\u001b[39medgecolor,\n\u001b[0;32m   2323\u001b[0m             orientation\u001b[38;5;241m=\u001b[39morientation,\n\u001b[0;32m   2324\u001b[0m             bbox_inches_restore\u001b[38;5;241m=\u001b[39m_bbox_inches_restore,\n\u001b[0;32m   2325\u001b[0m             \u001b[38;5;241m*\u001b[39m\u001b[38;5;241m*\u001b[39mkwargs)\n\u001b[0;32m   2326\u001b[0m \u001b[38;5;28;01mfinally\u001b[39;00m:\n\u001b[0;32m   2327\u001b[0m     \u001b[38;5;28;01mif\u001b[39;00m bbox_inches \u001b[38;5;129;01mand\u001b[39;00m restore_bbox:\n",
      "File \u001b[1;32m~\\Anaconda3\\lib\\site-packages\\matplotlib\\backend_bases.py:1648\u001b[0m, in \u001b[0;36m_check_savefig_extra_args.<locals>.wrapper\u001b[1;34m(*args, **kwargs)\u001b[0m\n\u001b[0;32m   1640\u001b[0m     _api\u001b[38;5;241m.\u001b[39mwarn_deprecated(\n\u001b[0;32m   1641\u001b[0m         \u001b[38;5;124m'\u001b[39m\u001b[38;5;124m3.3\u001b[39m\u001b[38;5;124m'\u001b[39m, name\u001b[38;5;241m=\u001b[39mname, removal\u001b[38;5;241m=\u001b[39m\u001b[38;5;124m'\u001b[39m\u001b[38;5;124m3.6\u001b[39m\u001b[38;5;124m'\u001b[39m,\n\u001b[0;32m   1642\u001b[0m         message\u001b[38;5;241m=\u001b[39m\u001b[38;5;124m'\u001b[39m\u001b[38;5;132;01m%(name)s\u001b[39;00m\u001b[38;5;124m() got unexpected keyword argument \u001b[39m\u001b[38;5;124m\"\u001b[39m\u001b[38;5;124m'\u001b[39m\n\u001b[0;32m   1643\u001b[0m                 \u001b[38;5;241m+\u001b[39m arg \u001b[38;5;241m+\u001b[39m \u001b[38;5;124m'\u001b[39m\u001b[38;5;124m\"\u001b[39m\u001b[38;5;124m which is no longer supported as of \u001b[39m\u001b[38;5;124m'\u001b[39m\n\u001b[0;32m   1644\u001b[0m                 \u001b[38;5;124m'\u001b[39m\u001b[38;5;132;01m%(since)s\u001b[39;00m\u001b[38;5;124m and will become an error \u001b[39m\u001b[38;5;124m'\u001b[39m\n\u001b[0;32m   1645\u001b[0m                 \u001b[38;5;124m'\u001b[39m\u001b[38;5;132;01m%(removal)s\u001b[39;00m\u001b[38;5;124m'\u001b[39m)\n\u001b[0;32m   1646\u001b[0m     kwargs\u001b[38;5;241m.\u001b[39mpop(arg)\n\u001b[1;32m-> 1648\u001b[0m \u001b[38;5;28;01mreturn\u001b[39;00m func(\u001b[38;5;241m*\u001b[39margs, \u001b[38;5;241m*\u001b[39m\u001b[38;5;241m*\u001b[39mkwargs)\n",
      "File \u001b[1;32m~\\Anaconda3\\lib\\site-packages\\matplotlib\\_api\\deprecation.py:412\u001b[0m, in \u001b[0;36mdelete_parameter.<locals>.wrapper\u001b[1;34m(*inner_args, **inner_kwargs)\u001b[0m\n\u001b[0;32m    402\u001b[0m     deprecation_addendum \u001b[38;5;241m=\u001b[39m (\n\u001b[0;32m    403\u001b[0m         \u001b[38;5;124mf\u001b[39m\u001b[38;5;124m\"\u001b[39m\u001b[38;5;124mIf any parameter follows \u001b[39m\u001b[38;5;132;01m{\u001b[39;00mname\u001b[38;5;132;01m!r}\u001b[39;00m\u001b[38;5;124m, they should be passed as \u001b[39m\u001b[38;5;124m\"\u001b[39m\n\u001b[0;32m    404\u001b[0m         \u001b[38;5;124mf\u001b[39m\u001b[38;5;124m\"\u001b[39m\u001b[38;5;124mkeyword, not positionally.\u001b[39m\u001b[38;5;124m\"\u001b[39m)\n\u001b[0;32m    405\u001b[0m     warn_deprecated(\n\u001b[0;32m    406\u001b[0m         since,\n\u001b[0;32m    407\u001b[0m         name\u001b[38;5;241m=\u001b[39m\u001b[38;5;28mrepr\u001b[39m(name),\n\u001b[1;32m   (...)\u001b[0m\n\u001b[0;32m    410\u001b[0m                  \u001b[38;5;28;01melse\u001b[39;00m deprecation_addendum,\n\u001b[0;32m    411\u001b[0m         \u001b[38;5;241m*\u001b[39m\u001b[38;5;241m*\u001b[39mkwargs)\n\u001b[1;32m--> 412\u001b[0m \u001b[38;5;28;01mreturn\u001b[39;00m func(\u001b[38;5;241m*\u001b[39minner_args, \u001b[38;5;241m*\u001b[39m\u001b[38;5;241m*\u001b[39minner_kwargs)\n",
      "File \u001b[1;32m~\\Anaconda3\\lib\\site-packages\\matplotlib\\backends\\backend_agg.py:541\u001b[0m, in \u001b[0;36mFigureCanvasAgg.print_png\u001b[1;34m(self, filename_or_obj, metadata, pil_kwargs, *args)\u001b[0m\n\u001b[0;32m    494\u001b[0m \u001b[38;5;124;03m\"\"\"\u001b[39;00m\n\u001b[0;32m    495\u001b[0m \u001b[38;5;124;03mWrite the figure to a PNG file.\u001b[39;00m\n\u001b[0;32m    496\u001b[0m \n\u001b[1;32m   (...)\u001b[0m\n\u001b[0;32m    538\u001b[0m \u001b[38;5;124;03m    *metadata*, including the default 'Software' key.\u001b[39;00m\n\u001b[0;32m    539\u001b[0m \u001b[38;5;124;03m\"\"\"\u001b[39;00m\n\u001b[0;32m    540\u001b[0m FigureCanvasAgg\u001b[38;5;241m.\u001b[39mdraw(\u001b[38;5;28mself\u001b[39m)\n\u001b[1;32m--> 541\u001b[0m \u001b[43mmpl\u001b[49m\u001b[38;5;241;43m.\u001b[39;49m\u001b[43mimage\u001b[49m\u001b[38;5;241;43m.\u001b[39;49m\u001b[43mimsave\u001b[49m\u001b[43m(\u001b[49m\n\u001b[0;32m    542\u001b[0m \u001b[43m    \u001b[49m\u001b[43mfilename_or_obj\u001b[49m\u001b[43m,\u001b[49m\u001b[43m \u001b[49m\u001b[38;5;28;43mself\u001b[39;49m\u001b[38;5;241;43m.\u001b[39;49m\u001b[43mbuffer_rgba\u001b[49m\u001b[43m(\u001b[49m\u001b[43m)\u001b[49m\u001b[43m,\u001b[49m\u001b[43m \u001b[49m\u001b[38;5;28;43mformat\u001b[39;49m\u001b[38;5;241;43m=\u001b[39;49m\u001b[38;5;124;43m\"\u001b[39;49m\u001b[38;5;124;43mpng\u001b[39;49m\u001b[38;5;124;43m\"\u001b[39;49m\u001b[43m,\u001b[49m\u001b[43m \u001b[49m\u001b[43morigin\u001b[49m\u001b[38;5;241;43m=\u001b[39;49m\u001b[38;5;124;43m\"\u001b[39;49m\u001b[38;5;124;43mupper\u001b[39;49m\u001b[38;5;124;43m\"\u001b[39;49m\u001b[43m,\u001b[49m\n\u001b[0;32m    543\u001b[0m \u001b[43m    \u001b[49m\u001b[43mdpi\u001b[49m\u001b[38;5;241;43m=\u001b[39;49m\u001b[38;5;28;43mself\u001b[39;49m\u001b[38;5;241;43m.\u001b[39;49m\u001b[43mfigure\u001b[49m\u001b[38;5;241;43m.\u001b[39;49m\u001b[43mdpi\u001b[49m\u001b[43m,\u001b[49m\u001b[43m \u001b[49m\u001b[43mmetadata\u001b[49m\u001b[38;5;241;43m=\u001b[39;49m\u001b[43mmetadata\u001b[49m\u001b[43m,\u001b[49m\u001b[43m \u001b[49m\u001b[43mpil_kwargs\u001b[49m\u001b[38;5;241;43m=\u001b[39;49m\u001b[43mpil_kwargs\u001b[49m\u001b[43m)\u001b[49m\n",
      "File \u001b[1;32m~\\Anaconda3\\lib\\site-packages\\matplotlib\\image.py:1675\u001b[0m, in \u001b[0;36mimsave\u001b[1;34m(fname, arr, vmin, vmax, cmap, format, origin, dpi, metadata, pil_kwargs)\u001b[0m\n\u001b[0;32m   1673\u001b[0m pil_kwargs\u001b[38;5;241m.\u001b[39msetdefault(\u001b[38;5;124m\"\u001b[39m\u001b[38;5;124mformat\u001b[39m\u001b[38;5;124m\"\u001b[39m, \u001b[38;5;28mformat\u001b[39m)\n\u001b[0;32m   1674\u001b[0m pil_kwargs\u001b[38;5;241m.\u001b[39msetdefault(\u001b[38;5;124m\"\u001b[39m\u001b[38;5;124mdpi\u001b[39m\u001b[38;5;124m\"\u001b[39m, (dpi, dpi))\n\u001b[1;32m-> 1675\u001b[0m image\u001b[38;5;241m.\u001b[39msave(fname, \u001b[38;5;241m*\u001b[39m\u001b[38;5;241m*\u001b[39mpil_kwargs)\n",
      "File \u001b[1;32m~\\Anaconda3\\lib\\site-packages\\PIL\\Image.py:2209\u001b[0m, in \u001b[0;36mImage.save\u001b[1;34m(self, fp, format, **params)\u001b[0m\n\u001b[0;32m   2207\u001b[0m         fp \u001b[38;5;241m=\u001b[39m builtins\u001b[38;5;241m.\u001b[39mopen(filename, \u001b[38;5;124m\"\u001b[39m\u001b[38;5;124mr+b\u001b[39m\u001b[38;5;124m\"\u001b[39m)\n\u001b[0;32m   2208\u001b[0m     \u001b[38;5;28;01melse\u001b[39;00m:\n\u001b[1;32m-> 2209\u001b[0m         fp \u001b[38;5;241m=\u001b[39m \u001b[43mbuiltins\u001b[49m\u001b[38;5;241;43m.\u001b[39;49m\u001b[43mopen\u001b[49m\u001b[43m(\u001b[49m\u001b[43mfilename\u001b[49m\u001b[43m,\u001b[49m\u001b[43m \u001b[49m\u001b[38;5;124;43m\"\u001b[39;49m\u001b[38;5;124;43mw+b\u001b[39;49m\u001b[38;5;124;43m\"\u001b[39;49m\u001b[43m)\u001b[49m\n\u001b[0;32m   2211\u001b[0m \u001b[38;5;28;01mtry\u001b[39;00m:\n\u001b[0;32m   2212\u001b[0m     save_handler(\u001b[38;5;28mself\u001b[39m, fp, filename)\n",
      "\u001b[1;31mFileNotFoundError\u001b[0m: [Errno 2] No such file or directory: 'Plots/Metric_Plots/Aug2 Accuracy.png'"
     ]
    },
    {
     "data": {
      "image/png": "[encoded data removed]",
      "text/plain": [
       "<Figure size 432x288 with 1 Axes>"
      ]
     },
     "metadata": {
      "needs_background": "light"
     },
     "output_type": "display_data"
    }
   ],
   "source": [
    "baselineMetrics = pd.read_csv(\"Results/Baseline_metrics.csv\")\n",
    "aug1Metrics = pd.read_csv(\"Results/Aug1_metrics.csv\")\n",
    "aug2Metrics = pd.read_csv(\"Results/Aug2_metrics.csv\")\n",
    "\n",
    "# https://stackoverflow.com/questions/66785014/how-to-plot-the-accuracy-and-and-loss-from-this-keras-cnn-model\n",
    "import matplotlib.pyplot as plt\n",
    "\n",
    "model = baselineMetrics\n",
    "modelName = \"Baseline\"\n",
    "\n",
    "# summarize history for accuracy\n",
    "plt.plot(model[\"accuracy\"])\n",
    "plt.plot(model['val_accuracy'])\n",
    "plt.title(\"Model Accuracy - \"+modelName)\n",
    "plt.ylabel(\"Accuracy\")\n",
    "plt.xlabel(\"Epoch\")\n",
    "plt.legend([\"Train\", \"Validation\"], loc=\"upper left\")\n",
    "plt.savefig(\"Plots/Metric_Plots/\"+modelName+\" Accuracy\", bbox_inches=\"tight\")\n",
    "plt.show()\n",
    "\n",
    "\n",
    "# summarize history for f1-score\n",
    "plt.plot(model[\"macro_f1_score\"])\n",
    "plt.plot(model['val_macro_f1_score'])\n",
    "plt.title(\"Model F1-Score - \"+modelName)\n",
    "plt.ylabel(\"F1-Score\")\n",
    "plt.xlabel(\"Epoch\")\n",
    "plt.legend([\"Train\", \"Validation\"], loc=\"upper left\")\n",
    "plt.savefig(\"Plots/Metric_Plots/\"+modelName+\" F1-score\", bbox_inches=\"tight\")\n",
    "plt.show()\n",
    "\n",
    "\n",
    "# summarize history for loss\n",
    "plt.plot(model[\"loss\"])\n",
    "plt.plot(model['val_loss'])\n",
    "plt.title(\"Model Loss - \"+modelName)\n",
    "plt.ylabel(\"Loss\")\n",
    "plt.xlabel(\"Epoch\")\n",
    "plt.legend([\"Train\", \"Validation\"], loc=\"upper left\")\n",
    "plt.savefig(\"Plots/Metric_Plots/\"+modelName+\" Loss\", bbox_inches=\"tight\")\n",
    "plt.show()"
   ]
  },
  {
   "cell_type": "markdown",
   "id": "ddb796e9",
   "metadata": {},
   "source": [
    "# Confusion Matrix"
   ]
  },
  {
   "cell_type": "code",
   "execution_count": null,
   "id": "08377047",
   "metadata": {},
   "outputs": [],
   "source": [
    "#https://datascience.stackexchange.com/questions/95009/good-model-but-bad-confusion-matrix"
   ]
  },
  {
   "cell_type": "markdown",
   "id": "cc2197cf",
   "metadata": {},
   "source": [
    "## Baseline"
   ]
  },
  {
   "cell_type": "code",
   "execution_count": 5,
   "id": "9cb985e8",
   "metadata": {},
   "outputs": [
    {
     "name": "stdout",
     "output_type": "stream",
     "text": [
      "8/8 [==============================] - 26s 3s/step\n",
      "Found 495 images belonging to 5 classes.\n"
     ]
    },
    {
     "data": {
      "image/png": "[encoded data removed]",
      "text/plain": [
       "<Figure size 432x288 with 2 Axes>"
      ]
     },
     "metadata": {
      "needs_background": "light"
     },
     "output_type": "display_data"
    }
   ],
   "source": [
    "# Predict probabilities for each sample\n",
    "predicted_probs = savedModelBaseline.predict(testData)\n",
    "\n",
    "# Set up the test data generator and flow\n",
    "test_data_generator = tf.keras.preprocessing.image.ImageDataGenerator(preprocessing_function=tf.keras.applications.resnet.preprocess_input)\n",
    "test_data_flow = test_data_generator.flow_from_directory(\"SpectrogramData_Formatted/test\", target_size=(235, 352, 3), batch_size=64, shuffle=False)\n",
    "\n",
    "# Extract true class labels and predicted class indices\n",
    "true_labels = test_data_flow.classes\n",
    "predicted_labels = np.argmax(predicted_probs, axis=1)\n",
    "class_labels = list(test_data_flow.class_indices.keys())\n",
    "\n",
    "confusion_mat_baseline = confusion_matrix(true_labels, predicted_labels)\n",
    "\n",
    "sns.heatmap(confusion_mat_baseline, annot=True, fmt='d', cmap='Blues', xticklabels=class_labels, yticklabels=class_labels)\n",
    "plt.savefig('Results/Plots/Confusion_Matrices/confusion_matrix_Baseline.png', bbox_inches='tight')\n",
    "\n"
   ]
  },
  {
   "cell_type": "code",
   "execution_count": null,
   "id": "55846022",
   "metadata": {},
   "outputs": [],
   "source": []
  },
  {
   "cell_type": "markdown",
   "id": "2cbc5762",
   "metadata": {},
   "source": [
    "## Augmentation 1"
   ]
  },
  {
   "cell_type": "code",
   "execution_count": 76,
   "id": "ac82fa20",
   "metadata": {},
   "outputs": [
    {
     "name": "stdout",
     "output_type": "stream",
     "text": [
      "8/8 [==============================] - 27s 3s/step\n",
      "Found 495 images belonging to 5 classes.\n"
     ]
    },
    {
     "data": {
      "image/png": "[encoded data removed]",
      "text/plain": [
       "<Figure size 432x288 with 2 Axes>"
      ]
     },
     "metadata": {
      "needs_background": "light"
     },
     "output_type": "display_data"
    }
   ],
   "source": [
    "# Predict probabilities for each sample\n",
    "predicted_probs = savedModelAug1.predict(testData)\n",
    "\n",
    "# Set up the test data generator and flow\n",
    "test_data_generator = tf.keras.preprocessing.image.ImageDataGenerator(preprocessing_function=tf.keras.applications.resnet.preprocess_input)\n",
    "test_data_flow = test_data_generator.flow_from_directory(\"SpectrogramData_Formatted/test\", target_size=(235, 352, 3), batch_size=64, shuffle=False)\n",
    "\n",
    "# Extract true class labels and predicted class indices\n",
    "true_labels = test_data_flow.classes\n",
    "predicted_labels = np.argmax(predicted_probs, axis=1)\n",
    "class_labels = list(test_data_flow.class_indices.keys())\n",
    "\n",
    "confusion_mat_aug1 = confusion_matrix(true_labels, predicted_labels)\n",
    "\n",
    "sns.heatmap(confusion_mat_aug1, annot=True, fmt='d', cmap='Blues', xticklabels=class_labels, yticklabels=class_labels)\n",
    "plt.savefig('Results/Plots/Confusion_Matrices/confusion_matrix_Aug1.png', bbox_inches='tight')\n",
    "\n"
   ]
  },
  {
   "cell_type": "code",
   "execution_count": null,
   "id": "a03eb337",
   "metadata": {},
   "outputs": [],
   "source": []
  },
  {
   "cell_type": "markdown",
   "id": "60023288",
   "metadata": {},
   "source": [
    "## Diff Baseline to Aug1"
   ]
  },
  {
   "cell_type": "code",
   "execution_count": 33,
   "id": "bb279eb9",
   "metadata": {},
   "outputs": [
    {
     "data": {
      "image/png": "[encoded data removed]",
      "text/plain": [
       "<Figure size 432x288 with 2 Axes>"
      ]
     },
     "metadata": {
      "needs_background": "light"
     },
     "output_type": "display_data"
    }
   ],
   "source": [
    "diffAug1 = confusion_mat_aug1 - confusion_mat_baseline\n",
    "class_labels = list(test_data_flow.class_indices.keys())\n",
    "sns.heatmap(diffAug1, annot=True, fmt='d', cmap='Blues', xticklabels=class_labels, yticklabels=class_labels)\n",
    "plt.savefig('Results/Plots/Confusion_Matrices/confusion_matrix_diffAug1.png', bbox_inches='tight')\n"
   ]
  },
  {
   "cell_type": "markdown",
   "id": "4f2302a8",
   "metadata": {},
   "source": [
    "## Augmentation 2"
   ]
  },
  {
   "cell_type": "code",
   "execution_count": null,
   "id": "0fc69212",
   "metadata": {},
   "outputs": [],
   "source": [
    "# Get predicted probabilities for each sample\n",
    "predicted_probs = savedModelAug2.predict(testData)\n",
    "\n",
    "\n",
    "# Get true class labels and predicted class indices\n",
    "test_data_generator = tf.keras.preprocessing.image.ImageDataGenerator(preprocessing_function=tf.keras.applications.resnet.preprocess_input)\n",
    "test_data_flow = test_data_generator.flow_from_directory(\"SpectrogramData_Formatted/test\", target_size=(235, 352), batch_size=64, shuffle=False)\n",
    "\n",
    "true_labels = test_data_flow.classes\n",
    "predicted_labels = np.argmax(predicted_probs, axis=1)\n",
    "\n",
    "# Calculate the confusion matrix\n",
    "confusion_mat_aug2 = confusion_matrix(true_labels, predicted_labels)\n",
    "class_labels = [\"Electric\", \"Experimental\", \"Folk\", \"Hip-Hop\", \"Instrumental\", \"International\", \"Pop\", \"Rock\"]\n",
    "sns.heatmap(confusion_mat_aug2, annot=True, fmt='d', cmap='Blues', xticklabels=class_labels, yticklabels=class_labels)\n",
    "plt.savefig('Results/Plots/Confusion_Matrices/confusion_matrix_Aug2.png', bbox_inches='tight')\n"
   ]
  },
  {
   "cell_type": "markdown",
   "id": "06c4a9bf",
   "metadata": {},
   "source": [
    "## Diff Baseline to Aug2"
   ]
  },
  {
   "cell_type": "code",
   "execution_count": null,
   "id": "b4571054",
   "metadata": {},
   "outputs": [],
   "source": [
    "diffAug2 = confusion_mat_aug2 - confusion_mat_baseline\n",
    "class_labels = list(test_data_flow.class_indices.keys())\n",
    "sns.heatmap(diffAug2, annot=True, fmt='d', cmap='Blues', xticklabels=class_labels, yticklabels=class_labels)\n",
    "plt.savefig('Results/Plots/Confusion_Matrices/confusion_matrix_diffAug2.png', bbox_inches='tight')\n"
   ]
  },
  {
   "cell_type": "code",
   "execution_count": null,
   "id": "13872629",
   "metadata": {},
   "outputs": [],
   "source": []
  },
  {
   "cell_type": "code",
   "execution_count": null,
   "id": "7ef1962e",
   "metadata": {},
   "outputs": [],
   "source": []
  },
  {
   "cell_type": "code",
   "execution_count": null,
   "id": "7a59f977",
   "metadata": {},
   "outputs": [],
   "source": []
  },
  {
   "cell_type": "markdown",
   "id": "60d62b03",
   "metadata": {},
   "source": [
    "# Saliency Map"
   ]
  },
  {
   "cell_type": "code",
   "execution_count": null,
   "id": "9df3b395",
   "metadata": {},
   "outputs": [],
   "source": [
    "from tensorflow.keras.preprocessing import image\n",
    "import matplotlib.pyplot as plt\n",
    "import numpy as np\n",
    "import os\n",
    "import tensorflow as tf\n",
    "\n",
    "# Load your pre-trained model (replace this with your actual model loading code)\n",
    "#savedModelBaseline = tf.keras.models.load_model(\"path_to_your_model\")\n",
    "\n",
    "def calculate_saliency(image_path, model):\n",
    "    img = image.load_img(image_path, target_size=(235, 352))\n",
    "    img_array = image.img_to_array(img)\n",
    "    img_array = np.expand_dims(img_array, axis=0)\n",
    "    img_array = tf.keras.applications.resnet.preprocess_input(img_array)\n",
    "\n",
    "    img_tensor = tf.convert_to_tensor(img_array)\n",
    "    \n",
    "    with tf.GradientTape() as tape:\n",
    "        tape.watch(img_tensor)\n",
    "        predictions = model(img_tensor)\n",
    "        top_prediction = predictions[0, np.argmax(predictions)]\n",
    "    gradient = tape.gradient(top_prediction, img_tensor)\n",
    "    saliency_map = tf.reduce_max(gradient, axis=-1)\n",
    "    \n",
    "    # Normalize the saliency map\n",
    "    saliency_map = (saliency_map - tf.reduce_min(saliency_map)) / (tf.reduce_max(saliency_map) - tf.reduce_min(saliency_map))\n",
    "    return saliency_map\n",
    "\n",
    "genre_labels = [\"Electric\", \"Experimental\", \"Folk\", \"Hip-Hop\", \"Instrumental\", \"International\", \"Pop\", \"Rock\"]\n",
    "\n",
    "for genre in genre_labels:\n",
    "    image_directory = \"SpectrogramData_Formatted/test/\"+genre\n",
    "    image_files = os.listdir(image_directory)\n",
    "\n",
    "    # Initialize an array to store all the saliency maps\n",
    "    all_saliency_maps = []\n",
    "\n",
    "    # Loop through all image files\n",
    "    count = 0\n",
    "    items = os.listdir(image_directory)\n",
    "    spectrogram_count = len(items)\n",
    "\n",
    "    for image_file in image_files:\n",
    "        image_path = os.path.join(image_directory, image_file)\n",
    "        count += 1\n",
    "        print(count/spectrogram_count)\n",
    "        saliency_map = calculate_saliency(image_path, savedModelAug2)\n",
    "        all_saliency_maps.append(saliency_map)\n",
    "\n",
    "    # Calculate the average saliency map\n",
    "    average_saliency_map = np.mean(all_saliency_maps, axis=0)\n",
    "\n",
    "    # Normalize the average saliency map\n",
    "    average_saliency_map = (average_saliency_map - np.min(average_saliency_map)) / (np.max(average_saliency_map) - np.min(average_saliency_map))\n",
    "\n",
    "    # Visualize the average saliency map\n",
    "    plt.imshow(average_saliency_map[0], cmap=\"jet\")\n",
    "    plt.axis(\"off\")\n",
    "    plt.savefig(\"saliencyAverage\"+genre+\".png\", bbox_inches=\"tight\")\n",
    "    plt.show()\n"
   ]
  },
  {
   "cell_type": "code",
   "execution_count": null,
   "id": "b0fe4d8b",
   "metadata": {},
   "outputs": [],
   "source": []
  },
  {
   "cell_type": "code",
   "execution_count": null,
   "id": "09d0ed6f",
   "metadata": {},
   "outputs": [],
   "source": []
  },
  {
   "cell_type": "code",
   "execution_count": null,
   "id": "04a88471",
   "metadata": {},
   "outputs": [],
   "source": [
    "calculate_saliency(\"SpectrogramData_Formatted/test/Pop/10.png\", savedModelAug2)"
   ]
  },
  {
   "cell_type": "code",
   "execution_count": null,
   "id": "f1d5416f",
   "metadata": {
    "scrolled": true
   },
   "outputs": [],
   "source": [
    "from PIL import Image\n",
    "\n",
    "image_path_ = \"SpectrogramData_Formatted/training_Noise+/Pop/3535.png\"\n",
    "image_path_Aug = \"SpectrogramData_Formatted/training_Noise+/Pop/3535_Aug2.png\"\n",
    "\n",
    "\n",
    "img = image.load_img(image_path_, target_size=(235, 352))\n",
    "img_array = image.img_to_array(img)\n",
    "\n",
    "img = image.load_img(image_path_Aug, target_size=(235, 352))\n",
    "img_arrayAug = image.img_to_array(img)\n",
    "\n",
    "new_img = (img_arrayAug*1) - (img_array*1)\n",
    "\n",
    "# Display the NumPy array as an image using matplotlib\n",
    "plt.imshow(new_img)\n",
    "plt.axis(\"off\")  # Turn off axes\n",
    "plt.show()\n",
    "\n",
    "print(new_img)\n"
   ]
  },
  {
   "cell_type": "code",
   "execution_count": null,
   "id": "998299c7",
   "metadata": {},
   "outputs": [],
   "source": [
    "import numpy as np\n",
    "import matplotlib.pyplot as plt\n",
    "\n",
    "# Load or generate your original and augmented spectrograms\n",
    "original_spectrogram = image.load_img(\"SpectrogramData_Formatted/training_Noise+/Pop/3535.png\", target_size=(235, 352))\n",
    "original_spectrogram = image.img_to_array(original_spectrogram)\n",
    "augmented_spectrogram = image.load_img(\"SpectrogramData_Formatted/training_Noise+/Pop/3535_Aug2.png\", target_size=(235, 352))\n",
    "augmented_spectrogram = image.img_to_array(augmented_spectrogram)\n",
    "\n",
    "# Compute the absolute difference between the two spectrograms\n",
    "spectrogram_difference = np.abs(augmented_spectrogram - original_spectrogram)\n",
    "\n",
    "# Apply the threshold by setting differences below the threshold to zero\n",
    "spectrogram_difference[spectrogram_difference > 0.8]\n",
    "\n",
    "# Plot the original spectrogram\n",
    "plt.figure(figsize=(15, 5))\n",
    "plt.subplot(1, 3, 1)\n",
    "plt.imshow(original_spectrogram, cmap='viridis', aspect='auto')\n",
    "plt.title('Original Spectrogram')\n",
    "plt.colorbar()\n",
    "\n",
    "# Plot the augmented spectrogram\n",
    "plt.subplot(1, 3, 2)\n",
    "plt.imshow(augmented_spectrogram, cmap='viridis', aspect='auto')\n",
    "plt.title('Augmented Spectrogram')\n",
    "plt.colorbar()\n",
    "\n",
    "# Plot the spectrogram difference\n",
    "plt.subplot(1, 3, 3)\n",
    "plt.imshow(spectrogram_difference, cmap='viridis', aspect='auto')\n",
    "plt.title('Spectrogram Difference')\n",
    "plt.colorbar()\n",
    "\n",
    "plt.tight_layout()\n",
    "plt.show()\n"
   ]
  },
  {
   "cell_type": "code",
   "execution_count": null,
   "id": "10e9c9a0",
   "metadata": {},
   "outputs": [],
   "source": []
  },
  {
   "cell_type": "code",
   "execution_count": null,
   "id": "34c421be",
   "metadata": {},
   "outputs": [],
   "source": []
  }
 ],
 "metadata": {
  "kernelspec": {
   "display_name": "Python 3 (ipykernel)",
   "language": "python",
   "name": "python3"
  },
  "language_info": {
   "codemirror_mode": {
    "name": "ipython",
    "version": 3
   },
   "file_extension": ".py",
   "mimetype": "text/x-python",
   "name": "python",
   "nbconvert_exporter": "python",
   "pygments_lexer": "ipython3",
   "version": "3.9.12"
  }
 },
 "nbformat": 4,
 "nbformat_minor": 5
}
