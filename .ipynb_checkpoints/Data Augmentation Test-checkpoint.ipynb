{
 "cells": [
  {
   "cell_type": "code",
   "execution_count": 2,
   "id": "cadade1b",
   "metadata": {},
   "outputs": [],
   "source": [
    "import librosa\n",
    "import numpy as np\n",
    "import pandas as pd\n",
    "import matplotlib.pyplot as plt\n",
    "import os\n",
    "import time\n"
   ]
  },
  {
   "cell_type": "markdown",
   "id": "1a314eae",
   "metadata": {},
   "source": [
    "# New dataframe with paths to every raw audio file"
   ]
  },
  {
   "cell_type": "code",
   "execution_count": 3,
   "id": "e9717137",
   "metadata": {},
   "outputs": [
    {
     "data": {
      "text/html": [
       "<div>\n",
       "<style scoped>\n",
       "    .dataframe tbody tr th:only-of-type {\n",
       "        vertical-align: middle;\n",
       "    }\n",
       "\n",
       "    .dataframe tbody tr th {\n",
       "        vertical-align: top;\n",
       "    }\n",
       "\n",
       "    .dataframe thead th {\n",
       "        text-align: right;\n",
       "    }\n",
       "</style>\n",
       "<table border=\"1\" class=\"dataframe\">\n",
       "  <thead>\n",
       "    <tr style=\"text-align: right;\">\n",
       "      <th></th>\n",
       "      <th>Song ID</th>\n",
       "      <th>Genre</th>\n",
       "    </tr>\n",
       "  </thead>\n",
       "  <tbody>\n",
       "    <tr>\n",
       "      <th>0</th>\n",
       "      <td>2</td>\n",
       "      <td>Hip-Hop</td>\n",
       "    </tr>\n",
       "    <tr>\n",
       "      <th>1</th>\n",
       "      <td>5</td>\n",
       "      <td>Hip-Hop</td>\n",
       "    </tr>\n",
       "    <tr>\n",
       "      <th>2</th>\n",
       "      <td>10</td>\n",
       "      <td>Pop</td>\n",
       "    </tr>\n",
       "    <tr>\n",
       "      <th>3</th>\n",
       "      <td>140</td>\n",
       "      <td>Folk</td>\n",
       "    </tr>\n",
       "    <tr>\n",
       "      <th>4</th>\n",
       "      <td>141</td>\n",
       "      <td>Folk</td>\n",
       "    </tr>\n",
       "    <tr>\n",
       "      <th>...</th>\n",
       "      <td>...</td>\n",
       "      <td>...</td>\n",
       "    </tr>\n",
       "    <tr>\n",
       "      <th>7893</th>\n",
       "      <td>153955</td>\n",
       "      <td>Pop</td>\n",
       "    </tr>\n",
       "    <tr>\n",
       "      <th>7894</th>\n",
       "      <td>153956</td>\n",
       "      <td>Pop</td>\n",
       "    </tr>\n",
       "    <tr>\n",
       "      <th>7901</th>\n",
       "      <td>154413</td>\n",
       "      <td>Pop</td>\n",
       "    </tr>\n",
       "    <tr>\n",
       "      <th>7902</th>\n",
       "      <td>154414</td>\n",
       "      <td>Pop</td>\n",
       "    </tr>\n",
       "    <tr>\n",
       "      <th>7903</th>\n",
       "      <td>155066</td>\n",
       "      <td>Hip-Hop</td>\n",
       "    </tr>\n",
       "  </tbody>\n",
       "</table>\n",
       "<p>7115 rows × 2 columns</p>\n",
       "</div>"
      ],
      "text/plain": [
       "      Song ID    Genre\n",
       "0           2  Hip-Hop\n",
       "1           5  Hip-Hop\n",
       "2          10      Pop\n",
       "3         140     Folk\n",
       "4         141     Folk\n",
       "...       ...      ...\n",
       "7893   153955      Pop\n",
       "7894   153956      Pop\n",
       "7901   154413      Pop\n",
       "7902   154414      Pop\n",
       "7903   155066  Hip-Hop\n",
       "\n",
       "[7115 rows x 2 columns]"
      ]
     },
     "execution_count": 3,
     "metadata": {},
     "output_type": "execute_result"
    }
   ],
   "source": [
    "fma_small = pd.read_csv(\"fma_small.csv\")\n",
    "fma_small_training = fma_small[fma_small[\"Set\"] == \"training\"]\n",
    "rawAudio_training = fma_small_training[[\"Song ID\",\"Genre\"]]\n",
    "\n",
    "fma_small_test = fma_small[fma_small[\"Set\"] == \"test\"]\n",
    "rawAudio_test = fma_small_test[[\"Song ID\",\"Genre\"]]\n",
    "\n",
    "rawAudio_training"
   ]
  },
  {
   "cell_type": "code",
   "execution_count": null,
   "id": "c0ccf34d",
   "metadata": {},
   "outputs": [],
   "source": []
  },
  {
   "cell_type": "markdown",
   "id": "5a7215b4",
   "metadata": {},
   "source": [
    "Argumentations:\n",
    " - Half tone pitch shifting\n",
    " - One tone pitch shifting\n",
    " - Noise injection\n",
    " - Each combination (Tone pitch either or)"
   ]
  },
  {
   "cell_type": "code",
   "execution_count": 4,
   "id": "b357994e",
   "metadata": {},
   "outputs": [],
   "source": [
    "def pitch_shift_(AUDIO_FILE, pitch_factor): # 1 semitone = 0.5 tone, 2 semitones = 1 tone shift\n",
    "    data, sr = librosa.load(AUDIO_FILE)\n",
    "    #print(data)\n",
    "    return librosa.effects.pitch_shift(data, sr=sr, n_steps = pitch_factor)\n",
    "\n",
    "\n",
    "def add_noise(AUDIO_FILE, noise_factor): # 0.005\n",
    "    data, sr = librosa.load(AUDIO_FILE)\n",
    "    \n",
    "    noise = np.random.randn(len(data))\n",
    "    augmented_data = data + noise_factor * noise\n",
    "    augmented_data = augmented_data.astype(type(data[0])) # Cast back to same data type\n",
    "    return augmented_data\n",
    "    \n",
    "    \n",
    "# https://towardsdatascience.com/data-augmentation-techniques-for-audio-data-in-python-15505483c63c#f531\n",
    "def change_speed(AUDIO_FILE, rate):\n",
    "    augmented_audio = librosa.effects.time_stretch(original_audio, rate = rate)\n",
    "    return augmented_audio\n",
    "\n",
    "\n",
    "def combined_argmentations(AUDIO_FILE): # 0.005 and 1\n",
    "    noise_factor = 0.005\n",
    "    pitch_factor = 1\n",
    "    \n",
    "    data, sr = librosa.load(AUDIO_FILE)\n",
    "    data2 = librosa.effects.pitch_shift(data, sr=sr, n_steps = pitch_factor)\n",
    "    \n",
    "    noise = np.random.randn(len(data2))\n",
    "    augmented_data = data2 + noise_factor * noise\n",
    "    augmented_data = augmented_data.astype(type(data2[0])) # Cast back to same data type\n",
    "    return augmented_data\n",
    "\n",
    "\n",
    "# Aug1 = Pitch shift 1\n",
    "# Aug2 = Add noise 0.005"
   ]
  },
  {
   "cell_type": "code",
   "execution_count": 6,
   "id": "50c04b33",
   "metadata": {},
   "outputs": [
    {
     "data": {
      "text/plain": [
       "660984"
      ]
     },
     "execution_count": 6,
     "metadata": {},
     "output_type": "execute_result"
    }
   ],
   "source": [
    "len(combined_argmentations(\"Data/fma_small/000/000002.mp3\"))\n"
   ]
  },
  {
   "cell_type": "code",
   "execution_count": 70,
   "id": "3d8fd2f7",
   "metadata": {},
   "outputs": [],
   "source": [
    "def MP3ToSpectrogram(AUDIO_FILE, file_Name, Genre): # Took the function from previous calculations of spectrograms\n",
    "    signal, sr = librosa.load(AUDIO_FILE)\n",
    "\n",
    "    # this is the number of samples in a window per fft\n",
    "    n_fft = 2048\n",
    "\n",
    "    # The amount of samples we are shifting after each fft\n",
    "    hop_length = 512\n",
    "    \n",
    "    ### CHANGE AUGMENTATION SCHEME HERE ###\n",
    "    #signal = pitch_shift_(path, 1)\n",
    "    signal = combined_argmentations(path)\n",
    "    \n",
    "    mel_signal = librosa.feature.melspectrogram(y=signal, sr=sr, hop_length=hop_length, n_fft=n_fft)\n",
    "    spectrogram = np.abs(mel_signal)\n",
    "    power_to_db = librosa.power_to_db(spectrogram, ref=np.max)\n",
    "    librosa.display.specshow(power_to_db, sr=sr, cmap=\"magma\", hop_length=hop_length) # x_axis=\"time\", y_axis=\"mel\"\n",
    "    plt.savefig(\"SpectrogramData_Formatted/training_Aug3/\"+Genre+\"/\"+file_Name+\".png\", bbox_inches=\"tight\")\n",
    "\n"
   ]
  },
  {
   "cell_type": "code",
   "execution_count": null,
   "id": "83aa60cf",
   "metadata": {},
   "outputs": [],
   "source": []
  },
  {
   "cell_type": "code",
   "execution_count": null,
   "id": "33a81e39",
   "metadata": {},
   "outputs": [],
   "source": [
    "maxLength = len(rawAudio_training)\n",
    "\n",
    "start_time = time.time()\n",
    "count = 0\n",
    "for index, row in rawAudio_training.iterrows():\n",
    "    count += 1\n",
    "    \n",
    "    filepath = \"SpectrogramData_Formatted/training_Aug3/\"+row[1]+\"/\"+str(row[0])+\"_aug3\"+\".png\"\n",
    "#    print(filepath)\n",
    "    if not os.path.exists(filepath): # If path does not exist\n",
    "        zerosToAdd = abs((len(str(row[0])) - 6)) # -6 since the max amount of numbers in the iD\n",
    "    #    print(\"zerosToAdd\", zerosToAdd)\n",
    "    \n",
    "        for i in range(zerosToAdd):\n",
    "            row[0] = \"0\"+str(row[0])\n",
    "        \n",
    "        folder = str(row[0])[0:3]\n",
    "        \n",
    "        path = \"Data/fma_small\"+\"/\"+folder+\"/\"+str(row[0])+\".mp3\"\n",
    "        MP3ToSpectrogram(path, str(int(row[0]))+\"_aug3\", row[1])\n",
    "        \n",
    "    else:\n",
    "        continue\n",
    "    \n",
    "    if count%10 == 0:\n",
    "        print(str(count)+\" of \"+str(maxLength))\n",
    "        print(str(round(count/maxLength*100, 2))+\"%\")\n",
    "        time_since_start = time.time() - start_time\n",
    "        print(f\"Time since start: {time_since_start:.2f} seconds\")\n",
    "        start_time = time.time()\n",
    "        print()\n",
    "\n",
    "\n"
   ]
  },
  {
   "cell_type": "code",
   "execution_count": null,
   "id": "5ab84e72",
   "metadata": {},
   "outputs": [],
   "source": []
  },
  {
   "cell_type": "code",
   "execution_count": null,
   "id": "f33ec136",
   "metadata": {},
   "outputs": [],
   "source": []
  },
  {
   "cell_type": "code",
   "execution_count": null,
   "id": "c4fe15f8",
   "metadata": {},
   "outputs": [],
   "source": []
  },
  {
   "cell_type": "code",
   "execution_count": 55,
   "id": "4d87c159",
   "metadata": {},
   "outputs": [
    {
     "name": "stdout",
     "output_type": "stream",
     "text": [
      "Corrupted images:\n",
      "SpectrogramData_Formatted/training_Aug1\\Electronic\\67640_aug1.png\n",
      "SpectrogramData_Formatted/training_Aug1\\Experimental\\146343_aug1.png\n"
     ]
    }
   ],
   "source": [
    "from PIL import Image\n",
    "import os\n",
    "\n",
    "def is_image_corrupted(image_path):\n",
    "    try:\n",
    "        Image.open(image_path).verify()\n",
    "        return False  # Image is not corrupted\n",
    "    except (IOError, SyntaxError):\n",
    "        return True   # Image is corrupted\n",
    "\n",
    "def find_corrupted_images(directory):\n",
    "    corrupted_images = []\n",
    "    for root, dirs, files in os.walk(directory):\n",
    "        for file in files:\n",
    "            image_path = os.path.join(root, file)\n",
    "            if is_image_corrupted(image_path):\n",
    "                corrupted_images.append(image_path)\n",
    "    return corrupted_images\n",
    "\n",
    "# Main directory containing images\n",
    "main_directory = \"SpectrogramData_Formatted/training_Aug1\"\n",
    "\n",
    "corrupted_images_list = find_corrupted_images(main_directory)\n",
    "\n",
    "print(\"Corrupted images:\")\n",
    "for image_path in corrupted_images_list:\n",
    "    print(image_path)\n"
   ]
  },
  {
   "cell_type": "code",
   "execution_count": 56,
   "id": "f3577663",
   "metadata": {},
   "outputs": [
    {
     "name": "stdout",
     "output_type": "stream",
     "text": [
      "Corrupted images:\n",
      "SpectrogramData_Formatted/training_Aug2\\Electronic\\31042_aug2.png\n",
      "SpectrogramData_Formatted/training_Aug2\\Folk\\144472_aug2.png\n"
     ]
    }
   ],
   "source": [
    "from PIL import Image\n",
    "import os\n",
    "\n",
    "def is_image_corrupted(image_path):\n",
    "    try:\n",
    "        Image.open(image_path).verify()\n",
    "        return False  # Image is not corrupted\n",
    "    except (IOError, SyntaxError):\n",
    "        return True   # Image is corrupted\n",
    "\n",
    "def find_corrupted_images(directory):\n",
    "    corrupted_images = []\n",
    "    for root, dirs, files in os.walk(directory):\n",
    "        for file in files:\n",
    "            image_path = os.path.join(root, file)\n",
    "            if is_image_corrupted(image_path):\n",
    "                corrupted_images.append(image_path)\n",
    "    return corrupted_images\n",
    "\n",
    "# Main directory containing images\n",
    "main_directory = \"SpectrogramData_Formatted/training_Aug2\"\n",
    "\n",
    "corrupted_images_list = find_corrupted_images(main_directory)\n",
    "\n",
    "print(\"Corrupted images:\")\n",
    "for image_path in corrupted_images_list:\n",
    "    print(image_path)\n"
   ]
  },
  {
   "cell_type": "code",
   "execution_count": null,
   "id": "ba637ed8",
   "metadata": {},
   "outputs": [],
   "source": []
  },
  {
   "cell_type": "code",
   "execution_count": null,
   "id": "b546ace2",
   "metadata": {},
   "outputs": [],
   "source": []
  },
  {
   "cell_type": "code",
   "execution_count": null,
   "id": "302cf899",
   "metadata": {},
   "outputs": [],
   "source": []
  }
 ],
 "metadata": {
  "kernelspec": {
   "display_name": "Python 3 (ipykernel)",
   "language": "python",
   "name": "python3"
  },
  "language_info": {
   "codemirror_mode": {
    "name": "ipython",
    "version": 3
   },
   "file_extension": ".py",
   "mimetype": "text/x-python",
   "name": "python",
   "nbconvert_exporter": "python",
   "pygments_lexer": "ipython3",
   "version": "3.9.12"
  }
 },
 "nbformat": 4,
 "nbformat_minor": 5
}
