{
 "cells": [
  {
   "cell_type": "code",
   "execution_count": 1,
   "id": "a5cc4734",
   "metadata": {},
   "outputs": [],
   "source": [
    "import numpy as np\n",
    "import pandas as pd\n",
    "import matplotlib.pyplot as plt\n",
    "import collections\n",
    "import os"
   ]
  },
  {
   "cell_type": "markdown",
   "id": "7be29188",
   "metadata": {},
   "source": [
    "# Formatting to only use the small subset of FMA metadata"
   ]
  },
  {
   "cell_type": "code",
   "execution_count": 2,
   "id": "c03188f9",
   "metadata": {},
   "outputs": [
    {
     "name": "stdout",
     "output_type": "stream",
     "text": [
      "Columns:  53\n",
      "Rows:  106576\n"
     ]
    },
    {
     "name": "stderr",
     "output_type": "stream",
     "text": [
      "C:\\Users\\Jespe\\AppData\\Local\\Temp\\ipykernel_2256\\1289758822.py:1: DtypeWarning: Columns (0,1,5,6,8,12,18,20,21,22,24,33,34,38,39,44,47,49) have mixed types. Specify dtype option on import or set low_memory=False.\n",
      "  FMA_Data = pd.read_csv(\"Data/fma_metadata/tracks.csv\")\n"
     ]
    },
    {
     "data": {
      "text/html": [
       "<div>\n",
       "<style scoped>\n",
       "    .dataframe tbody tr th:only-of-type {\n",
       "        vertical-align: middle;\n",
       "    }\n",
       "\n",
       "    .dataframe tbody tr th {\n",
       "        vertical-align: top;\n",
       "    }\n",
       "\n",
       "    .dataframe thead th {\n",
       "        text-align: right;\n",
       "    }\n",
       "</style>\n",
       "<table border=\"1\" class=\"dataframe\">\n",
       "  <thead>\n",
       "    <tr style=\"text-align: right;\">\n",
       "      <th></th>\n",
       "      <th>Unnamed: 0</th>\n",
       "      <th>album</th>\n",
       "      <th>album.1</th>\n",
       "      <th>album.2</th>\n",
       "      <th>album.3</th>\n",
       "      <th>album.4</th>\n",
       "      <th>album.5</th>\n",
       "      <th>album.6</th>\n",
       "      <th>album.7</th>\n",
       "      <th>album.8</th>\n",
       "      <th>...</th>\n",
       "      <th>track.10</th>\n",
       "      <th>track.11</th>\n",
       "      <th>track.12</th>\n",
       "      <th>track.13</th>\n",
       "      <th>track.14</th>\n",
       "      <th>track.15</th>\n",
       "      <th>track.16</th>\n",
       "      <th>track.17</th>\n",
       "      <th>track.18</th>\n",
       "      <th>track.19</th>\n",
       "    </tr>\n",
       "  </thead>\n",
       "  <tbody>\n",
       "    <tr>\n",
       "      <th>0</th>\n",
       "      <td>NaN</td>\n",
       "      <td>comments</td>\n",
       "      <td>date_created</td>\n",
       "      <td>date_released</td>\n",
       "      <td>engineer</td>\n",
       "      <td>favorites</td>\n",
       "      <td>id</td>\n",
       "      <td>information</td>\n",
       "      <td>listens</td>\n",
       "      <td>producer</td>\n",
       "      <td>...</td>\n",
       "      <td>information</td>\n",
       "      <td>interest</td>\n",
       "      <td>language_code</td>\n",
       "      <td>license</td>\n",
       "      <td>listens</td>\n",
       "      <td>lyricist</td>\n",
       "      <td>number</td>\n",
       "      <td>publisher</td>\n",
       "      <td>tags</td>\n",
       "      <td>title</td>\n",
       "    </tr>\n",
       "    <tr>\n",
       "      <th>1</th>\n",
       "      <td>track_id</td>\n",
       "      <td>NaN</td>\n",
       "      <td>NaN</td>\n",
       "      <td>NaN</td>\n",
       "      <td>NaN</td>\n",
       "      <td>NaN</td>\n",
       "      <td>NaN</td>\n",
       "      <td>NaN</td>\n",
       "      <td>NaN</td>\n",
       "      <td>NaN</td>\n",
       "      <td>...</td>\n",
       "      <td>NaN</td>\n",
       "      <td>NaN</td>\n",
       "      <td>NaN</td>\n",
       "      <td>NaN</td>\n",
       "      <td>NaN</td>\n",
       "      <td>NaN</td>\n",
       "      <td>NaN</td>\n",
       "      <td>NaN</td>\n",
       "      <td>NaN</td>\n",
       "      <td>NaN</td>\n",
       "    </tr>\n",
       "    <tr>\n",
       "      <th>2</th>\n",
       "      <td>2</td>\n",
       "      <td>0</td>\n",
       "      <td>2008-11-26 01:44:45</td>\n",
       "      <td>2009-01-05 00:00:00</td>\n",
       "      <td>NaN</td>\n",
       "      <td>4</td>\n",
       "      <td>1</td>\n",
       "      <td>&lt;p&gt;&lt;/p&gt;</td>\n",
       "      <td>6073</td>\n",
       "      <td>NaN</td>\n",
       "      <td>...</td>\n",
       "      <td>NaN</td>\n",
       "      <td>4656</td>\n",
       "      <td>en</td>\n",
       "      <td>Attribution-NonCommercial-ShareAlike 3.0 Inter...</td>\n",
       "      <td>1293</td>\n",
       "      <td>NaN</td>\n",
       "      <td>3</td>\n",
       "      <td>NaN</td>\n",
       "      <td>[]</td>\n",
       "      <td>Food</td>\n",
       "    </tr>\n",
       "    <tr>\n",
       "      <th>3</th>\n",
       "      <td>3</td>\n",
       "      <td>0</td>\n",
       "      <td>2008-11-26 01:44:45</td>\n",
       "      <td>2009-01-05 00:00:00</td>\n",
       "      <td>NaN</td>\n",
       "      <td>4</td>\n",
       "      <td>1</td>\n",
       "      <td>&lt;p&gt;&lt;/p&gt;</td>\n",
       "      <td>6073</td>\n",
       "      <td>NaN</td>\n",
       "      <td>...</td>\n",
       "      <td>NaN</td>\n",
       "      <td>1470</td>\n",
       "      <td>en</td>\n",
       "      <td>Attribution-NonCommercial-ShareAlike 3.0 Inter...</td>\n",
       "      <td>514</td>\n",
       "      <td>NaN</td>\n",
       "      <td>4</td>\n",
       "      <td>NaN</td>\n",
       "      <td>[]</td>\n",
       "      <td>Electric Ave</td>\n",
       "    </tr>\n",
       "    <tr>\n",
       "      <th>4</th>\n",
       "      <td>5</td>\n",
       "      <td>0</td>\n",
       "      <td>2008-11-26 01:44:45</td>\n",
       "      <td>2009-01-05 00:00:00</td>\n",
       "      <td>NaN</td>\n",
       "      <td>4</td>\n",
       "      <td>1</td>\n",
       "      <td>&lt;p&gt;&lt;/p&gt;</td>\n",
       "      <td>6073</td>\n",
       "      <td>NaN</td>\n",
       "      <td>...</td>\n",
       "      <td>NaN</td>\n",
       "      <td>1933</td>\n",
       "      <td>en</td>\n",
       "      <td>Attribution-NonCommercial-ShareAlike 3.0 Inter...</td>\n",
       "      <td>1151</td>\n",
       "      <td>NaN</td>\n",
       "      <td>6</td>\n",
       "      <td>NaN</td>\n",
       "      <td>[]</td>\n",
       "      <td>This World</td>\n",
       "    </tr>\n",
       "  </tbody>\n",
       "</table>\n",
       "<p>5 rows × 53 columns</p>\n",
       "</div>"
      ],
      "text/plain": [
       "  Unnamed: 0     album              album.1              album.2   album.3  \\\n",
       "0        NaN  comments         date_created        date_released  engineer   \n",
       "1   track_id       NaN                  NaN                  NaN       NaN   \n",
       "2          2         0  2008-11-26 01:44:45  2009-01-05 00:00:00       NaN   \n",
       "3          3         0  2008-11-26 01:44:45  2009-01-05 00:00:00       NaN   \n",
       "4          5         0  2008-11-26 01:44:45  2009-01-05 00:00:00       NaN   \n",
       "\n",
       "     album.4 album.5      album.6  album.7   album.8  ...     track.10  \\\n",
       "0  favorites      id  information  listens  producer  ...  information   \n",
       "1        NaN     NaN          NaN      NaN       NaN  ...          NaN   \n",
       "2          4       1      <p></p>     6073       NaN  ...          NaN   \n",
       "3          4       1      <p></p>     6073       NaN  ...          NaN   \n",
       "4          4       1      <p></p>     6073       NaN  ...          NaN   \n",
       "\n",
       "   track.11       track.12                                           track.13  \\\n",
       "0  interest  language_code                                            license   \n",
       "1       NaN            NaN                                                NaN   \n",
       "2      4656             en  Attribution-NonCommercial-ShareAlike 3.0 Inter...   \n",
       "3      1470             en  Attribution-NonCommercial-ShareAlike 3.0 Inter...   \n",
       "4      1933             en  Attribution-NonCommercial-ShareAlike 3.0 Inter...   \n",
       "\n",
       "  track.14  track.15 track.16   track.17 track.18      track.19  \n",
       "0  listens  lyricist   number  publisher     tags         title  \n",
       "1      NaN       NaN      NaN        NaN      NaN           NaN  \n",
       "2     1293       NaN        3        NaN       []          Food  \n",
       "3      514       NaN        4        NaN       []  Electric Ave  \n",
       "4     1151       NaN        6        NaN       []    This World  \n",
       "\n",
       "[5 rows x 53 columns]"
      ]
     },
     "execution_count": 2,
     "metadata": {},
     "output_type": "execute_result"
    }
   ],
   "source": [
    "FMA_Data = pd.read_csv(\"Data/fma_metadata/tracks.csv\")\n",
    "# Metadata for full dataset dimentions\n",
    "print(\"Columns: \",len(FMA_Data.columns))\n",
    "print(\"Rows: \", len(FMA_Data))\n",
    "\n",
    "FMA_Data.head(5)"
   ]
  },
  {
   "cell_type": "code",
   "execution_count": 3,
   "id": "9509960e",
   "metadata": {},
   "outputs": [
    {
     "data": {
      "text/plain": [
       "Unnamed: 0                  NaN\n",
       "album                  comments\n",
       "album.1            date_created\n",
       "album.2           date_released\n",
       "album.3                engineer\n",
       "album.4               favorites\n",
       "album.5                      id\n",
       "album.6             information\n",
       "album.7                 listens\n",
       "album.8                producer\n",
       "album.9                    tags\n",
       "album.10                  title\n",
       "album.11                 tracks\n",
       "album.12                   type\n",
       "artist        active_year_begin\n",
       "artist.1        active_year_end\n",
       "artist.2      associated_labels\n",
       "artist.3                    bio\n",
       "artist.4               comments\n",
       "artist.5           date_created\n",
       "artist.6              favorites\n",
       "artist.7                     id\n",
       "artist.8               latitude\n",
       "artist.9               location\n",
       "artist.10             longitude\n",
       "artist.11               members\n",
       "artist.12                  name\n",
       "artist.13      related_projects\n",
       "artist.14                  tags\n",
       "artist.15               website\n",
       "artist.16        wikipedia_page\n",
       "set                       split\n",
       "set.1                    subset\n",
       "track                  bit_rate\n",
       "track.1                comments\n",
       "track.2                composer\n",
       "track.3            date_created\n",
       "track.4           date_recorded\n",
       "track.5                duration\n",
       "track.6               favorites\n",
       "track.7               genre_top\n",
       "track.8                  genres\n",
       "track.9              genres_all\n",
       "track.10            information\n",
       "track.11               interest\n",
       "track.12          language_code\n",
       "track.13                license\n",
       "track.14                listens\n",
       "track.15               lyricist\n",
       "track.16                 number\n",
       "track.17              publisher\n",
       "track.18                   tags\n",
       "track.19                  title\n",
       "Name: 0, dtype: object"
      ]
     },
     "execution_count": 3,
     "metadata": {},
     "output_type": "execute_result"
    }
   ],
   "source": [
    "# Columns\n",
    "FMA_Data.iloc[0]"
   ]
  },
  {
   "cell_type": "code",
   "execution_count": 4,
   "id": "f2701141",
   "metadata": {},
   "outputs": [
    {
     "name": "stdout",
     "output_type": "stream",
     "text": [
      "0            training/Hip-Hop/2.png\n",
      "1            training/Hip-Hop/5.png\n",
      "2               training/Pop/10.png\n",
      "3             training/Folk/140.png\n",
      "4             training/Folk/141.png\n",
      "                   ...             \n",
      "7995        test/Hip-Hop/154308.png\n",
      "7996        test/Hip-Hop/154309.png\n",
      "7997        training/Pop/154413.png\n",
      "7998        training/Pop/154414.png\n",
      "7999    training/Hip-Hop/155066.png\n",
      "Name: Path, Length: 8000, dtype: object\n"
     ]
    }
   ],
   "source": [
    "def list_files(dir): # Goes through directiories and subdirectories to find all file names and adds them to a list.\n",
    "    ids = []\n",
    "    for root, dirs, files in os.walk(dir):\n",
    "        for name in files:\n",
    "            ids.append(name)\n",
    "    \n",
    "    for i in range(len(ids)):\n",
    "        ids[i] = int(ids[i][0:-4]) # Removes the .mp3 extension\n",
    "    return ids\n",
    "#print(ids)\n",
    "ids = list_files(\"Data/fma_small\") # Gathers all the indexes that corresponds to the small subset of the FMA dataset\n",
    "################################################################################################\n",
    "\n",
    "# Data Reprocessing formatting the dataframe.\n",
    "FMA_Data_Small = FMA_Data.drop([0,1]) # Drops rows with names of columns but no data.\n",
    "FMA_Data_Small[\"Unnamed: 0\"] = FMA_Data_Small[\"Unnamed: 0\"].astype(int) # Converts ID to intergers\n",
    "FMA_Data_Small = FMA_Data_Small[[\"Unnamed: 0\",\"track.19\",\"track.7\",\"artist.7\",\"artist.12\",\"set\"]] # Selects relevant subset of columns\n",
    "# Renames all columns to something meaningfull.\n",
    "FMA_Data_Small = FMA_Data_Small.rename(columns={\"Unnamed: 0\":\"Song ID\", \"track.19\":\"Song Title\", \"track.7\":\"Genre\",\"artist.7\":\"Artist ID\",\"artist.12\":\"Artist Name\",\"set\":\"Set\"})\n",
    "FMA_Data_Small = FMA_Data_Small.reset_index(drop=True)\n",
    "\n",
    "# Create the new column by concatenating the \"Song ID\" with '.png'\n",
    "FMA_Data_Small[\"Path\"] = FMA_Data_Small[\"Song ID\"].astype(str) + \".png\"\n",
    "\n",
    "fma_small = FMA_Data_Small[FMA_Data_Small[\"Song ID\"].isin(ids)] # Checks if the song id of each row is in the ids list and filteres the data.\n",
    "fma_small = fma_small.reset_index(drop=True)\n",
    "fma_small.shape\n",
    "fma_small\n",
    "\n",
    "# Create the 'Path' column by concatenating 'Set', 'Genre', and 'Song ID', with each part separated by a slash\n",
    "fma_small['Path'] = fma_small['Set'] + '/' + fma_small['Genre'] + '/' + fma_small['Song ID'].astype(str) + '.png'\n",
    "\n",
    "# Now your 'Path' column will have the format 'set/genre/id.png'\n",
    "print(fma_small['Path'])\n"
   ]
  },
  {
   "cell_type": "code",
   "execution_count": 5,
   "id": "7d01bd89",
   "metadata": {},
   "outputs": [
    {
     "name": "stdout",
     "output_type": "stream",
     "text": [
      "{'Electronic', 'Hip-Hop', 'Pop', 'International', 'Folk', 'Instrumental', 'Experimental', 'Rock'}\n",
      "Length Genre: 8\n"
     ]
    }
   ],
   "source": [
    "genres = set()\n",
    "for genre in fma_small[\"Genre\"]:\n",
    "    genres.add(genre)\n",
    "\n",
    "print(genres)\n",
    "print(\"Length Genre:\",len(genres))"
   ]
  },
  {
   "cell_type": "markdown",
   "id": "c253b277",
   "metadata": {},
   "source": [
    "# Song Filtering"
   ]
  },
  {
   "cell_type": "markdown",
   "id": "88dcd3bc",
   "metadata": {},
   "source": [
    "## Remove All Interview and Chat data"
   ]
  },
  {
   "cell_type": "code",
   "execution_count": 6,
   "id": "05d5f3e1",
   "metadata": {},
   "outputs": [
    {
     "name": "stdout",
     "output_type": "stream",
     "text": [
      "     Song ID              Song Title\n",
      "504    11674  (chat w/ Rob Weisberg)\n",
      "509    11682  (chat w/ Rob Weisberg)\n",
      "797    17611  Chat with Rob Weisberg\n"
     ]
    }
   ],
   "source": [
    "mask = fma_small[\"Song Title\"].str.contains(\"Interview\", case=False)\n",
    "interviews = fma_small[[\"Song ID\",\"Song Title\"]].loc[mask]\n",
    "# Chat\n",
    "mask = fma_small[\"Song Title\"].str.contains(\"chat \", case=False)\n",
    "chats = fma_small[[\"Song ID\",\"Song Title\"]].loc[mask]\n",
    "print(chats)"
   ]
  },
  {
   "cell_type": "code",
   "execution_count": 7,
   "id": "9f8ae2c4",
   "metadata": {},
   "outputs": [
    {
     "data": {
      "text/plain": [
       "(7975, 7)"
      ]
     },
     "execution_count": 7,
     "metadata": {},
     "output_type": "execute_result"
    }
   ],
   "source": [
    "# Removes all interviews in the dataset\n",
    "interviews_index = interviews[\"Song ID\"].index.values.tolist()\n",
    "chats_index = chats[\"Song ID\"].index.values.tolist()\n",
    "\n",
    "fma_small = fma_small.drop(index=interviews_index)\n",
    "fma_small = fma_small.drop(index=chats_index)\n",
    "\n",
    "sum(fma_small[\"Song Title\"].str.contains(\"interview\", case = False))\n",
    "sum(fma_small[\"Song Title\"].str.contains(\"chat \", case = False))\n",
    "fma_small = fma_small.reset_index(drop=True)\n",
    "fma_small.shape"
   ]
  },
  {
   "cell_type": "markdown",
   "id": "16ac46df",
   "metadata": {},
   "source": [
    "## Remove Corrupted sound files"
   ]
  },
  {
   "cell_type": "markdown",
   "id": "abe72770",
   "metadata": {},
   "source": [
    "Doing my conversion from MP3 files to spectrograms I found these 6 files to be corrupt."
   ]
  },
  {
   "cell_type": "code",
   "execution_count": 8,
   "id": "ca856f67",
   "metadata": {},
   "outputs": [
    {
     "data": {
      "text/plain": [
       "(7969, 7)"
      ]
     },
     "execution_count": 8,
     "metadata": {},
     "output_type": "execute_result"
    }
   ],
   "source": [
    "# 098565\n",
    "# 098567\n",
    "# 098569\n",
    "# 099134\n",
    "# 108925\n",
    "# 133297\n",
    "# Define the entries to be removed\n",
    "remove_id = [98565, 98567, 98569, 99134, 108925, 133297]\n",
    "\n",
    "# Remove the entries from the dataframe\n",
    "fma_small = fma_small[~fma_small[\"Song ID\"].isin(remove_id)]\n",
    "\n",
    "# Print the updated dataframe\n",
    "fma_small.shape"
   ]
  },
  {
   "cell_type": "markdown",
   "id": "5ca2b933",
   "metadata": {},
   "source": [
    "## Remove Duplicate Songs"
   ]
  },
  {
   "cell_type": "code",
   "execution_count": 9,
   "id": "2b460447",
   "metadata": {},
   "outputs": [
    {
     "data": {
      "text/plain": [
       "(7904, 7)"
      ]
     },
     "execution_count": 9,
     "metadata": {},
     "output_type": "execute_result"
    }
   ],
   "source": [
    "# use the drop_duplicates() method with the subset parameter to remove the duplicate rows\n",
    "# I assume songs are duplicates if it is the same Title, Artist and Genre\n",
    "fma_small = fma_small.drop_duplicates(subset=[\"Song Title\", \"Artist Name\", \"Genre\"], keep='first')\n",
    "fma_small = fma_small.reset_index(drop=True)\n",
    "fma_small.shape"
   ]
  },
  {
   "cell_type": "markdown",
   "id": "0fba33a1",
   "metadata": {},
   "source": [
    "## Genre and Artist Statistics and Visualizations"
   ]
  },
  {
   "cell_type": "code",
   "execution_count": 10,
   "id": "0b0e7065",
   "metadata": {},
   "outputs": [],
   "source": [
    "# Since I do cross validation I \"merge\" all validation data into training as per the FMA papers suggestion Section 2.7\n",
    "# https://arxiv.org/pdf/1612.01840v3.pdf\n",
    "fma_small[\"Set\"] = fma_small[\"Set\"].replace(\"validation\", \"training\")"
   ]
  },
  {
   "cell_type": "code",
   "execution_count": 11,
   "id": "db67a8af",
   "metadata": {},
   "outputs": [
    {
     "data": {
      "image/png": "[encoded data removed]",
      "text/plain": [
       "<Figure size 432x288 with 1 Axes>"
      ]
     },
     "metadata": {
      "needs_background": "light"
     },
     "output_type": "display_data"
    }
   ],
   "source": [
    "# Whole dataset distribution\n",
    "fma_small[\"Genre\"].hist(bins = 16)\n",
    "\n",
    "# set the labels and title of the plot\n",
    "plt.xlabel(\"Genres\")\n",
    "plt.ylabel(\"Counts in each genre\")\n",
    "plt.xticks(rotation = 45) # Rotates X-Axis Ticks by 45-degrees\n",
    "plt.title(\"Histogram of Class Distribution\")\n",
    "plt.show()"
   ]
  },
  {
   "cell_type": "code",
   "execution_count": 12,
   "id": "96c9792c",
   "metadata": {},
   "outputs": [
    {
     "name": "stdout",
     "output_type": "stream",
     "text": [
      "Train Shape: (7115, 7)\n",
      "Test Shape: (789, 7)\n",
      "Train/Test split artist overlaps with: 0 Artists\n"
     ]
    }
   ],
   "source": [
    "fma_small_train = fma_small[fma_small[\"Set\"] == \"training\"]\n",
    "fma_small_test = fma_small[fma_small[\"Set\"] == \"test\"]\n",
    "\n",
    "print(\"Train Shape:\",fma_small_train.shape)\n",
    "print(\"Test Shape:\",fma_small_test.shape)\n",
    "\n",
    "fma_small_train_set = set(fma_small_train[\"Artist Name\"])\n",
    "fma_small_test_set = set(fma_small_test[\"Artist Name\"])\n",
    "\n",
    "print(\"Train/Test split artist overlaps with:\",len(fma_small_train_set.intersection(fma_small_test_set)), \"Artists\")"
   ]
  },
  {
   "cell_type": "code",
   "execution_count": 13,
   "id": "20d43635",
   "metadata": {},
   "outputs": [
    {
     "name": "stderr",
     "output_type": "stream",
     "text": [
      "C:\\Users\\Jespe\\AppData\\Local\\Temp\\ipykernel_2256\\4202543554.py:8: UserWarning: FixedFormatter should only be used together with FixedLocator\n",
      "  axs[0].set_xticklabels(axs[0].get_xticklabels(), rotation=45)\n",
      "C:\\Users\\Jespe\\AppData\\Local\\Temp\\ipykernel_2256\\4202543554.py:14: UserWarning: FixedFormatter should only be used together with FixedLocator\n",
      "  axs[1].set_xticklabels(axs[1].get_xticklabels(), rotation=45)\n"
     ]
    },
    {
     "data": {
      "text/plain": [
       "[Text(0, 0, ''),\n",
       " Text(1, 0, ''),\n",
       " Text(2, 0, ''),\n",
       " Text(3, 0, ''),\n",
       " Text(4, 0, ''),\n",
       " Text(5, 0, ''),\n",
       " Text(6, 0, ''),\n",
       " Text(7, 0, '')]"
      ]
     },
     "execution_count": 13,
     "metadata": {},
     "output_type": "execute_result"
    },
    {
     "data": {
      "image/png": "[encoded data removed]",
      "text/plain": [
       "<Figure size 720x288 with 2 Axes>"
      ]
     },
     "metadata": {
      "needs_background": "light"
     },
     "output_type": "display_data"
    }
   ],
   "source": [
    "# Train and Test split distributions\n",
    "fig, axs = plt.subplots(1, 2, figsize=(10, 4))\n",
    "\n",
    "axs[0].hist(fma_small_train[\"Genre\"], bins=16)\n",
    "axs[0].set_xlabel(\"Genres\")\n",
    "axs[0].set_ylabel(\"Counts in each genre\")\n",
    "axs[0].set_title(\"Histogram of Train Class Distribution\")\n",
    "axs[0].set_xticklabels(axs[0].get_xticklabels(), rotation=45)\n",
    "\n",
    "axs[1].hist(fma_small_test[\"Genre\"], bins=16)\n",
    "axs[1].set_xlabel(\"Genres\")\n",
    "axs[1].set_ylabel(\"Counts in each genre\")\n",
    "axs[1].set_title(\"Histogram of Test Class Distribution\")\n",
    "axs[1].set_xticklabels(axs[1].get_xticklabels(), rotation=45)\n",
    "\n"
   ]
  },
  {
   "cell_type": "code",
   "execution_count": null,
   "id": "cbd4a23a",
   "metadata": {},
   "outputs": [],
   "source": []
  },
  {
   "cell_type": "code",
   "execution_count": null,
   "id": "8d1a99f4",
   "metadata": {},
   "outputs": [],
   "source": []
  },
  {
   "cell_type": "code",
   "execution_count": 14,
   "id": "6b460996",
   "metadata": {},
   "outputs": [
    {
     "data": {
      "image/png": "[encoded data removed]",
      "text/plain": [
       "<Figure size 576x288 with 1 Axes>"
      ]
     },
     "metadata": {
      "needs_background": "light"
     },
     "output_type": "display_data"
    }
   ],
   "source": [
    "artists_per_genre = fma_small.groupby('Genre')['Artist ID'].nunique()\n",
    "#artists_per_genre\n",
    "\n",
    "artists_per_genre.plot(kind='bar', figsize=(8, 4), color='blue')\n",
    "\n",
    "plt.title('Number of Unique Artists per Genre')\n",
    "plt.xlabel('Genre')\n",
    "plt.ylabel('Number of Unique Artists')\n",
    "\n",
    "plt.show()"
   ]
  },
  {
   "cell_type": "code",
   "execution_count": null,
   "id": "00872da7",
   "metadata": {},
   "outputs": [],
   "source": []
  },
  {
   "cell_type": "markdown",
   "id": "18dbb660",
   "metadata": {},
   "source": [
    "## Save DataFrame as csv"
   ]
  },
  {
   "cell_type": "code",
   "execution_count": 20,
   "id": "7c1a9293",
   "metadata": {},
   "outputs": [],
   "source": [
    "fma_small.to_csv(\"Data/fma_small.csv\", index=False)"
   ]
  },
  {
   "cell_type": "markdown",
   "id": "39e046e8",
   "metadata": {},
   "source": [
    "From here I have gone into the MP3 convert to Mel Spectogram script and converted each sound like that is in the dataframe into a mel spectogram and linked it to its entry in the dataframe."
   ]
  },
  {
   "cell_type": "code",
   "execution_count": null,
   "id": "19f4e9eb",
   "metadata": {},
   "outputs": [],
   "source": []
  },
  {
   "cell_type": "code",
   "execution_count": null,
   "id": "68096ff8",
   "metadata": {},
   "outputs": [],
   "source": []
  }
 ],
 "metadata": {
  "kernelspec": {
   "display_name": "Python 3 (ipykernel)",
   "language": "python",
   "name": "python3"
  },
  "language_info": {
   "codemirror_mode": {
    "name": "ipython",
    "version": 3
   },
   "file_extension": ".py",
   "mimetype": "text/x-python",
   "name": "python",
   "nbconvert_exporter": "python",
   "pygments_lexer": "ipython3",
   "version": "3.9.12"
  }
 },
 "nbformat": 4,
 "nbformat_minor": 5
}
