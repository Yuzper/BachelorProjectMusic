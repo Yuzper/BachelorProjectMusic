{
 "cells": [
  {
   "cell_type": "code",
   "execution_count": 12,
   "id": "91ddd73d",
   "metadata": {},
   "outputs": [],
   "source": [
    "#!pip install librosa\n",
    "#!pip install ffmpeg\n",
    "\n",
    "#!pip install numba==0.48\n",
    "#!pip install librosa==0.7.2"
   ]
  },
  {
   "cell_type": "code",
   "execution_count": 40,
   "id": "ae72b6e5",
   "metadata": {},
   "outputs": [],
   "source": [
    "import numpy as np\n",
    "import pandas as pd\n",
    "import matplotlib.pyplot as plt\n",
    "import librosa\n",
    "import librosa.display\n",
    "%matplotlib inline\n",
    "from PIL import Image\n",
    "import os\n",
    "import shutil\n",
    "from numpy import asarray\n"
   ]
  },
  {
   "cell_type": "code",
   "execution_count": 14,
   "id": "1050814d",
   "metadata": {},
   "outputs": [
    {
     "data": {
      "text/plain": [
       "(7904, 6)"
      ]
     },
     "execution_count": 14,
     "metadata": {},
     "output_type": "execute_result"
    }
   ],
   "source": [
    "fma_small = pd.read_csv(\"fma_small.csv\")\n",
    "fma_small.shape"
   ]
  },
  {
   "cell_type": "code",
   "execution_count": 15,
   "id": "853e4e76",
   "metadata": {},
   "outputs": [],
   "source": [
    "#AUDIO_FILE = \"Data/fma_small/000/000993.mp3\"\n",
    "\n",
    "def MP3ToSpectrogram(AUDIO_FILE, file_Name):\n",
    "    signal, sr = librosa.load(AUDIO_FILE)\n",
    "\n",
    "    # this is the number of samples in a window per fft\n",
    "    n_fft = 2048\n",
    "\n",
    "    # The amount of samples we are shifting after each fft\n",
    "    hop_length = 512\n",
    "\n",
    "    mel_signal = librosa.feature.melspectrogram(y=signal, sr=sr, hop_length=hop_length, n_fft=n_fft)\n",
    "    spectrogram = np.abs(mel_signal)\n",
    "    power_to_db = librosa.power_to_db(spectrogram, ref=np.max)\n",
    "    librosa.display.specshow(power_to_db, sr=sr, cmap=\"magma\", hop_length=hop_length) # x_axis=\"time\", y_axis=\"mel\"\n",
    "    plt.savefig(\"SpectrogramData/\"+file_Name+\".png\", bbox_inches=\"tight\")\n",
    "\n",
    "#MP3ToSpectrogram(\"Data/fma_small/013/013378.mp3\", \"Test1\")\n",
    "#img = Image.open(\"Test1\"+\".png\")"
   ]
  },
  {
   "cell_type": "code",
   "execution_count": 16,
   "id": "23047abb",
   "metadata": {
    "scrolled": true
   },
   "outputs": [],
   "source": [
    "def convert_all_files_to_spectrogram():\n",
    "    progress = 0\n",
    "    MelSpectrograms = []\n",
    "    directory = \"Data/fma_small\"\n",
    "\n",
    "    # Create SpectrogramData directory if it does not exist\n",
    "    if not os.path.exists(\"SpectrogramData\"):\n",
    "        os.makedirs(\"SpectrogramData\")\n",
    "\n",
    "    # Iterate over files in the directory and its subdirectories\n",
    "    for root, dirs, files in os.walk(directory):\n",
    "        for filename in files:\n",
    "            if filename == \"checksums\" or filename == \"README.txt\":\n",
    "                continue\n",
    "            else:\n",
    "                fileID = int(filename[:-4])\n",
    "                filePath = os.path.join(root, filename)\n",
    "                MP3ToSpectrogram(filePath, str(fileID))\n",
    "                progress += 1\n",
    "                print(\"Progress:\",progress/fma_small.shape[0])\n",
    "\n",
    "#convert_all_files_to_spectrogram()"
   ]
  },
  {
   "cell_type": "code",
   "execution_count": null,
   "id": "26a81601",
   "metadata": {},
   "outputs": [],
   "source": []
  },
  {
   "cell_type": "code",
   "execution_count": 39,
   "id": "702fea8c",
   "metadata": {},
   "outputs": [
    {
     "name": "stdout",
     "output_type": "stream",
     "text": [
      "Counter 0\n"
     ]
    }
   ],
   "source": [
    "# Remove the files that were filtered out earliere\n",
    "# Should have a folder with 7904 spectrograms now and a CSV file with the corresponding metadata\n",
    "filenames_to_keep = list(fma_small[\"ID\"])\n",
    "\n",
    "for filename in os.listdir(\"SpectrogramData\"):\n",
    "    file_path = os.path.join(directory, filename)\n",
    "    fileID = int(filename[:-4]) # Since the ID's only include the int and not .mp3 I remove this part in every name.\n",
    "    if os.path.isfile(file_path) and fileID not in filenames_to_keep:\n",
    "#        print(int(filename[:-4]))\n",
    "        os.remove(file_path)\n",
    "    else:\n",
    "        filename = normalize_image(filename)\n"
   ]
  },
  {
   "cell_type": "code",
   "execution_count": null,
   "id": "b420cb8e",
   "metadata": {},
   "outputs": [],
   "source": []
  },
  {
   "cell_type": "code",
   "execution_count": null,
   "id": "837216be",
   "metadata": {},
   "outputs": [],
   "source": []
  },
  {
   "cell_type": "code",
   "execution_count": null,
   "id": "0f4c2821",
   "metadata": {},
   "outputs": [],
   "source": []
  }
 ],
 "metadata": {
  "kernelspec": {
   "display_name": "Python 3 (ipykernel)",
   "language": "python",
   "name": "python3"
  },
  "language_info": {
   "codemirror_mode": {
    "name": "ipython",
    "version": 3
   },
   "file_extension": ".py",
   "mimetype": "text/x-python",
   "name": "python",
   "nbconvert_exporter": "python",
   "pygments_lexer": "ipython3",
   "version": "3.9.12"
  }
 },
 "nbformat": 4,
 "nbformat_minor": 5
}
