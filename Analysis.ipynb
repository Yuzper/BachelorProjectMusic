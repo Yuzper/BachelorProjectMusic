{
 "cells": [
  {
   "cell_type": "code",
   "execution_count": 77,
   "id": "41055b35",
   "metadata": {},
   "outputs": [],
   "source": [
    "import numpy as np\n",
    "import pandas as pd\n",
    "import scipy\n",
    "import matplotlib.pyplot as plt\n",
    "import tensorflow as tf\n",
    "from tensorflow.keras.models import load_model\n",
    "import seaborn as sns\n",
    "from sklearn.metrics import confusion_matrix\n"
   ]
  },
  {
   "cell_type": "code",
   "execution_count": 78,
   "id": "26db7edb",
   "metadata": {},
   "outputs": [
    {
     "name": "stdout",
     "output_type": "stream",
     "text": [
      "Found 495 files belonging to 5 classes.\n"
     ]
    }
   ],
   "source": [
    "testData = tf.keras.utils.image_dataset_from_directory(\n",
    "    directory = \"SpectrogramData_Formatted/test\",\n",
    "    labels=\"inferred\",\n",
    "    label_mode = \"categorical\",\n",
    "    color_mode=\"rgb\",\n",
    "    batch_size=64,\n",
    "    image_size=(235, 352),\n",
    "    shuffle=False,\n",
    "    seed=42\n",
    ")\n"
   ]
  },
  {
   "cell_type": "code",
   "execution_count": 79,
   "id": "7f3dbf5e",
   "metadata": {},
   "outputs": [],
   "source": [
    "import keras.backend as K\n",
    "\n",
    "def macro_f1_score(y_true, y_pred):\n",
    "    \"\"\"\n",
    "    Calculate macro-average F1 score using Keras backend.\n",
    "\n",
    "    Parameters:\n",
    "        y_true (tensor or array): The true class labels (ground truth) as a tensor or Numpy array.\n",
    "        y_pred (tensor or array): The predicted class labels as a tensor or Numpy array.\n",
    "\n",
    "    Returns:\n",
    "        float: The macro-average F1 score.\n",
    "    \"\"\"\n",
    "    # Convert Numpy arrays to Keras backend tensors\n",
    "    if not tf.is_tensor(y_true):\n",
    "        y_true = K.constant(y_true)\n",
    "\n",
    "    if not tf.is_tensor(y_pred):\n",
    "        y_pred = K.constant(y_pred)\n",
    "    \n",
    "    # Calculate true positives, false positives, and false negatives for each class\n",
    "    tp = K.sum(y_true * K.round(y_pred), axis=0)\n",
    "    fp = K.sum(K.round(K.clip(y_pred - y_true, 0, 1)), axis=0)\n",
    "    fn = K.sum(K.round(K.clip(y_true - y_pred, 0, 1)), axis=0)\n",
    "\n",
    "    # Calculate precision and recall for each class\n",
    "    precision = tp / (tp + fp + K.epsilon())\n",
    "    recall = tp / (tp + fn + K.epsilon())\n",
    "\n",
    "    # Calculate F1 score for each class\n",
    "    f1_score = 2 * (precision * recall) / (precision + recall + K.epsilon())\n",
    "\n",
    "    # Calculate macro-average F1 score\n",
    "    macro_f1 = K.mean(f1_score)\n",
    "\n",
    "    return macro_f1"
   ]
  },
  {
   "cell_type": "code",
   "execution_count": 85,
   "id": "a78bb542",
   "metadata": {},
   "outputs": [
    {
     "name": "stdout",
     "output_type": "stream",
     "text": [
      "8/8 [==============================] - 28s 3s/step - loss: 1.3936 - accuracy: 0.3899 - macro_f1_score: 0.0000e+00\n",
      "Baseline\n",
      "Loss: 1.39360511302948\n",
      "macro_f1_score:  0.0 %\n",
      "Accuracy:  38.99 %\n",
      "8/8 [==============================] - 27s 3s/step - loss: 1.1506 - accuracy: 0.5798 - macro_f1_score: 0.1704\n",
      "Aug1\n",
      "Loss: 1.1505711078643799\n",
      "macro_f1_score:  17.04 %\n",
      "Accuracy:  57.98 %\n"
     ]
    },
    {
     "ename": "RuntimeError",
     "evalue": "You must compile your model before training/testing. Use `model.compile(optimizer, loss)`.",
     "output_type": "error",
     "traceback": [
      "\u001b[1;31m---------------------------------------------------------------------------\u001b[0m",
      "\u001b[1;31mRuntimeError\u001b[0m                              Traceback (most recent call last)",
      "Input \u001b[1;32mIn [85]\u001b[0m, in \u001b[0;36m<cell line: 33>\u001b[1;34m()\u001b[0m\n\u001b[0;32m     28\u001b[0m savedModelAug2 \u001b[38;5;241m=\u001b[39m tf\u001b[38;5;241m.\u001b[39mkeras\u001b[38;5;241m.\u001b[39mmodels\u001b[38;5;241m.\u001b[39mload_model(\u001b[38;5;124m\"\u001b[39m\u001b[38;5;124mNew/Results/SavedModels/best_model_Aug2.h5\u001b[39m\u001b[38;5;124m\"\u001b[39m, \u001b[38;5;28mcompile\u001b[39m\u001b[38;5;241m=\u001b[39m\u001b[38;5;28;01mFalse\u001b[39;00m)\n\u001b[0;32m     29\u001b[0m \u001b[38;5;66;03m#savedModelAug2.compile(loss=\"categorical_crossentropy\",\u001b[39;00m\n\u001b[0;32m     30\u001b[0m \u001b[38;5;66;03m#                  optimizer=tf.keras.optimizers.Adam(learning_rate=0.001),\u001b[39;00m\n\u001b[0;32m     31\u001b[0m \u001b[38;5;66;03m#                  metrics=[\"accuracy\", macro_f1_score])\u001b[39;00m\n\u001b[1;32m---> 33\u001b[0m loss, accuracy, macro_f1_score_ \u001b[38;5;241m=\u001b[39m \u001b[43msavedModelAug2\u001b[49m\u001b[38;5;241;43m.\u001b[39;49m\u001b[43mevaluate\u001b[49m\u001b[43m(\u001b[49m\u001b[43mtestData\u001b[49m\u001b[43m)\u001b[49m\n\u001b[0;32m     34\u001b[0m \u001b[38;5;28mprint\u001b[39m(\u001b[38;5;124m\"\u001b[39m\u001b[38;5;124mAug2\u001b[39m\u001b[38;5;124m\"\u001b[39m)\n\u001b[0;32m     35\u001b[0m \u001b[38;5;28mprint\u001b[39m(\u001b[38;5;124m\"\u001b[39m\u001b[38;5;124mLoss:\u001b[39m\u001b[38;5;124m\"\u001b[39m, loss)\n",
      "File \u001b[1;32m~\\Anaconda3\\lib\\site-packages\\keras\\src\\utils\\traceback_utils.py:70\u001b[0m, in \u001b[0;36mfilter_traceback.<locals>.error_handler\u001b[1;34m(*args, **kwargs)\u001b[0m\n\u001b[0;32m     67\u001b[0m     filtered_tb \u001b[38;5;241m=\u001b[39m _process_traceback_frames(e\u001b[38;5;241m.\u001b[39m__traceback__)\n\u001b[0;32m     68\u001b[0m     \u001b[38;5;66;03m# To get the full stack trace, call:\u001b[39;00m\n\u001b[0;32m     69\u001b[0m     \u001b[38;5;66;03m# `tf.debugging.disable_traceback_filtering()`\u001b[39;00m\n\u001b[1;32m---> 70\u001b[0m     \u001b[38;5;28;01mraise\u001b[39;00m e\u001b[38;5;241m.\u001b[39mwith_traceback(filtered_tb) \u001b[38;5;28;01mfrom\u001b[39;00m \u001b[38;5;28mNone\u001b[39m\n\u001b[0;32m     71\u001b[0m \u001b[38;5;28;01mfinally\u001b[39;00m:\n\u001b[0;32m     72\u001b[0m     \u001b[38;5;28;01mdel\u001b[39;00m filtered_tb\n",
      "File \u001b[1;32m~\\Anaconda3\\lib\\site-packages\\keras\\src\\engine\\training.py:3875\u001b[0m, in \u001b[0;36mModel._assert_compile_was_called\u001b[1;34m(self)\u001b[0m\n\u001b[0;32m   3869\u001b[0m \u001b[38;5;28;01mdef\u001b[39;00m \u001b[38;5;21m_assert_compile_was_called\u001b[39m(\u001b[38;5;28mself\u001b[39m):\n\u001b[0;32m   3870\u001b[0m     \u001b[38;5;66;03m# Checks whether `compile` has been called. If it has been called,\u001b[39;00m\n\u001b[0;32m   3871\u001b[0m     \u001b[38;5;66;03m# then the optimizer is set. This is different from whether the\u001b[39;00m\n\u001b[0;32m   3872\u001b[0m     \u001b[38;5;66;03m# model is compiled\u001b[39;00m\n\u001b[0;32m   3873\u001b[0m     \u001b[38;5;66;03m# (i.e. whether the model is built and its inputs/outputs are set).\u001b[39;00m\n\u001b[0;32m   3874\u001b[0m     \u001b[38;5;28;01mif\u001b[39;00m \u001b[38;5;129;01mnot\u001b[39;00m \u001b[38;5;28mself\u001b[39m\u001b[38;5;241m.\u001b[39m_is_compiled:\n\u001b[1;32m-> 3875\u001b[0m         \u001b[38;5;28;01mraise\u001b[39;00m \u001b[38;5;167;01mRuntimeError\u001b[39;00m(\n\u001b[0;32m   3876\u001b[0m             \u001b[38;5;124m\"\u001b[39m\u001b[38;5;124mYou must compile your model before \u001b[39m\u001b[38;5;124m\"\u001b[39m\n\u001b[0;32m   3877\u001b[0m             \u001b[38;5;124m\"\u001b[39m\u001b[38;5;124mtraining/testing. \u001b[39m\u001b[38;5;124m\"\u001b[39m\n\u001b[0;32m   3878\u001b[0m             \u001b[38;5;124m\"\u001b[39m\u001b[38;5;124mUse `model.compile(optimizer, loss)`.\u001b[39m\u001b[38;5;124m\"\u001b[39m\n\u001b[0;32m   3879\u001b[0m         )\n",
      "\u001b[1;31mRuntimeError\u001b[0m: You must compile your model before training/testing. Use `model.compile(optimizer, loss)`."
     ]
    }
   ],
   "source": [
    "############ Baseline ############\n",
    "savedModelBaseline = tf.keras.models.load_model(\"New/Results/SavedModels/best_model_baseline.h5\", compile=False)\n",
    "savedModelBaseline.compile(loss=\"categorical_crossentropy\",\n",
    "                  optimizer=tf.keras.optimizers.Adam(learning_rate=0.0001),\n",
    "                  metrics=[\"accuracy\", macro_f1_score])\n",
    "\n",
    "loss, accuracy, macro_f1_score_ = savedModelBaseline.evaluate(testData)\n",
    "print(\"Baseline\")\n",
    "print(\"Loss:\", loss)\n",
    "print(\"macro_f1_score: \", round((macro_f1_score_*100), 2), \"%\")\n",
    "print(\"Accuracy: \", round((accuracy*100), 2), \"%\")\n",
    "\n",
    "\n",
    "############ Aug1 ############\n",
    "savedModelAug1 = tf.keras.models.load_model(\"New/Results/SavedModels/best_model_Aug1.h5\", compile=False)\n",
    "savedModelAug1.compile(loss=\"categorical_crossentropy\",\n",
    "                  optimizer=tf.keras.optimizers.Adam(learning_rate=0.0001),\n",
    "                  metrics=[\"accuracy\", macro_f1_score])\n",
    "\n",
    "loss, accuracy, macro_f1_score_ = savedModelAug1.evaluate(testData)\n",
    "print(\"Aug1\")\n",
    "print(\"Loss:\", loss)\n",
    "print(\"macro_f1_score: \", round((macro_f1_score_*100), 2), \"%\")\n",
    "print(\"Accuracy: \", round((accuracy*100), 2), \"%\")\n",
    "\n",
    "\n",
    "############ Aug 2 ############\n",
    "savedModelAug2 = tf.keras.models.load_model(\"New/Results/SavedModels/best_model_Aug2.h5\", compile=False)\n",
    "#savedModelAug2.compile(loss=\"categorical_crossentropy\",\n",
    "#                  optimizer=tf.keras.optimizers.Adam(learning_rate=0.001),\n",
    "#                  metrics=[\"accuracy\", macro_f1_score])\n",
    "\n",
    "loss, accuracy, macro_f1_score_ = savedModelAug2.evaluate(testData)\n",
    "print(\"Aug2\")\n",
    "print(\"Loss:\", loss)\n",
    "print(\"macro_f1_score: \", round((macro_f1_score_*100), 2), \"%\")\n",
    "print(\"Accuracy: \", round((accuracy*100), 2), \"%\")\n"
   ]
  },
  {
   "cell_type": "markdown",
   "id": "678e41e3",
   "metadata": {},
   "source": [
    "# RNN Timestep Analysis"
   ]
  },
  {
   "cell_type": "code",
   "execution_count": null,
   "id": "edadb56b",
   "metadata": {},
   "outputs": [],
   "source": [
    "from tensorflow.keras.preprocessing.image import img_to_array, load_img\n",
    "\n",
    "img = load_img('SpectrogramData_Formatted/test/Electric/13706.png', target_size=(235, 352))\n",
    "img_array = img_to_array(img) / 255.0  # Normalize to 0-1 if that's what the model expects\n",
    "# Expand dimensions to add the batch size dimension\n",
    "img_array = np.expand_dims(img_array, axis=0)\n",
    "\n",
    "TimestepBaseline = savedModelBaseline.predict(img_array)\n",
    "\n",
    "class_indices = np.argmax(TimestepBaseline, axis=1)  # For multiclass classification\n",
    "print(TimestepBaseline)\n",
    "class_labels = testData.class_names\n",
    "\n",
    "\n",
    "# Convert class indices to labels\n",
    "predicted_labels = np.vectorize(lambda idx: class_labels[idx])(class_indices)\n",
    "\n",
    "# Map class indices to names\n",
    "#predicted_labels = [class_names[idx] for idx in class_indices]\n",
    "print(predicted_labels)"
   ]
  },
  {
   "cell_type": "code",
   "execution_count": null,
   "id": "be9c0468",
   "metadata": {},
   "outputs": [],
   "source": []
  },
  {
   "cell_type": "code",
   "execution_count": null,
   "id": "d4b5b325",
   "metadata": {},
   "outputs": [],
   "source": []
  },
  {
   "cell_type": "code",
   "execution_count": null,
   "id": "18c0ded8",
   "metadata": {},
   "outputs": [],
   "source": []
  },
  {
   "cell_type": "markdown",
   "id": "92ca758d",
   "metadata": {},
   "source": [
    "# Plots (Accuracy, F1-score, Loss)"
   ]
  },
  {
   "cell_type": "code",
   "execution_count": 31,
   "id": "507b84ae",
   "metadata": {},
   "outputs": [],
   "source": [
    "baselineMetrics = pd.read_csv(\"New/Results/Baseline_metrics.csv\")\n",
    "aug1Metrics = pd.read_csv(\"New/Results/Aug1_metrics.csv\")\n",
    "aug2Metrics = pd.read_csv(\"New/Results/Aug2_metrics.csv\")\n"
   ]
  },
  {
   "cell_type": "code",
   "execution_count": 32,
   "id": "43ad5ecf",
   "metadata": {},
   "outputs": [
    {
     "data": {
      "image/png": "[encoded data removed]",
      "text/plain": [
       "<Figure size 432x288 with 1 Axes>"
      ]
     },
     "metadata": {
      "needs_background": "light"
     },
     "output_type": "display_data"
    },
    {
     "data": {
      "image/png": "[encoded data removed]",
      "text/plain": [
       "<Figure size 432x288 with 1 Axes>"
      ]
     },
     "metadata": {
      "needs_background": "light"
     },
     "output_type": "display_data"
    },
    {
     "data": {
      "image/png": "[encoded data removed]",
      "text/plain": [
       "<Figure size 432x288 with 1 Axes>"
      ]
     },
     "metadata": {
      "needs_background": "light"
     },
     "output_type": "display_data"
    }
   ],
   "source": [
    "# https://stackoverflow.com/questions/66785014/how-to-plot-the-accuracy-and-and-loss-from-this-keras-cnn-model\n",
    "import matplotlib.pyplot as plt\n",
    "\n",
    "model = baselineMetrics\n",
    "\n",
    "# summarize history for accuracy\n",
    "plt.plot(model[\"accuracy\"])\n",
    "plt.plot(model['val_accuracy'])\n",
    "plt.title(\"Model Accuracy - Baseline\")\n",
    "plt.ylabel(\"Accuracy\")\n",
    "plt.xlabel(\"Epoch\")\n",
    "plt.legend([\"Train\", \"Validation\"], loc=\"upper left\")\n",
    "#plt.savefig(\"Plots/Aug2 Accuracy\", bbox_inches=\"tight\")\n",
    "plt.show()\n",
    "\n",
    "\n",
    "# summarize history for f1-score\n",
    "plt.plot(model[\"macro_f1_score\"])\n",
    "plt.plot(model['val_macro_f1_score'])\n",
    "plt.title(\"Model F1-Score - Baseline\")\n",
    "plt.ylabel(\"F1-Score\")\n",
    "plt.xlabel(\"Epoch\")\n",
    "plt.legend([\"Train\", \"Validation\"], loc=\"upper left\")\n",
    "#plt.savefig(\"Plots/Aug2 F1-score\", bbox_inches=\"tight\")\n",
    "plt.show()\n",
    "\n",
    "\n",
    "# summarize history for loss\n",
    "plt.plot(model[\"loss\"])\n",
    "plt.plot(model['val_loss'])\n",
    "plt.title(\"Model Loss - Baseline\")\n",
    "plt.ylabel(\"Loss\")\n",
    "plt.xlabel(\"Epoch\")\n",
    "plt.legend([\"Train\", \"Validation\"], loc=\"upper left\")\n",
    "#plt.savefig(\"Plots/Aug2 Loss\", bbox_inches=\"tight\")\n",
    "plt.show()"
   ]
  },
  {
   "cell_type": "markdown",
   "id": "ddb796e9",
   "metadata": {},
   "source": [
    "# Confusion Matrix"
   ]
  },
  {
   "cell_type": "code",
   "execution_count": null,
   "id": "08377047",
   "metadata": {},
   "outputs": [],
   "source": [
    "#https://datascience.stackexchange.com/questions/95009/good-model-but-bad-confusion-matrix"
   ]
  },
  {
   "cell_type": "markdown",
   "id": "cc2197cf",
   "metadata": {},
   "source": [
    "## Baseline"
   ]
  },
  {
   "cell_type": "code",
   "execution_count": 84,
   "id": "9cb985e8",
   "metadata": {},
   "outputs": [
    {
     "name": "stdout",
     "output_type": "stream",
     "text": [
      "8/8 [==============================] - 66s 8s/step\n",
      "Found 495 images belonging to 5 classes.\n"
     ]
    },
    {
     "data": {
      "image/png": "[encoded data removed]",
      "text/plain": [
       "<Figure size 432x288 with 2 Axes>"
      ]
     },
     "metadata": {
      "needs_background": "light"
     },
     "output_type": "display_data"
    }
   ],
   "source": [
    "# Predict probabilities for each sample\n",
    "predicted_probs = savedModelBaseline.predict(testData)\n",
    "\n",
    "# Set up the test data generator and flow\n",
    "test_data_generator = tf.keras.preprocessing.image.ImageDataGenerator(preprocessing_function=tf.keras.applications.resnet.preprocess_input)\n",
    "test_data_flow = test_data_generator.flow_from_directory(\"SpectrogramData_Formatted/test\", target_size=(235, 352, 3), batch_size=64, shuffle=False)\n",
    "\n",
    "# Extract true class labels and predicted class indices\n",
    "true_labels = test_data_flow.classes\n",
    "predicted_labels = np.argmax(predicted_probs, axis=1)\n",
    "class_labels = list(test_data_flow.class_indices.keys())\n",
    "\n",
    "confusion_mat_baseline = confusion_matrix(true_labels, predicted_labels)\n",
    "\n",
    "sns.heatmap(confusion_mat_baseline, annot=True, fmt='d', cmap='Blues', xticklabels=class_labels, yticklabels=class_labels)\n",
    "plt.savefig('confusion_matrix_Baseline.png', bbox_inches='tight')\n",
    "\n"
   ]
  },
  {
   "cell_type": "code",
   "execution_count": null,
   "id": "55846022",
   "metadata": {},
   "outputs": [],
   "source": []
  },
  {
   "cell_type": "markdown",
   "id": "2cbc5762",
   "metadata": {},
   "source": [
    "## Augmentation 1"
   ]
  },
  {
   "cell_type": "code",
   "execution_count": 76,
   "id": "ac82fa20",
   "metadata": {},
   "outputs": [
    {
     "name": "stdout",
     "output_type": "stream",
     "text": [
      "8/8 [==============================] - 27s 3s/step\n",
      "Found 495 images belonging to 5 classes.\n"
     ]
    },
    {
     "data": {
      "image/png": "[encoded data removed]",
      "text/plain": [
       "<Figure size 432x288 with 2 Axes>"
      ]
     },
     "metadata": {
      "needs_background": "light"
     },
     "output_type": "display_data"
    }
   ],
   "source": [
    "# Predict probabilities for each sample\n",
    "predicted_probs = savedModelAug1.predict(testData)\n",
    "\n",
    "# Set up the test data generator and flow\n",
    "test_data_generator = tf.keras.preprocessing.image.ImageDataGenerator(preprocessing_function=tf.keras.applications.resnet.preprocess_input)\n",
    "test_data_flow = test_data_generator.flow_from_directory(\"SpectrogramData_Formatted/test\", target_size=(235, 352, 3), batch_size=64, shuffle=False)\n",
    "\n",
    "# Extract true class labels and predicted class indices\n",
    "true_labels = test_data_flow.classes\n",
    "predicted_labels = np.argmax(predicted_probs, axis=1)\n",
    "class_labels = list(test_data_flow.class_indices.keys())\n",
    "\n",
    "confusion_mat_aug1 = confusion_matrix(true_labels, predicted_labels)\n",
    "\n",
    "sns.heatmap(confusion_mat_aug1, annot=True, fmt='d', cmap='Blues', xticklabels=class_labels, yticklabels=class_labels)\n",
    "plt.savefig('confusion_matrix_Aug1.png', bbox_inches='tight')\n",
    "\n",
    "\n"
   ]
  },
  {
   "cell_type": "code",
   "execution_count": null,
   "id": "a03eb337",
   "metadata": {},
   "outputs": [],
   "source": []
  },
  {
   "cell_type": "markdown",
   "id": "60023288",
   "metadata": {},
   "source": [
    "## Diff Baseline to Aug1"
   ]
  },
  {
   "cell_type": "code",
   "execution_count": 33,
   "id": "bb279eb9",
   "metadata": {},
   "outputs": [
    {
     "data": {
      "image/png": "[encoded data removed]",
      "text/plain": [
       "<Figure size 432x288 with 2 Axes>"
      ]
     },
     "metadata": {
      "needs_background": "light"
     },
     "output_type": "display_data"
    }
   ],
   "source": [
    "diffAug1 = confusion_mat_aug1 - confusion_mat_baseline\n",
    "class_labels = [\"Electric\", \"Experimental\", \"Folk\", \"Hip-Hop\", \"Instrumental\", \"International\", \"Pop\", \"Rock\"]\n",
    "sns.heatmap(diffAug1, annot=True, fmt='d', cmap='Blues', xticklabels=class_labels, yticklabels=class_labels)\n",
    "plt.savefig('confusion_matrix_diffAug1.png', bbox_inches='tight')\n"
   ]
  },
  {
   "cell_type": "markdown",
   "id": "4f2302a8",
   "metadata": {},
   "source": [
    "## Augmentation 2"
   ]
  },
  {
   "cell_type": "code",
   "execution_count": null,
   "id": "0fc69212",
   "metadata": {},
   "outputs": [],
   "source": [
    "# Get predicted probabilities for each sample\n",
    "predicted_probs = savedModelAug2.predict(testData)\n",
    "\n",
    "\n",
    "# Get true class labels and predicted class indices\n",
    "test_data_generator = tf.keras.preprocessing.image.ImageDataGenerator(preprocessing_function=tf.keras.applications.resnet.preprocess_input)\n",
    "test_data_flow = test_data_generator.flow_from_directory(\"SpectrogramData_Formatted/test\", target_size=(235, 352), batch_size=64, shuffle=False)\n",
    "\n",
    "true_labels = test_data_flow.classes\n",
    "predicted_labels = np.argmax(predicted_probs, axis=1)\n",
    "\n",
    "# Calculate the confusion matrix\n",
    "confusion_mat_aug2 = confusion_matrix(true_labels, predicted_labels)\n",
    "class_labels = [\"Electric\", \"Experimental\", \"Folk\", \"Hip-Hop\", \"Instrumental\", \"International\", \"Pop\", \"Rock\"]\n",
    "sns.heatmap(confusion_mat_aug2, annot=True, fmt='d', cmap='Blues', xticklabels=class_labels, yticklabels=class_labels)\n",
    "plt.savefig('confusion_matrix_Aug2.png', bbox_inches='tight')\n",
    "\n"
   ]
  },
  {
   "cell_type": "markdown",
   "id": "06c4a9bf",
   "metadata": {},
   "source": [
    "## Diff Baseline to Aug2"
   ]
  },
  {
   "cell_type": "code",
   "execution_count": null,
   "id": "b4571054",
   "metadata": {},
   "outputs": [],
   "source": [
    "diffAug2 = confusion_mat_aug2 - confusion_mat_baseline\n",
    "class_labels = [\"Electric\", \"Experimental\", \"Folk\", \"Hip-Hop\", \"Instrumental\", \"International\", \"Pop\", \"Rock\"]\n",
    "sns.heatmap(diffAug2, annot=True, fmt='d', cmap='Blues', xticklabels=class_labels, yticklabels=class_labels)\n",
    "plt.savefig('confusion_matrix_diffAug2.png', bbox_inches='tight')\n"
   ]
  },
  {
   "cell_type": "code",
   "execution_count": null,
   "id": "13872629",
   "metadata": {},
   "outputs": [],
   "source": []
  },
  {
   "cell_type": "code",
   "execution_count": null,
   "id": "7ef1962e",
   "metadata": {},
   "outputs": [],
   "source": []
  },
  {
   "cell_type": "code",
   "execution_count": null,
   "id": "7a59f977",
   "metadata": {},
   "outputs": [],
   "source": []
  },
  {
   "cell_type": "markdown",
   "id": "60d62b03",
   "metadata": {},
   "source": [
    "# Saliency Map"
   ]
  },
  {
   "cell_type": "code",
   "execution_count": null,
   "id": "9df3b395",
   "metadata": {},
   "outputs": [],
   "source": [
    "from tensorflow.keras.preprocessing import image\n",
    "import matplotlib.pyplot as plt\n",
    "import numpy as np\n",
    "import os\n",
    "import tensorflow as tf\n",
    "\n",
    "# Load your pre-trained model (replace this with your actual model loading code)\n",
    "#savedModelBaseline = tf.keras.models.load_model(\"path_to_your_model\")\n",
    "\n",
    "def calculate_saliency(image_path, model):\n",
    "    img = image.load_img(image_path, target_size=(235, 352))\n",
    "    img_array = image.img_to_array(img)\n",
    "    img_array = np.expand_dims(img_array, axis=0)\n",
    "    img_array = tf.keras.applications.resnet.preprocess_input(img_array)\n",
    "\n",
    "    img_tensor = tf.convert_to_tensor(img_array)\n",
    "    \n",
    "    with tf.GradientTape() as tape:\n",
    "        tape.watch(img_tensor)\n",
    "        predictions = model(img_tensor)\n",
    "        top_prediction = predictions[0, np.argmax(predictions)]\n",
    "    gradient = tape.gradient(top_prediction, img_tensor)\n",
    "    saliency_map = tf.reduce_max(gradient, axis=-1)\n",
    "    \n",
    "    # Normalize the saliency map\n",
    "    saliency_map = (saliency_map - tf.reduce_min(saliency_map)) / (tf.reduce_max(saliency_map) - tf.reduce_min(saliency_map))\n",
    "    return saliency_map\n",
    "\n",
    "genre_labels = [\"Electric\", \"Experimental\", \"Folk\", \"Hip-Hop\", \"Instrumental\", \"International\", \"Pop\", \"Rock\"]\n",
    "\n",
    "for genre in genre_labels:\n",
    "    image_directory = \"SpectrogramData_Formatted/test/\"+genre\n",
    "    image_files = os.listdir(image_directory)\n",
    "\n",
    "    # Initialize an array to store all the saliency maps\n",
    "    all_saliency_maps = []\n",
    "\n",
    "    # Loop through all image files\n",
    "    count = 0\n",
    "    items = os.listdir(image_directory)\n",
    "    spectrogram_count = len(items)\n",
    "\n",
    "    for image_file in image_files:\n",
    "        image_path = os.path.join(image_directory, image_file)\n",
    "        count += 1\n",
    "        print(count/spectrogram_count)\n",
    "        saliency_map = calculate_saliency(image_path, savedModelAug2)\n",
    "        all_saliency_maps.append(saliency_map)\n",
    "\n",
    "    # Calculate the average saliency map\n",
    "    average_saliency_map = np.mean(all_saliency_maps, axis=0)\n",
    "\n",
    "    # Normalize the average saliency map\n",
    "    average_saliency_map = (average_saliency_map - np.min(average_saliency_map)) / (np.max(average_saliency_map) - np.min(average_saliency_map))\n",
    "\n",
    "    # Visualize the average saliency map\n",
    "    plt.imshow(average_saliency_map[0], cmap=\"jet\")\n",
    "    plt.axis(\"off\")\n",
    "    plt.savefig(\"saliencyAverage\"+genre+\".png\", bbox_inches=\"tight\")\n",
    "    plt.show()\n"
   ]
  },
  {
   "cell_type": "code",
   "execution_count": null,
   "id": "b0fe4d8b",
   "metadata": {},
   "outputs": [],
   "source": []
  },
  {
   "cell_type": "code",
   "execution_count": null,
   "id": "09d0ed6f",
   "metadata": {},
   "outputs": [],
   "source": []
  },
  {
   "cell_type": "code",
   "execution_count": null,
   "id": "04a88471",
   "metadata": {},
   "outputs": [],
   "source": [
    "calculate_saliency(\"SpectrogramData_Formatted/test/Pop/10.png\", savedModelAug2)"
   ]
  },
  {
   "cell_type": "code",
   "execution_count": null,
   "id": "f1d5416f",
   "metadata": {
    "scrolled": true
   },
   "outputs": [],
   "source": [
    "from PIL import Image\n",
    "\n",
    "image_path_ = \"SpectrogramData_Formatted/training_Noise+/Pop/3535.png\"\n",
    "image_path_Aug = \"SpectrogramData_Formatted/training_Noise+/Pop/3535_Aug2.png\"\n",
    "\n",
    "\n",
    "img = image.load_img(image_path_, target_size=(235, 352))\n",
    "img_array = image.img_to_array(img)\n",
    "\n",
    "img = image.load_img(image_path_Aug, target_size=(235, 352))\n",
    "img_arrayAug = image.img_to_array(img)\n",
    "\n",
    "new_img = (img_arrayAug*1) - (img_array*1)\n",
    "\n",
    "# Display the NumPy array as an image using matplotlib\n",
    "plt.imshow(new_img)\n",
    "plt.axis(\"off\")  # Turn off axes\n",
    "plt.show()\n",
    "\n",
    "print(new_img)\n"
   ]
  },
  {
   "cell_type": "code",
   "execution_count": null,
   "id": "998299c7",
   "metadata": {},
   "outputs": [],
   "source": [
    "import numpy as np\n",
    "import matplotlib.pyplot as plt\n",
    "\n",
    "# Load or generate your original and augmented spectrograms\n",
    "original_spectrogram = image.load_img(\"SpectrogramData_Formatted/training_Noise+/Pop/3535.png\", target_size=(235, 352))\n",
    "original_spectrogram = image.img_to_array(original_spectrogram)\n",
    "augmented_spectrogram = image.load_img(\"SpectrogramData_Formatted/training_Noise+/Pop/3535_Aug2.png\", target_size=(235, 352))\n",
    "augmented_spectrogram = image.img_to_array(augmented_spectrogram)\n",
    "\n",
    "# Compute the absolute difference between the two spectrograms\n",
    "spectrogram_difference = np.abs(augmented_spectrogram - original_spectrogram)\n",
    "\n",
    "# Apply the threshold by setting differences below the threshold to zero\n",
    "spectrogram_difference[spectrogram_difference > 0.8]\n",
    "\n",
    "# Plot the original spectrogram\n",
    "plt.figure(figsize=(15, 5))\n",
    "plt.subplot(1, 3, 1)\n",
    "plt.imshow(original_spectrogram, cmap='viridis', aspect='auto')\n",
    "plt.title('Original Spectrogram')\n",
    "plt.colorbar()\n",
    "\n",
    "# Plot the augmented spectrogram\n",
    "plt.subplot(1, 3, 2)\n",
    "plt.imshow(augmented_spectrogram, cmap='viridis', aspect='auto')\n",
    "plt.title('Augmented Spectrogram')\n",
    "plt.colorbar()\n",
    "\n",
    "# Plot the spectrogram difference\n",
    "plt.subplot(1, 3, 3)\n",
    "plt.imshow(spectrogram_difference, cmap='viridis', aspect='auto')\n",
    "plt.title('Spectrogram Difference')\n",
    "plt.colorbar()\n",
    "\n",
    "plt.tight_layout()\n",
    "plt.show()\n"
   ]
  },
  {
   "cell_type": "code",
   "execution_count": null,
   "id": "10e9c9a0",
   "metadata": {},
   "outputs": [],
   "source": []
  },
  {
   "cell_type": "code",
   "execution_count": null,
   "id": "34c421be",
   "metadata": {},
   "outputs": [],
   "source": []
  }
 ],
 "metadata": {
  "kernelspec": {
   "display_name": "Python 3 (ipykernel)",
   "language": "python",
   "name": "python3"
  },
  "language_info": {
   "codemirror_mode": {
    "name": "ipython",
    "version": 3
   },
   "file_extension": ".py",
   "mimetype": "text/x-python",
   "name": "python",
   "nbconvert_exporter": "python",
   "pygments_lexer": "ipython3",
   "version": "3.9.12"
  }
 },
 "nbformat": 4,
 "nbformat_minor": 5
}
