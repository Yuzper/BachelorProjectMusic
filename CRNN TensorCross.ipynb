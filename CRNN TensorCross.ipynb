{
 "cells": [
  {
   "cell_type": "code",
   "execution_count": 4,
   "id": "9b39cc15",
   "metadata": {},
   "outputs": [],
   "source": [
    "import os\n",
    "import math\n",
    "import shutil\n",
    "import numpy as np\n",
    "import pandas as pd\n",
    "from math import floor\n",
    "import tensorflow as tf\n",
    "from tensorflow import keras\n",
    "from tensorflow.keras.models import Sequential, Model\n",
    "from tensorflow.keras.layers import Input, Conv2D, MaxPool2D, Flatten, Dense, Dropout, GRU, TimeDistributed, BatchNormalization, Rescaling\n",
    "#from tensorflow.keras.wrappers.scikit_learn import KerasClassifier\n",
    "#from sklearn.model_selection import GridSearchCV\n",
    "from tensorflow.keras.models import load_model\n",
    "from tensorflow.keras.preprocessing.image import ImageDataGenerator\n",
    "import tensorcross\n"
   ]
  },
  {
   "cell_type": "code",
   "execution_count": 2,
   "id": "d5d706a9",
   "metadata": {},
   "outputs": [],
   "source": [
    "#!pip install tensorcross\n",
    "#!pip install TensorFlow==2.13"
   ]
  },
  {
   "cell_type": "code",
   "execution_count": 3,
   "id": "2a7384a1",
   "metadata": {},
   "outputs": [],
   "source": [
    "#print(tf.__version__)"
   ]
  },
  {
   "cell_type": "markdown",
   "id": "3f8c1bc4",
   "metadata": {},
   "source": [
    "# CRNN Model"
   ]
  },
  {
   "cell_type": "code",
   "execution_count": 4,
   "id": "a15b7b0f",
   "metadata": {},
   "outputs": [],
   "source": [
    "tf.random.set_seed(42)\n",
    "np.random.seed(42)"
   ]
  },
  {
   "cell_type": "markdown",
   "id": "3fd877cf",
   "metadata": {},
   "source": [
    "## Define Model"
   ]
  },
  {
   "cell_type": "code",
   "execution_count": 5,
   "id": "9c9247c5",
   "metadata": {},
   "outputs": [],
   "source": [
    "import keras.backend as K\n",
    "\n",
    "def macro_f1_score(y_true, y_pred):\n",
    "    \"\"\"\n",
    "    Calculate macro-average F1 score using Keras backend.\n",
    "\n",
    "    Parameters:\n",
    "        y_true (tensor or array): The true class labels (ground truth) as a tensor or Numpy array.\n",
    "        y_pred (tensor or array): The predicted class labels as a tensor or Numpy array.\n",
    "\n",
    "    Returns:\n",
    "        float: The macro-average F1 score.\n",
    "    \"\"\"\n",
    "    # Convert Numpy arrays to Keras backend tensors\n",
    "    if not tf.is_tensor(y_true):\n",
    "        y_true = K.constant(y_true)\n",
    "\n",
    "    if not tf.is_tensor(y_pred):\n",
    "        y_pred = K.constant(y_pred)\n",
    "    \n",
    "    # Calculate true positives, false positives, and false negatives for each class\n",
    "    tp = K.sum(y_true * K.round(y_pred), axis=0)\n",
    "    fp = K.sum(K.round(K.clip(y_pred - y_true, 0, 1)), axis=0)\n",
    "    fn = K.sum(K.round(K.clip(y_true - y_pred, 0, 1)), axis=0)\n",
    "\n",
    "    # Calculate precision and recall for each class\n",
    "    precision = tp / (tp + fp + K.epsilon())\n",
    "    recall = tp / (tp + fn + K.epsilon())\n",
    "\n",
    "    # Calculate F1 score for each class\n",
    "    f1_score = 2 * (precision * recall) / (precision + recall + K.epsilon())\n",
    "\n",
    "    # Calculate macro-average F1 score\n",
    "    macro_f1 = K.mean(f1_score)\n",
    "\n",
    "    return macro_f1"
   ]
  },
  {
   "cell_type": "code",
   "execution_count": null,
   "id": "46c93bfd",
   "metadata": {},
   "outputs": [],
   "source": []
  },
  {
   "cell_type": "code",
   "execution_count": 5,
   "id": "a3ac1150",
   "metadata": {},
   "outputs": [],
   "source": [
    "# Defines function for model artitecture:\n",
    "\n",
    "def create_model(n_filters, kernel_sizes, pool_sizes, GRU_units, dropout_rate, learning_rate, epochs, batch_size): # 8 Hyperparameters\n",
    "    # Define the input shape\n",
    "    input_shape = (235, 352, 3)\n",
    "\n",
    "    # Define the CRNN architecture\n",
    "    model = Sequential()\n",
    "    model.add(Rescaling(1./255, input_shape=input_shape))\n",
    "\n",
    "    # Conv Block 1\n",
    "    model.add(Conv2D(filters=n_filters[0], kernel_size=kernel_sizes, activation=\"relu\", input_shape=input_shape))\n",
    "    model.add(MaxPool2D(pool_size=pool_sizes))\n",
    "    model.add(Dropout(dropout_rate))\n",
    "    model.add(BatchNormalization())\n",
    "\n",
    "    # Conv Block 2\n",
    "    model.add(Conv2D(filters=n_filters[1], kernel_size=kernel_sizes, activation=\"relu\"))\n",
    "    model.add(MaxPool2D(pool_size=pool_sizes))\n",
    "    model.add(Dropout(dropout_rate))\n",
    "    model.add(BatchNormalization())\n",
    "    \n",
    "    # Conv Block 3\n",
    "    model.add(Conv2D(filters=n_filters[2], kernel_size=kernel_sizes, activation=\"relu\"))\n",
    "    model.add(MaxPool2D(pool_size=pool_sizes))\n",
    "    model.add(Dropout(dropout_rate))\n",
    "    model.add(BatchNormalization())\n",
    "    \n",
    "    # Recurrent layers\n",
    "    model.add(TimeDistributed(Flatten()))\n",
    "    model.add(GRU(GRU_units*2, return_sequences=True))\n",
    "    model.add(GRU(GRU_units))\n",
    "    \n",
    "    # Fully connected layers\n",
    "    model.add(Dense(128, activation=\"relu\"))\n",
    "    model.add(Dropout(dropout_rate))\n",
    "    num_classes = 8\n",
    "    model.add(Dense(num_classes, activation=\"softmax\"))\n",
    "\n",
    "    model.compile(loss=\"categorical_crossentropy\",\n",
    "                  optimizer=tf.keras.optimizers.Adam(learning_rate=learning_rate),\n",
    "                  metrics=[\"accuracy\", tf.keras.metrics.F1Score(average = \"macro\")]\n",
    "                 )\n",
    "    return model"
   ]
  },
  {
   "cell_type": "code",
   "execution_count": 7,
   "id": "e48495de",
   "metadata": {},
   "outputs": [
    {
     "name": "stdout",
     "output_type": "stream",
     "text": [
      "Model: \"sequential_1\"\n",
      "_________________________________________________________________\n",
      " Layer (type)                Output Shape              Param #   \n",
      "=================================================================\n",
      " rescaling_1 (Rescaling)     (None, 235, 352, 3)       0         \n",
      "                                                                 \n",
      " conv2d_3 (Conv2D)           (None, 232, 349, 16)      784       \n",
      "                                                                 \n",
      " max_pooling2d_3 (MaxPoolin  (None, 116, 174, 16)      0         \n",
      " g2D)                                                            \n",
      "                                                                 \n",
      " dropout_4 (Dropout)         (None, 116, 174, 16)      0         \n",
      "                                                                 \n",
      " batch_normalization_3 (Bat  (None, 116, 174, 16)      64        \n",
      " chNormalization)                                                \n",
      "                                                                 \n",
      " conv2d_4 (Conv2D)           (None, 113, 171, 32)      8224      \n",
      "                                                                 \n",
      " max_pooling2d_4 (MaxPoolin  (None, 56, 85, 32)        0         \n",
      " g2D)                                                            \n",
      "                                                                 \n",
      " dropout_5 (Dropout)         (None, 56, 85, 32)        0         \n",
      "                                                                 \n",
      " batch_normalization_4 (Bat  (None, 56, 85, 32)        128       \n",
      " chNormalization)                                                \n",
      "                                                                 \n",
      " conv2d_5 (Conv2D)           (None, 53, 82, 64)        32832     \n",
      "                                                                 \n",
      " max_pooling2d_5 (MaxPoolin  (None, 26, 41, 64)        0         \n",
      " g2D)                                                            \n",
      "                                                                 \n",
      " dropout_6 (Dropout)         (None, 26, 41, 64)        0         \n",
      "                                                                 \n",
      " batch_normalization_5 (Bat  (None, 26, 41, 64)        256       \n",
      " chNormalization)                                                \n",
      "                                                                 \n",
      " time_distributed_1 (TimeDi  (None, 26, 2624)          0         \n",
      " stributed)                                                      \n",
      "                                                                 \n",
      " gru_2 (GRU)                 (None, 26, 128)           1057536   \n",
      "                                                                 \n",
      " gru_3 (GRU)                 (None, 64)                37248     \n",
      "                                                                 \n",
      " dense_2 (Dense)             (None, 128)               8320      \n",
      "                                                                 \n",
      " dropout_7 (Dropout)         (None, 128)               0         \n",
      "                                                                 \n",
      " dense_3 (Dense)             (None, 8)                 1032      \n",
      "                                                                 \n",
      "=================================================================\n",
      "Total params: 1146424 (4.37 MB)\n",
      "Trainable params: 1146200 (4.37 MB)\n",
      "Non-trainable params: 224 (896.00 Byte)\n",
      "_________________________________________________________________\n"
     ]
    }
   ],
   "source": [
    "model = create_model(n_filters = (64, 128, 256),\n",
    "                     kernel_sizes = (4,4),\n",
    "                     pool_sizes = (3,3),\n",
    "                     GRU_units = 64,\n",
    "                     dropout_rate = 0.1,\n",
    "                     learning_rate = 0.001,\n",
    "                     epochs = 32,\n",
    "                     batch_size = 64)\n",
    "\n",
    "model.summary()"
   ]
  },
  {
   "cell_type": "markdown",
   "id": "2afc1686",
   "metadata": {},
   "source": [
    "## Create Dataset"
   ]
  },
  {
   "cell_type": "code",
   "execution_count": 43,
   "id": "de872295",
   "metadata": {},
   "outputs": [
    {
     "name": "stdout",
     "output_type": "stream",
     "text": [
      "Found 7115 files belonging to 8 classes.\n",
      "\n",
      "Found 7115 files belonging to 8 classes.\n",
      "Using 5692 files for training.\n",
      "Using 1423 files for validation.\n"
     ]
    }
   ],
   "source": [
    "batch_size = 64\n",
    "\n",
    "# https://www.tensorflow.org/api_docs/python/tf/keras/utils/image_dataset_from_directory\n",
    "trainingData = tf.keras.utils.image_dataset_from_directory(\n",
    "    directory = \"SpectrogramData_Formatted/training\",\n",
    "    labels=\"inferred\",\n",
    "    label_mode = \"categorical\",\n",
    "    color_mode=\"rgb\",\n",
    "    batch_size=batch_size,\n",
    "    image_size=(235, 352),\n",
    "    shuffle=True,\n",
    "    seed=42\n",
    ")\n",
    "print()\n",
    "\n",
    "# Construct dataset for best model, making a seperate dataset since I need a random split of validation here.\n",
    "bestTrainingData = tf.keras.utils.image_dataset_from_directory(\n",
    "    directory = \"SpectrogramData_Formatted/training\",\n",
    "    labels=\"inferred\",\n",
    "    label_mode = \"categorical\",\n",
    "    color_mode=\"rgb\",\n",
    "    validation_split=0.2,\n",
    "    subset=\"both\",\n",
    "    batch_size=batch_size,\n",
    "    image_size=(235, 352),\n",
    "    shuffle=True,\n",
    "    seed=42\n",
    ")\n"
   ]
  },
  {
   "cell_type": "markdown",
   "id": "7879e6d5",
   "metadata": {},
   "source": [
    "## Training"
   ]
  },
  {
   "cell_type": "code",
   "execution_count": 38,
   "id": "b16ba7f4",
   "metadata": {},
   "outputs": [
    {
     "name": "stdout",
     "output_type": "stream",
     "text": [
      "Running Comb: 0\n",
      "Running Fold: 0\n",
      "56/56 [==============================] - 184s 3s/step - loss: 2.0609 - accuracy: 0.1541 - f1_score: 0.1184 - val_loss: 2.1298 - val_accuracy: 0.1325 - val_f1_score: 0.0363\n",
      "Running Fold: 1\n",
      "56/56 [==============================] - 165s 3s/step - loss: 2.0806 - accuracy: 0.1275 - f1_score: 0.1063 - val_loss: 2.0739 - val_accuracy: 0.1439 - val_f1_score: 0.0911\n",
      "Running Comb: 1\n",
      "Running Fold: 0\n",
      "56/56 [==============================] - 155s 3s/step - loss: 2.0665 - accuracy: 0.1498 - f1_score: 0.1030 - val_loss: 2.0870 - val_accuracy: 0.1230 - val_f1_score: 0.0370\n",
      "Running Fold: 1\n",
      "56/56 [==============================] - 161s 3s/step - loss: 2.0676 - accuracy: 0.1585 - f1_score: 0.1237 - val_loss: 2.0896 - val_accuracy: 0.1181 - val_f1_score: 0.0264\n",
      "89/89 - 222s - loss: 2.0576 - accuracy: 0.1803 - f1_score: 0.1355 - val_loss: 2.0397 - val_accuracy: 0.1862 - val_f1_score: 0.1089 - 222s/epoch - 2s/step\n"
     ]
    }
   ],
   "source": [
    "tf.random.set_seed(42)\n",
    "np.random.seed(42)\n",
    "\n",
    "from tensorcross.model_selection import GridSearchCV\n",
    "\n",
    "# Define the parameter grid\n",
    "param_grid = {\n",
    "    \"n_filters\": [(16,32,64)],\n",
    "    \"kernel_sizes\": [(3,3)],\n",
    "    \"pool_sizes\": [(2,2)],\n",
    "    \"GRU_units\": [8],\n",
    "    \"dropout_rate\": [0.1],\n",
    "    \"learning_rate\": [0.0001],\n",
    "    \"epochs\": [1, 2],\n",
    "    \"batch_size\": [64]\n",
    "}\n",
    "\n",
    "grid_search_cv = GridSearchCV(model_fn = create_model,\n",
    "                          param_grid = param_grid,\n",
    "                          n_folds = 2,\n",
    "                          verbose = 1)\n",
    "\n",
    "grid_search_cv.fit(dataset = trainingData, verbose = 1)\n",
    "\n",
    "best_params_ = grid_search_cv.results_[\"best_params\"]\n",
    "\n",
    "# Retraining best model\n",
    "# Create the model with the current parameter values\n",
    "bestModelArchitecture = create_model(n_filters = best_params_[\"n_filters\"],\n",
    "                     kernel_sizes = best_params_[\"kernel_sizes\"],\n",
    "                     pool_sizes = best_params_[\"pool_sizes\"],\n",
    "                     GRU_units = best_params_[\"GRU_units\"],\n",
    "                     dropout_rate = best_params_[\"dropout_rate\"],\n",
    "                     learning_rate = best_params_[\"learning_rate\"],\n",
    "                     epochs = best_params_[\"epochs\"],\n",
    "                     batch_size = best_params_[\"batch_size\"])\n",
    "\n",
    "# Train and evaluate the model\n",
    "bestModel = bestModelArchitecture.fit(bestTrainingData[0], validation_data = bestTrainingData[1], epochs=epochs, verbose=2)\n",
    "    \n",
    "bestModelArchitecture.save(\"best_model_baseline.h5\")"
   ]
  },
  {
   "cell_type": "code",
   "execution_count": 2,
   "id": "8baaf5a0",
   "metadata": {},
   "outputs": [
    {
     "ename": "NameError",
     "evalue": "name 'grid_search_cv' is not defined",
     "output_type": "error",
     "traceback": [
      "\u001b[1;31m---------------------------------------------------------------------------\u001b[0m",
      "\u001b[1;31mNameError\u001b[0m                                 Traceback (most recent call last)",
      "Input \u001b[1;32mIn [2]\u001b[0m, in \u001b[0;36m<cell line: 1>\u001b[1;34m()\u001b[0m\n\u001b[1;32m----> 1\u001b[0m best_params_ \u001b[38;5;241m=\u001b[39m \u001b[43mgrid_search_cv\u001b[49m\u001b[38;5;241m.\u001b[39mresults_[\u001b[38;5;124m\"\u001b[39m\u001b[38;5;124mbest_params\u001b[39m\u001b[38;5;124m\"\u001b[39m]\n\u001b[0;32m      2\u001b[0m best_params_\n",
      "\u001b[1;31mNameError\u001b[0m: name 'grid_search_cv' is not defined"
     ]
    }
   ],
   "source": [
    "best_params_ = grid_search_cv.results_[\"best_params\"]\n",
    "best_params_\n"
   ]
  },
  {
   "cell_type": "code",
   "execution_count": 41,
   "id": "f9b7be89",
   "metadata": {},
   "outputs": [
    {
     "data": {
      "text/plain": [
       "{'loss': [2.057631254196167],\n",
       " 'accuracy': [0.18025298416614532],\n",
       " 'f1_score': [0.13547660410404205],\n",
       " 'val_loss': [2.0396718978881836],\n",
       " 'val_accuracy': [0.1862262785434723],\n",
       " 'val_f1_score': [0.10890208184719086]}"
      ]
     },
     "execution_count": 41,
     "metadata": {},
     "output_type": "execute_result"
    }
   ],
   "source": [
    "bestModel.history"
   ]
  },
  {
   "cell_type": "code",
   "execution_count": 42,
   "id": "22ee2b4e",
   "metadata": {},
   "outputs": [
    {
     "name": "stdout",
     "output_type": "stream",
     "text": [
      "Model: \"sequential_22\"\n",
      "_________________________________________________________________\n",
      " Layer (type)                Output Shape              Param #   \n",
      "=================================================================\n",
      " conv2d_66 (Conv2D)          (None, 233, 350, 16)      448       \n",
      "                                                                 \n",
      " max_pooling2d_66 (MaxPooli  (None, 116, 175, 16)      0         \n",
      " ng2D)                                                           \n",
      "                                                                 \n",
      " dropout_88 (Dropout)        (None, 116, 175, 16)      0         \n",
      "                                                                 \n",
      " batch_normalization_66 (Ba  (None, 116, 175, 16)      64        \n",
      " tchNormalization)                                               \n",
      "                                                                 \n",
      " conv2d_67 (Conv2D)          (None, 114, 173, 32)      4640      \n",
      "                                                                 \n",
      " max_pooling2d_67 (MaxPooli  (None, 57, 86, 32)        0         \n",
      " ng2D)                                                           \n",
      "                                                                 \n",
      " dropout_89 (Dropout)        (None, 57, 86, 32)        0         \n",
      "                                                                 \n",
      " batch_normalization_67 (Ba  (None, 57, 86, 32)        128       \n",
      " tchNormalization)                                               \n",
      "                                                                 \n",
      " conv2d_68 (Conv2D)          (None, 55, 84, 64)        18496     \n",
      "                                                                 \n",
      " max_pooling2d_68 (MaxPooli  (None, 27, 42, 64)        0         \n",
      " ng2D)                                                           \n",
      "                                                                 \n",
      " dropout_90 (Dropout)        (None, 27, 42, 64)        0         \n",
      "                                                                 \n",
      " batch_normalization_68 (Ba  (None, 27, 42, 64)        256       \n",
      " tchNormalization)                                               \n",
      "                                                                 \n",
      " time_distributed_22 (TimeD  (None, 27, 2688)          0         \n",
      " istributed)                                                     \n",
      "                                                                 \n",
      " gru_44 (GRU)                (None, 27, 16)            129888    \n",
      "                                                                 \n",
      " gru_45 (GRU)                (None, 8)                 624       \n",
      "                                                                 \n",
      " dense_44 (Dense)            (None, 128)               1152      \n",
      "                                                                 \n",
      " dropout_91 (Dropout)        (None, 128)               0         \n",
      "                                                                 \n",
      " dense_45 (Dense)            (None, 8)                 1032      \n",
      "                                                                 \n",
      "=================================================================\n",
      "Total params: 156728 (612.22 KB)\n",
      "Trainable params: 156504 (611.34 KB)\n",
      "Non-trainable params: 224 (896.00 Byte)\n",
      "_________________________________________________________________\n"
     ]
    }
   ],
   "source": [
    "bestModelArchitecture.summary()"
   ]
  },
  {
   "cell_type": "code",
   "execution_count": 44,
   "id": "50bebcb3",
   "metadata": {},
   "outputs": [
    {
     "name": "stdout",
     "output_type": "stream",
     "text": [
      "Found 789 files belonging to 8 classes.\n",
      "13/13 [==============================] - 8s 499ms/step - loss: 2.0585 - accuracy: 0.1952 - f1_score: 0.1150\n",
      "\n",
      "Test Accuracy: 0.19518378376960754\n",
      "Test f1_score 0.1149878203868866\n",
      "Test Loss 2.0585107803344727\n"
     ]
    }
   ],
   "source": [
    "from sklearn.metrics import precision_score, recall_score\n",
    "from sklearn.metrics import f1_score\n",
    "\n",
    "# Evaluate the model on the test set\n",
    "testData = tf.keras.utils.image_dataset_from_directory(\n",
    "    directory = \"SpectrogramData_Formatted/test\",\n",
    "    labels=\"inferred\",\n",
    "    label_mode = \"categorical\",\n",
    "    color_mode=\"rgb\",\n",
    "    batch_size=batch_size,\n",
    "    image_size=(235, 352),\n",
    "    shuffle=True,\n",
    "    seed=42\n",
    ")\n",
    "\n",
    "\n",
    "test_loss, test_accuracy, test_f1_score = bestModelArchitecture.evaluate(testData)\n",
    "\n",
    "# Print the best parameters and accuracy\n",
    "print()\n",
    "print(\"Test Accuracy:\", test_accuracy)\n",
    "print(\"Test f1_score\", test_f1_score)\n",
    "print(\"Test Loss\", test_loss)\n"
   ]
  },
  {
   "cell_type": "code",
   "execution_count": 45,
   "id": "8dff88e6",
   "metadata": {},
   "outputs": [
    {
     "data": {
      "image/png": "[encoded data removed]",
      "text/plain": [
       "<Figure size 432x288 with 1 Axes>"
      ]
     },
     "metadata": {
      "needs_background": "light"
     },
     "output_type": "display_data"
    },
    {
     "data": {
      "image/png": "[encoded data removed]",
      "text/plain": [
       "<Figure size 432x288 with 1 Axes>"
      ]
     },
     "metadata": {
      "needs_background": "light"
     },
     "output_type": "display_data"
    }
   ],
   "source": [
    "# https://stackoverflow.com/questions/66785014/how-to-plot-the-accuracy-and-and-loss-from-this-keras-cnn-model\n",
    "import matplotlib.pyplot as plt\n",
    "\n",
    "# summarize history for accuracy\n",
    "plt.plot(bestModel.history[\"accuracy\"])\n",
    "plt.plot(bestModel.history['val_accuracy'])\n",
    "plt.title(\"Model Accuracy\")\n",
    "plt.ylabel(\"Accuracy\")\n",
    "plt.xlabel(\"Epoch\")\n",
    "plt.legend([\"Train\", \"Validation\"], loc=\"upper left\")\n",
    "plt.show()\n",
    "\n",
    "# summarize history for loss\n",
    "plt.plot(bestModel.history[\"loss\"])\n",
    "plt.plot(bestModel.history['val_loss'])\n",
    "plt.title(\"Model Loss\")\n",
    "plt.ylabel(\"Loss\")\n",
    "plt.xlabel(\"Epoch\")\n",
    "plt.legend([\"Train\", \"Validation\"], loc=\"upper left\")\n",
    "plt.show()"
   ]
  },
  {
   "cell_type": "code",
   "execution_count": null,
   "id": "cd62d637",
   "metadata": {},
   "outputs": [],
   "source": []
  }
 ],
 "metadata": {
  "kernelspec": {
   "display_name": "Python 3 (ipykernel)",
   "language": "python",
   "name": "python3"
  },
  "language_info": {
   "codemirror_mode": {
    "name": "ipython",
    "version": 3
   },
   "file_extension": ".py",
   "mimetype": "text/x-python",
   "name": "python",
   "nbconvert_exporter": "python",
   "pygments_lexer": "ipython3",
   "version": "3.9.12"
  }
 },
 "nbformat": 4,
 "nbformat_minor": 5
}
