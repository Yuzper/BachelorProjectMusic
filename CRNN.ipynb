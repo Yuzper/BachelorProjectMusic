{
 "cells": [
  {
   "cell_type": "code",
   "execution_count": 2,
   "id": "9b39cc15",
   "metadata": {},
   "outputs": [],
   "source": [
    "import os\n",
    "import math\n",
    "import shutil\n",
    "import numpy as np\n",
    "import pandas as pd\n",
    "from math import floor\n",
    "import tensorflow as tf\n",
    "from tensorflow import keras\n",
    "from tensorflow.keras.models import Sequential, Model\n",
    "from tensorflow.keras.layers import Input, Conv2D, MaxPool2D, Flatten, Dense, Dropout, GRU, TimeDistributed, BatchNormalization\n",
    "#from tensorflow.keras.wrappers.scikit_learn import KerasClassifier\n",
    "from sklearn.model_selection import GridSearchCV\n",
    "from tensorflow.keras.models import load_model\n",
    "from tensorflow.keras.preprocessing.image import ImageDataGenerator\n"
   ]
  },
  {
   "cell_type": "markdown",
   "id": "3f8c1bc4",
   "metadata": {},
   "source": [
    "# CRNN Model"
   ]
  },
  {
   "cell_type": "code",
   "execution_count": 3,
   "id": "a15b7b0f",
   "metadata": {},
   "outputs": [],
   "source": [
    "tf.random.set_seed(42)\n",
    "np.random.seed(42)"
   ]
  },
  {
   "cell_type": "markdown",
   "id": "ff337dd4",
   "metadata": {},
   "source": [
    "## Define dataframes for train and test data"
   ]
  },
  {
   "cell_type": "code",
   "execution_count": 4,
   "id": "e1b134c4",
   "metadata": {},
   "outputs": [],
   "source": [
    "fma_small = pd.read_csv(\"fma_small.csv\")\n",
    "\n",
    "# Filter the DataFrame based on the string in the \"Sets\" column\n",
    "# Training Set\n",
    "fma_small_train = fma_small[fma_small[\"Set\"] == \"training\"]\n",
    "fma_small_train = fma_small_train[0:1500] ###########################################\n",
    "fma_small_train = fma_small_train.reset_index(inplace=False)\n",
    "# Create an ID column from DataFrame indices\n",
    "fma_small_train[\"True ID\"] = fma_small_train.index # Creating True ID since normal ID is song ID.\n",
    "fma_small_train = fma_small_train[[\"True ID\", \"Song ID\", \"Song Title\", \"Genre\", \"Artist ID\", \"Artist Name\", \"Set\", \"Path\"]]\n",
    "\n",
    "# Test set\n",
    "fma_small_test = fma_small[fma_small[\"Set\"] == \"test\"]\n",
    "fma_small_test = fma_small_test.reset_index(inplace=False)\n",
    "# Create an ID column from DataFrame indices\n",
    "fma_small_test[\"True ID\"] = fma_small_test.index # Creating True ID since normal ID is song ID.\n",
    "fma_small_test = fma_small_test[[\"True ID\", \"Song ID\", \"Song Title\", \"Genre\", \"Artist ID\", \"Artist Name\", \"Set\", \"Path\"]]\n"
   ]
  },
  {
   "cell_type": "markdown",
   "id": "3fd877cf",
   "metadata": {},
   "source": [
    "## Define Model"
   ]
  },
  {
   "cell_type": "code",
   "execution_count": 5,
   "id": "9c9247c5",
   "metadata": {},
   "outputs": [],
   "source": [
    "import keras.backend as K\n",
    "\n",
    "def macro_f1_score(y_true, y_pred):\n",
    "    \"\"\"\n",
    "    Calculate macro-average F1 score using Keras backend.\n",
    "\n",
    "    Parameters:\n",
    "        y_true (tensor or array): The true class labels (ground truth) as a tensor or Numpy array.\n",
    "        y_pred (tensor or array): The predicted class labels as a tensor or Numpy array.\n",
    "\n",
    "    Returns:\n",
    "        float: The macro-average F1 score.\n",
    "    \"\"\"\n",
    "    # Convert Numpy arrays to Keras backend tensors\n",
    "    if not tf.is_tensor(y_true):\n",
    "        y_true = K.constant(y_true)\n",
    "\n",
    "    if not tf.is_tensor(y_pred):\n",
    "        y_pred = K.constant(y_pred)\n",
    "    \n",
    "    # Calculate true positives, false positives, and false negatives for each class\n",
    "    tp = K.sum(y_true * K.round(y_pred), axis=0)\n",
    "    fp = K.sum(K.round(K.clip(y_pred - y_true, 0, 1)), axis=0)\n",
    "    fn = K.sum(K.round(K.clip(y_true - y_pred, 0, 1)), axis=0)\n",
    "\n",
    "    # Calculate precision and recall for each class\n",
    "    precision = tp / (tp + fp + K.epsilon())\n",
    "    recall = tp / (tp + fn + K.epsilon())\n",
    "\n",
    "    # Calculate F1 score for each class\n",
    "    f1_score = 2 * (precision * recall) / (precision + recall + K.epsilon())\n",
    "\n",
    "    # Calculate macro-average F1 score\n",
    "    macro_f1 = K.mean(f1_score)\n",
    "\n",
    "    return macro_f1"
   ]
  },
  {
   "cell_type": "code",
   "execution_count": null,
   "id": "46c93bfd",
   "metadata": {},
   "outputs": [],
   "source": []
  },
  {
   "cell_type": "code",
   "execution_count": 6,
   "id": "a3ac1150",
   "metadata": {},
   "outputs": [],
   "source": [
    "# Defines function for model artitecture:\n",
    "\n",
    "def create_model(n_filters, kernel_sizes, pool_sizes, GRU_units, dropout_rate, learning_rate, epochs, batch_size): # 8 Hyperparameters\n",
    "    # Define the input shape\n",
    "    input_shape = (235, 352, 3)\n",
    "\n",
    "    # Define the CRNN architecture\n",
    "    model = Sequential()\n",
    "\n",
    "    # Conv Block 1\n",
    "    model.add(Conv2D(filters=n_filters[0], kernel_size=kernel_sizes, activation=\"relu\", input_shape=input_shape))\n",
    "    model.add(MaxPool2D(pool_size=pool_sizes))\n",
    "    model.add(Dropout(dropout_rate))\n",
    "    model.add(BatchNormalization())\n",
    "\n",
    "    # Conv Block 2\n",
    "    model.add(Conv2D(filters=n_filters[1], kernel_size=kernel_sizes, activation=\"relu\"))\n",
    "    model.add(MaxPool2D(pool_size=pool_sizes))\n",
    "    model.add(Dropout(dropout_rate))\n",
    "    model.add(BatchNormalization())\n",
    "    \n",
    "    # Conv Block 3\n",
    "    model.add(Conv2D(filters=n_filters[2], kernel_size=kernel_sizes, activation=\"relu\"))\n",
    "    model.add(MaxPool2D(pool_size=pool_sizes))\n",
    "    model.add(Dropout(dropout_rate))\n",
    "    model.add(BatchNormalization())\n",
    "    \n",
    "    # Recurrent layers\n",
    "    model.add(TimeDistributed(Flatten()))\n",
    "    model.add(GRU(GRU_units*2, return_sequences=True))\n",
    "    model.add(GRU(GRU_units))\n",
    "    \n",
    "    # Fully connected layers\n",
    "    model.add(Dense(128, activation=\"relu\"))\n",
    "    model.add(Dropout(dropout_rate))\n",
    "    num_classes = 8\n",
    "    model.add(Dense(num_classes, activation=\"softmax\"))\n",
    "\n",
    "    model.compile(loss=\"categorical_crossentropy\",\n",
    "                  optimizer=tf.keras.optimizers.Adam(learning_rate=learning_rate),\n",
    "                  metrics=[\"accuracy\", macro_f1_score] # macro_f1_score\n",
    "                 )\n",
    "    \n",
    "    return model"
   ]
  },
  {
   "cell_type": "code",
   "execution_count": 9,
   "id": "e48495de",
   "metadata": {},
   "outputs": [
    {
     "data": {
      "text/plain": [
       "['loss', 'accuracy', 'macro_f1_score']"
      ]
     },
     "execution_count": 9,
     "metadata": {},
     "output_type": "execute_result"
    }
   ],
   "source": [
    "model.metrics_names"
   ]
  },
  {
   "cell_type": "code",
   "execution_count": 8,
   "id": "86f0a015",
   "metadata": {},
   "outputs": [
    {
     "name": "stdout",
     "output_type": "stream",
     "text": [
      "Fold 0:\n",
      "Found 1000 validated image filenames belonging to 8 classes.\n",
      "Found 500 validated image filenames belonging to 8 classes.\n",
      "16/16 - 47s - loss: 2.0529 - accuracy: 0.1810 - macro_f1_score: 0.0000e+00 - val_loss: 2.0907 - val_accuracy: 0.0240 - val_macro_f1_score: 0.0000e+00 - 47s/epoch - 3s/step\n",
      "8/8 [==============================] - 4s 403ms/step - loss: 2.0907 - accuracy: 0.0240 - macro_f1_score: 0.0000e+00\n",
      "Fold 1:\n",
      "Found 1000 validated image filenames belonging to 8 classes.\n",
      "Found 500 validated image filenames belonging to 8 classes.\n",
      "16/16 - 43s - loss: 2.0716 - accuracy: 0.1430 - macro_f1_score: 0.0000e+00 - val_loss: 2.0802 - val_accuracy: 0.0620 - val_macro_f1_score: 0.0000e+00 - 43s/epoch - 3s/step\n",
      "8/8 [==============================] - 4s 437ms/step - loss: 2.0802 - accuracy: 0.0620 - macro_f1_score: 0.0000e+00\n",
      "Fold 2:\n",
      "Found 1000 validated image filenames belonging to 8 classes.\n",
      "Found 500 validated image filenames belonging to 8 classes.\n",
      "16/16 - 44s - loss: 2.0527 - accuracy: 0.2030 - macro_f1_score: 0.0000e+00 - val_loss: 2.0710 - val_accuracy: 0.1600 - val_macro_f1_score: 0.0000e+00 - 44s/epoch - 3s/step\n",
      "8/8 [==============================] - 4s 447ms/step - loss: 2.0710 - accuracy: 0.1600 - macro_f1_score: 0.0000e+00\n",
      "Retraining best model\n"
     ]
    },
    {
     "ename": "TypeError",
     "evalue": "cannot unpack non-iterable NoneType object",
     "output_type": "error",
     "traceback": [
      "\u001b[1;31m---------------------------------------------------------------------------\u001b[0m",
      "\u001b[1;31mTypeError\u001b[0m                                 Traceback (most recent call last)",
      "Input \u001b[1;32mIn [8]\u001b[0m, in \u001b[0;36m<cell line: 128>\u001b[1;34m()\u001b[0m\n\u001b[0;32m    126\u001b[0m \u001b[38;5;66;03m# Train the best model on the entire training set\u001b[39;00m\n\u001b[0;32m    127\u001b[0m \u001b[38;5;28mprint\u001b[39m(\u001b[38;5;124m\"\u001b[39m\u001b[38;5;124mRetraining best model\u001b[39m\u001b[38;5;124m\"\u001b[39m)\n\u001b[1;32m--> 128\u001b[0m n_filters, kernel_sizes, pool_sizes, GRU_units, dropout_rate, learning_rate, epochs, batch_size \u001b[38;5;241m=\u001b[39m best_params\n\u001b[0;32m    129\u001b[0m best_model \u001b[38;5;241m=\u001b[39m create_model(n_filters, kernel_sizes, pool_sizes, GRU_units, dropout_rate, learning_rate, epochs, batch_size)\n\u001b[0;32m    130\u001b[0m history \u001b[38;5;241m=\u001b[39m best_model\u001b[38;5;241m.\u001b[39mfit(training_generator, epochs\u001b[38;5;241m=\u001b[39mepochs, batch_size\u001b[38;5;241m=\u001b[39mbatch_size, verbose\u001b[38;5;241m=\u001b[39m\u001b[38;5;241m2\u001b[39m)\n",
      "\u001b[1;31mTypeError\u001b[0m: cannot unpack non-iterable NoneType object"
     ]
    }
   ],
   "source": [
    "import itertools\n",
    "from sklearn.model_selection import KFold\n",
    "\n",
    "tf.random.set_seed(42)\n",
    "np.random.seed(42)\n",
    "\n",
    "# Initialize a dictionary to store results for csv format\n",
    "results_dict = {\n",
    "    \"n_filters\": [],\n",
    "    \"kernel_sizes\": [],\n",
    "    \"pool_sizes\": [],\n",
    "    \"GRU_units\": [],\n",
    "    \"dropout_rate\": [],\n",
    "    \"learning_rate\": [],\n",
    "    \"epochs\": [],\n",
    "    \"batch_size\": [],\n",
    "    \"avg_accuracy\": [],\n",
    "    \"avg_f1\": []\n",
    "}\n",
    "\n",
    "# Define the parameter grid\n",
    "#param_grid = {\n",
    "#    \"n_filters\": [(16,32,64), (32,64,128), (64,128,256)],\n",
    "#    \"kernel_sizes\": [(3,3), (4,4)],\n",
    "#    \"pool_sizes\": [(2,2),(3,3)],\n",
    "#    \"GRU_units\": [16, 32, 64],\n",
    "#    \"dropout_rate\": [0.1, 0.3, 0.5],\n",
    "#    \"learning_rate\": [0.1, 0.01, 0.001, 0.0001],\n",
    "#    \"epochs\": [32, 64, 128, 256],\n",
    "#    \"batch_size\": [32, 64, 128]\n",
    "#}\n",
    "\n",
    "# Define the parameter grid\n",
    "param_grid = {\n",
    "    \"n_filters\": [(16,32,64)],\n",
    "    \"kernel_sizes\": [(3,3)],\n",
    "    \"pool_sizes\": [(2,2)],\n",
    "    \"GRU_units\": [8],\n",
    "    \"dropout_rate\": [0.1],\n",
    "    \"learning_rate\": [0.0001],\n",
    "    \"epochs\": [1],\n",
    "    \"batch_size\": [64]\n",
    "}\n",
    "\n",
    "# Define variables to track the best parameters and performance\n",
    "best_params = None\n",
    "best_accuracy = 0.0\n",
    "best_f1_score = 0.0\n",
    "\n",
    "# Get all the parameter combinations\n",
    "param_combinations = list(itertools.product(*param_grid.values()))\n",
    "\n",
    "# K-fold cross-validation\n",
    "k = 3\n",
    "kf = KFold(n_splits=k)\n",
    "train_datagen = ImageDataGenerator(rescale=1.0/255) # rescale pixel values to [0, 1]\n",
    "\n",
    "\n",
    "for params in param_combinations:\n",
    "    # Unpack the parameter values\n",
    "    n_filters, kernel_sizes, pool_sizes, GRU_units, dropout_rate, learning_rate, epochs, batch_size = params\n",
    "    accuracy_sum = 0.0\n",
    "    f1_score_sum = 0.0\n",
    "    \n",
    "    # Loops over all the train/validation splits\n",
    "    for i, (train_index, val_index) in enumerate(kf.split(fma_small_train)):\n",
    "        print(f\"Fold {i}:\")\n",
    "\n",
    "        # Filter training dataframe down to only include data in the current train/validation split generated by KFold.\n",
    "        fma_small_train_ID = fma_small_train[fma_small_train[\"True ID\"].isin(train_index)]\n",
    "        fma_small_val_ID = fma_small_train[fma_small_train[\"True ID\"].isin(val_index)]\n",
    "        \n",
    "        # Define training and validation generators.\n",
    "        training_generator = train_datagen.flow_from_dataframe(dataframe = fma_small_train_ID,\n",
    "                                            directory=\"SpectrogramData_Formatted/training_Copy\",\n",
    "                                            x_col=\"Path\",\n",
    "                                            y_col=\"Genre\",\n",
    "                                            color_mode=\"rgb\",\n",
    "                                            class_mode=\"categorical\",\n",
    "                                            target_size=(235, 352),\n",
    "                                            batch_size=batch_size)\n",
    "\n",
    "        validation_generator = train_datagen.flow_from_dataframe(dataframe = fma_small_val_ID,\n",
    "                                            directory=\"SpectrogramData_Formatted/training_Copy\",\n",
    "                                            x_col=\"Path\",\n",
    "                                            y_col=\"Genre\",\n",
    "                                            color_mode=\"rgb\",\n",
    "                                            class_mode=\"categorical\",\n",
    "                                            target_size=(235, 352),\n",
    "                                            batch_size=batch_size)\n",
    "\n",
    "        # Create the model with the current parameter values\n",
    "        model = create_model(n_filters, kernel_sizes, pool_sizes, GRU_units, dropout_rate, learning_rate, epochs, batch_size)\n",
    "        \n",
    "        # Train and evaluate the model\n",
    "        model.fit(training_generator, validation_data = validation_generator, epochs=epochs, verbose=2)\n",
    "        loss, accuracy, f1_score = model.evaluate(validation_generator)\n",
    "        \n",
    "        accuracy_sum += accuracy\n",
    "        f1_score_sum += f1_score\n",
    "    \n",
    "    # Calculate the average accuracy across all folds\n",
    "    avg_accuracy = accuracy_sum / k\n",
    "    avg_f1_score = f1_score_sum / k\n",
    "    \n",
    "    # Check if this combination of parameters gives a better accuracy\n",
    "    #if avg_accuracy > best_accuracy:\n",
    "    #    best_accuracy = avg_accuracy\n",
    "    #    best_params = params\n",
    "    if avg_f1_score > best_f1_score:\n",
    "        best_f1_score = avg_f1_score\n",
    "        best_params = params\n",
    "    \n",
    "    # Store the results in the dictionary\n",
    "    results_dict[\"n_filters\"].append(n_filters)\n",
    "    results_dict[\"kernel_sizes\"].append(kernel_sizes)\n",
    "    results_dict[\"pool_sizes\"].append(pool_sizes)\n",
    "    results_dict[\"GRU_units\"].append(GRU_units)\n",
    "    results_dict[\"dropout_rate\"].append(dropout_rate)\n",
    "    results_dict[\"learning_rate\"].append(learning_rate)\n",
    "    results_dict[\"epochs\"].append(epochs)\n",
    "    results_dict[\"batch_size\"].append(batch_size)\n",
    "    results_dict[\"avg_accuracy\"].append(avg_accuracy)\n",
    "    results_dict[\"avg_f1\"].append(avg_f1_score)\n",
    "\n",
    "# Train the best model on the entire training set\n",
    "print(\"Retraining best model\")\n",
    "n_filters, kernel_sizes, pool_sizes, GRU_units, dropout_rate, learning_rate, epochs, batch_size = best_params\n",
    "best_model = create_model(n_filters, kernel_sizes, pool_sizes, GRU_units, dropout_rate, learning_rate, epochs, batch_size)\n",
    "history = best_model.fit(training_generator, epochs=epochs, batch_size=batch_size, verbose=2)\n",
    "\n",
    "# Save the final weights and hyperparameter results\n",
    "best_model.save(\"best_model_baseline.h5\")\n",
    "results_df = pd.DataFrame(results_dict) # Saves the dictionary to a DataFrame\n",
    "results_df.to_csv(\"hyperparameter_results.csv\", index=True) # Convert the results DataFrame to a CSV file\n",
    "\n",
    "print(\"### DONE ###\")"
   ]
  },
  {
   "cell_type": "code",
   "execution_count": null,
   "id": "92fd57a0",
   "metadata": {},
   "outputs": [],
   "source": [
    "hyperparameters = pd.read_csv(\"hyperparameter_results.csv\")\n",
    "hyperparameters"
   ]
  },
  {
   "cell_type": "code",
   "execution_count": null,
   "id": "50bebcb3",
   "metadata": {},
   "outputs": [],
   "source": [
    "from sklearn.metrics import precision_score, recall_score\n",
    "from sklearn.metrics import f1_score\n",
    "\n",
    "# Evaluate the model on the test set\n",
    "test_datagen = ImageDataGenerator(rescale=1.0/255)  # rescale pixel values to [0, 1]\n",
    "test_generator = test_datagen.flow_from_dataframe(dataframe = fma_small_test,\n",
    "                                        directory=\"SpectrogramData_Formatted/test_Copy\",\n",
    "                                        x_col=\"Path\",\n",
    "                                        y_col=\"Genre\",\n",
    "                                        color_mode=\"rgb\",\n",
    "                                        class_mode=\"categorical\",\n",
    "                                        target_size=(235, 352),\n",
    "                                        batch_size=batch_size)\n",
    "\n",
    "\n",
    "# Calculate the F1-score for the validation set\n",
    "#y_true = test_generator.classes\n",
    "#y_pred = model.predict(test_generator)\n",
    "#y_pred_classes = np.argmax(y_pred, axis=1)\n",
    "\n",
    "# Calculate precision and recall for the validation set\n",
    "#precision = precision_score(y_true, y_pred_classes, average='weighted')\n",
    "#recall = recall_score(y_true, y_pred_classes, average='weighted')\n",
    "#f1 = f1_score(y_true, y_pred_classes, average='weighted')\n",
    "\n",
    "\n",
    "# Evaluate the best model on the test set\n",
    "test_loss, test_accuracy, test_f1_score = best_model.evaluate(test_generator)\n",
    "\n",
    "# Print the best parameters and accuracy\n",
    "print(\"Best Parameters:\", best_params)\n",
    "print()\n",
    "print(\"Test Accuracy:\", test_accuracy)\n",
    "print(\"Test f1_score\", test_f1_score)\n",
    "print(\"Test Loss\", test_loss)\n"
   ]
  },
  {
   "cell_type": "markdown",
   "id": "c795bd1f",
   "metadata": {},
   "source": [
    "## Evaluation Plots"
   ]
  },
  {
   "cell_type": "code",
   "execution_count": 26,
   "id": "2aa87515",
   "metadata": {},
   "outputs": [
    {
     "data": {
      "text/plain": [
       "dict_keys(['loss', 'accuracy'])"
      ]
     },
     "execution_count": 26,
     "metadata": {},
     "output_type": "execute_result"
    }
   ],
   "source": [
    "history.history.keys()"
   ]
  },
  {
   "cell_type": "code",
   "execution_count": 27,
   "id": "db457938",
   "metadata": {},
   "outputs": [
    {
     "data": {
      "image/png": "[encoded data removed]",
      "text/plain": [
       "<Figure size 432x288 with 1 Axes>"
      ]
     },
     "metadata": {
      "needs_background": "light"
     },
     "output_type": "display_data"
    },
    {
     "data": {
      "image/png": "[encoded data removed]",
      "text/plain": [
       "<Figure size 432x288 with 1 Axes>"
      ]
     },
     "metadata": {
      "needs_background": "light"
     },
     "output_type": "display_data"
    }
   ],
   "source": [
    "# https://stackoverflow.com/questions/66785014/how-to-plot-the-accuracy-and-and-loss-from-this-keras-cnn-model\n",
    "import matplotlib.pyplot as plt\n",
    "\n",
    "# summarize history for accuracy\n",
    "plt.plot(history.history['accuracy'])\n",
    "#plt.plot(history.history['val_accuracy'])\n",
    "plt.title('Model Accuracy')\n",
    "plt.ylabel('accuracy')\n",
    "plt.xlabel('epoch')\n",
    "plt.legend(['Train', 'Validation'], loc='upper left')\n",
    "plt.show()\n",
    "\n",
    "# summarize history for loss\n",
    "plt.plot(history.history['loss'])\n",
    "#plt.plot(history.history['val_loss'])\n",
    "plt.title('Model Loss')\n",
    "plt.ylabel('loss')\n",
    "plt.xlabel('epoch')\n",
    "plt.legend(['Train', 'Validation'], loc='upper left')\n",
    "plt.show()"
   ]
  },
  {
   "cell_type": "code",
   "execution_count": 91,
   "id": "90d8dade",
   "metadata": {},
   "outputs": [
    {
     "name": "stdout",
     "output_type": "stream",
     "text": [
      "2.9.1\n"
     ]
    }
   ],
   "source": [
    "print(tf.__version__)"
   ]
  },
  {
   "cell_type": "code",
   "execution_count": null,
   "id": "71466390",
   "metadata": {},
   "outputs": [],
   "source": []
  }
 ],
 "metadata": {
  "kernelspec": {
   "display_name": "Python 3 (ipykernel)",
   "language": "python",
   "name": "python3"
  },
  "language_info": {
   "codemirror_mode": {
    "name": "ipython",
    "version": 3
   },
   "file_extension": ".py",
   "mimetype": "text/x-python",
   "name": "python",
   "nbconvert_exporter": "python",
   "pygments_lexer": "ipython3",
   "version": "3.9.12"
  }
 },
 "nbformat": 4,
 "nbformat_minor": 5
}
