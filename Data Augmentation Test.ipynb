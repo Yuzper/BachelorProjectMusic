{
 "cells": [
  {
   "cell_type": "code",
   "execution_count": 2,
   "id": "cadade1b",
   "metadata": {},
   "outputs": [],
   "source": [
    "import librosa\n",
    "import numpy as np\n",
    "import pandas as pd\n",
    "import matplotlib.pyplot as plt"
   ]
  },
  {
   "cell_type": "code",
   "execution_count": null,
   "id": "497e1abe",
   "metadata": {},
   "outputs": [],
   "source": []
  },
  {
   "cell_type": "code",
   "execution_count": null,
   "id": "a5577ffb",
   "metadata": {},
   "outputs": [],
   "source": []
  },
  {
   "cell_type": "markdown",
   "id": "3f310f5c",
   "metadata": {},
   "source": [
    "Argumentations:\n",
    " - Half tone pitch shifting\n",
    " - One tone pitch shifting\n",
    " - Time overlap\n",
    " - Noise injection\n",
    " - Each combination (Tone pitch either or)"
   ]
  },
  {
   "cell_type": "code",
   "execution_count": 3,
   "id": "c0a9f5d7",
   "metadata": {},
   "outputs": [],
   "source": [
    "def pitch_shift(data, sampling_rate, pitch_factor):\n",
    "    return librosa.effects.pitch_shift(data, sampling_rate, pitch_factor)\n",
    "\n",
    "\n",
    "def add_noise(data, noise_factor): # 0.005\n",
    "    noise = np.random.randn(len(data))\n",
    "    augmented_data = data + noise_factor * noise\n",
    "    augmented_data = augmented_data.astype(type(data[0])) # Cast back to same data type\n",
    "    return augmented_data\n",
    "\n",
    "\n",
    "def shift_roll(data):\n",
    "    return np.roll(data, 1600)\n",
    "\n"
   ]
  },
  {
   "cell_type": "code",
   "execution_count": null,
   "id": "f0c30867",
   "metadata": {},
   "outputs": [],
   "source": []
  },
  {
   "cell_type": "code",
   "execution_count": null,
   "id": "e294217f",
   "metadata": {},
   "outputs": [],
   "source": []
  },
  {
   "cell_type": "code",
   "execution_count": null,
   "id": "b119a418",
   "metadata": {},
   "outputs": [],
   "source": []
  }
 ],
 "metadata": {
  "kernelspec": {
   "display_name": "Python 3 (ipykernel)",
   "language": "python",
   "name": "python3"
  },
  "language_info": {
   "codemirror_mode": {
    "name": "ipython",
    "version": 3
   },
   "file_extension": ".py",
   "mimetype": "text/x-python",
   "name": "python",
   "nbconvert_exporter": "python",
   "pygments_lexer": "ipython3",
   "version": "3.9.12"
  }
 },
 "nbformat": 4,
 "nbformat_minor": 5
}
