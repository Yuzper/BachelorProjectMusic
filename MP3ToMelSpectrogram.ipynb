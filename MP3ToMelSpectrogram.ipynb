{
 "cells": [
  {
   "cell_type": "code",
   "execution_count": 1,
   "id": "91ddd73d",
   "metadata": {},
   "outputs": [],
   "source": [
    "#!pip install librosa\n",
    "#!pip install ffmpeg\n",
    "\n",
    "#!pip install numba==0.48\n",
    "#!pip install librosa==0.7.2"
   ]
  },
  {
   "cell_type": "code",
   "execution_count": 2,
   "id": "ae72b6e5",
   "metadata": {},
   "outputs": [],
   "source": [
    "import numpy as np\n",
    "import pandas as pd\n",
    "import matplotlib.pyplot as plt\n",
    "import librosa\n",
    "import librosa.display\n",
    "%matplotlib inline\n",
    "from PIL import Image\n",
    "import os\n",
    "import shutil\n",
    "from numpy import asarray\n",
    "import random\n",
    "import utils\n",
    "\n"
   ]
  },
  {
   "cell_type": "code",
   "execution_count": 3,
   "id": "1050814d",
   "metadata": {},
   "outputs": [
    {
     "data": {
      "text/html": [
       "<div>\n",
       "<style scoped>\n",
       "    .dataframe tbody tr th:only-of-type {\n",
       "        vertical-align: middle;\n",
       "    }\n",
       "\n",
       "    .dataframe tbody tr th {\n",
       "        vertical-align: top;\n",
       "    }\n",
       "\n",
       "    .dataframe thead th {\n",
       "        text-align: right;\n",
       "    }\n",
       "</style>\n",
       "<table border=\"1\" class=\"dataframe\">\n",
       "  <thead>\n",
       "    <tr style=\"text-align: right;\">\n",
       "      <th></th>\n",
       "      <th>Song ID</th>\n",
       "      <th>Song Title</th>\n",
       "      <th>Genre</th>\n",
       "      <th>Artist ID</th>\n",
       "      <th>Artist Name</th>\n",
       "      <th>Set</th>\n",
       "      <th>Path</th>\n",
       "    </tr>\n",
       "  </thead>\n",
       "  <tbody>\n",
       "    <tr>\n",
       "      <th>0</th>\n",
       "      <td>2</td>\n",
       "      <td>Food</td>\n",
       "      <td>Hip-Hop</td>\n",
       "      <td>1</td>\n",
       "      <td>AWOL</td>\n",
       "      <td>training</td>\n",
       "      <td>training/Hip-Hop/2.png</td>\n",
       "    </tr>\n",
       "    <tr>\n",
       "      <th>1</th>\n",
       "      <td>5</td>\n",
       "      <td>This World</td>\n",
       "      <td>Hip-Hop</td>\n",
       "      <td>1</td>\n",
       "      <td>AWOL</td>\n",
       "      <td>training</td>\n",
       "      <td>training/Hip-Hop/5.png</td>\n",
       "    </tr>\n",
       "    <tr>\n",
       "      <th>2</th>\n",
       "      <td>10</td>\n",
       "      <td>Freeway</td>\n",
       "      <td>Pop</td>\n",
       "      <td>6</td>\n",
       "      <td>Kurt Vile</td>\n",
       "      <td>training</td>\n",
       "      <td>training/Pop/10.png</td>\n",
       "    </tr>\n",
       "    <tr>\n",
       "      <th>3</th>\n",
       "      <td>140</td>\n",
       "      <td>Queen Of The Wires</td>\n",
       "      <td>Folk</td>\n",
       "      <td>54</td>\n",
       "      <td>Alec K. Redfearn &amp; the Eyesores</td>\n",
       "      <td>training</td>\n",
       "      <td>training/Folk/140.png</td>\n",
       "    </tr>\n",
       "    <tr>\n",
       "      <th>4</th>\n",
       "      <td>141</td>\n",
       "      <td>Ohio</td>\n",
       "      <td>Folk</td>\n",
       "      <td>54</td>\n",
       "      <td>Alec K. Redfearn &amp; the Eyesores</td>\n",
       "      <td>training</td>\n",
       "      <td>training/Folk/141.png</td>\n",
       "    </tr>\n",
       "    <tr>\n",
       "      <th>...</th>\n",
       "      <td>...</td>\n",
       "      <td>...</td>\n",
       "      <td>...</td>\n",
       "      <td>...</td>\n",
       "      <td>...</td>\n",
       "      <td>...</td>\n",
       "      <td>...</td>\n",
       "    </tr>\n",
       "    <tr>\n",
       "      <th>7899</th>\n",
       "      <td>154308</td>\n",
       "      <td>MIA</td>\n",
       "      <td>Hip-Hop</td>\n",
       "      <td>23208</td>\n",
       "      <td>Fleslit</td>\n",
       "      <td>test</td>\n",
       "      <td>test/Hip-Hop/154308.png</td>\n",
       "    </tr>\n",
       "    <tr>\n",
       "      <th>7900</th>\n",
       "      <td>154309</td>\n",
       "      <td>A1 Symphony</td>\n",
       "      <td>Hip-Hop</td>\n",
       "      <td>23208</td>\n",
       "      <td>Fleslit</td>\n",
       "      <td>test</td>\n",
       "      <td>test/Hip-Hop/154309.png</td>\n",
       "    </tr>\n",
       "    <tr>\n",
       "      <th>7901</th>\n",
       "      <td>154413</td>\n",
       "      <td>Do Easy</td>\n",
       "      <td>Pop</td>\n",
       "      <td>24252</td>\n",
       "      <td>Tasseomancy</td>\n",
       "      <td>training</td>\n",
       "      <td>training/Pop/154413.png</td>\n",
       "    </tr>\n",
       "    <tr>\n",
       "      <th>7902</th>\n",
       "      <td>154414</td>\n",
       "      <td>Dead Can Dance (uncensored)</td>\n",
       "      <td>Pop</td>\n",
       "      <td>24252</td>\n",
       "      <td>Tasseomancy</td>\n",
       "      <td>training</td>\n",
       "      <td>training/Pop/154414.png</td>\n",
       "    </tr>\n",
       "    <tr>\n",
       "      <th>7903</th>\n",
       "      <td>155066</td>\n",
       "      <td>Roy</td>\n",
       "      <td>Hip-Hop</td>\n",
       "      <td>22573</td>\n",
       "      <td>JBlanked</td>\n",
       "      <td>training</td>\n",
       "      <td>training/Hip-Hop/155066.png</td>\n",
       "    </tr>\n",
       "  </tbody>\n",
       "</table>\n",
       "<p>7904 rows × 7 columns</p>\n",
       "</div>"
      ],
      "text/plain": [
       "      Song ID                   Song Title    Genre  Artist ID  \\\n",
       "0           2                         Food  Hip-Hop          1   \n",
       "1           5                   This World  Hip-Hop          1   \n",
       "2          10                      Freeway      Pop          6   \n",
       "3         140           Queen Of The Wires     Folk         54   \n",
       "4         141                         Ohio     Folk         54   \n",
       "...       ...                          ...      ...        ...   \n",
       "7899   154308                          MIA  Hip-Hop      23208   \n",
       "7900   154309                  A1 Symphony  Hip-Hop      23208   \n",
       "7901   154413                      Do Easy      Pop      24252   \n",
       "7902   154414  Dead Can Dance (uncensored)      Pop      24252   \n",
       "7903   155066                          Roy  Hip-Hop      22573   \n",
       "\n",
       "                          Artist Name       Set                         Path  \n",
       "0                                AWOL  training       training/Hip-Hop/2.png  \n",
       "1                                AWOL  training       training/Hip-Hop/5.png  \n",
       "2                           Kurt Vile  training          training/Pop/10.png  \n",
       "3     Alec K. Redfearn & the Eyesores  training        training/Folk/140.png  \n",
       "4     Alec K. Redfearn & the Eyesores  training        training/Folk/141.png  \n",
       "...                               ...       ...                          ...  \n",
       "7899                          Fleslit      test      test/Hip-Hop/154308.png  \n",
       "7900                          Fleslit      test      test/Hip-Hop/154309.png  \n",
       "7901                      Tasseomancy  training      training/Pop/154413.png  \n",
       "7902                      Tasseomancy  training      training/Pop/154414.png  \n",
       "7903                         JBlanked  training  training/Hip-Hop/155066.png  \n",
       "\n",
       "[7904 rows x 7 columns]"
      ]
     },
     "execution_count": 3,
     "metadata": {},
     "output_type": "execute_result"
    }
   ],
   "source": [
    "fma_small = pd.read_csv(\"data/fma_small.csv\")\n",
    "fma_small.shape\n",
    "fma_small"
   ]
  },
  {
   "cell_type": "code",
   "execution_count": 4,
   "id": "853e4e76",
   "metadata": {},
   "outputs": [],
   "source": [
    "#AUDIO_FILE = \"Data/fma_small/000/000993.mp3\"\n",
    "\n",
    "def MP3ToSpectrogram(AUDIO_FILE, file_Name):\n",
    "    signal, sr = librosa.load(AUDIO_FILE)\n",
    "\n",
    "    # this is the number of samples in a window per fft\n",
    "    n_fft = 2048\n",
    "\n",
    "    # The amount of samples we are shifting after each fft\n",
    "    hop_length = 512\n",
    "\n",
    "    mel_signal = librosa.feature.melspectrogram(y=signal, sr=sr, hop_length=hop_length, n_fft=n_fft)\n",
    "    spectrogram = np.abs(mel_signal)\n",
    "    power_to_db = librosa.power_to_db(spectrogram, ref=np.max)\n",
    "    librosa.display.specshow(power_to_db, sr=sr, cmap=\"magma\", hop_length=hop_length) # x_axis=\"time\", y_axis=\"mel\"\n",
    "    plt.savefig(\"SpectrogramData/\"+file_Name+\".png\", bbox_inches=\"tight\")\n",
    "\n",
    "#MP3ToSpectrogram(\"Data/fma_small/013/013378.mp3\", \"Test1\")\n",
    "#img = Image.open(\"Test1\"+\".png\")"
   ]
  },
  {
   "cell_type": "markdown",
   "id": "67207f91",
   "metadata": {},
   "source": [
    "We utilize the librosa library [12] to load audio tracks and extract random clips\n",
    "of 524288 samples (219) during each training iteration.\n",
    "This strategy serves two purposes.\n",
    "Firstly, using the entire signal length as input can significantly increase\n",
    "computational costs and impact the design of the architectures, particularly\n",
    "for 1-D models. Secondly, the random subsampling acts as a form of time-shift\n",
    "data augmentation, allowing the models to recognize the genre of a musical piece\n",
    "regardless of the exact starting point of the clip."
   ]
  },
  {
   "cell_type": "code",
   "execution_count": null,
   "id": "d4dc5907",
   "metadata": {},
   "outputs": [],
   "source": []
  },
  {
   "cell_type": "code",
   "execution_count": 19,
   "id": "e7d559c7",
   "metadata": {},
   "outputs": [],
   "source": [
    "seed = 12345\n",
    "random.seed(seed)\n",
    "np.random.seed(seed)\n",
    "import imageio\n",
    "\n",
    "def load_audio(path):\n",
    "    try:\n",
    "        y, sr = librosa.load(path, sr=None, mono=True)\n",
    "        min_duration = 25\n",
    "        # Calculate the duration of the audio file in seconds\n",
    "        duration = len(y) / sr\n",
    "\n",
    "        # Check if the duration is less than the minimum required duration\n",
    "        if duration < min_duration:\n",
    "            print(path)\n",
    "            print(f\"Audio file is shorter than the minimum required duration of {min_duration} seconds.\")\n",
    "        else:\n",
    "            # select only 2**19 samples at random (behave like a audio.Shift transform)\n",
    "            start = np.random.randint(0, y.shape[0]-2**19)\n",
    "            y = y[start:start+2**19]\n",
    "\n",
    "            return y, sr\n",
    "        \n",
    "    except Exception as e:\n",
    "        print(f\"Error: An error occurred while loading audio file {path}. Error message: {e}\")\n",
    "        return None, None\n",
    "    \n",
    "##########################################\n",
    "\n",
    "def create_mel_spectrogram(path, fileID, error_count):\n",
    "    # load audio\n",
    "    y, sr = load_audio(path)\n",
    "    if y is None or sr is None:\n",
    "        return None\n",
    "    \n",
    "    # create lin-power mel spectrogram (discard last time bin)\n",
    "    spectrogram = librosa.feature.melspectrogram(y=y, sr=sr, n_fft=4096, hop_length=1024, n_mels=128)[:,:512]\n",
    "    # create log-power mel spectrogram\n",
    "    spectrogram = librosa.power_to_db(spectrogram, ref=np.max)\n",
    "#    print(spectrogram.shape)\n",
    "    save_spectrogram(spectrogram, fileID, error_count)\n",
    "    \n",
    "    return y, spectrogram, sr\n",
    "\n",
    "\n",
    "def save_spectrogram(spectrogram, fileID, error_count):\n",
    "    matched_row = fma_small[fma_small[\"Song ID\"] == fileID]\n",
    "    \n",
    "    # Calculate figure size needed to match 128x512 data points at a given DPI\n",
    "    dpi = 10  # You can adjust this as needed\n",
    "    fig_width = 512 / dpi  # Width in inches to match 512 pixels at the given DPI\n",
    "    fig_height = 128 / dpi  # Height in inches to match 128 pixels at the given DPI\n",
    "\n",
    "    plt.figure(figsize=(fig_width, fig_height), dpi=dpi)\n",
    "    \n",
    "    if len(matched_row) == 1:\n",
    "        set_value, genre, song_id = matched_row[[\"Set\", \"Genre\", \"Song ID\"]].iloc[0].astype(str)\n",
    "        final_path = f\"NewSpectrogramData/{set_value}/{genre}/{song_id}.png\"\n",
    "\n",
    "        # Plot the spectrogram\n",
    "        plt.imshow(spectrogram, aspect='auto', origin='lower', cmap='plasma')\n",
    "\n",
    "        plt.axis('off')  # Hide the axes\n",
    "        plt.tight_layout()\n",
    "\n",
    "        # Save the plotted figure\n",
    "        plt.savefig(final_path, bbox_inches=\"tight\")\n",
    "        plt.close()  # Close the figure to free memory\n",
    "        \n",
    "    elif len(matched_row) > 1:\n",
    "        #print(f\"ERROR MATCHING {fileID}\"+\" TO MANY MATCHES\")\n",
    "        tmp = 1\n",
    "    elif len(matched_row) == 0:\n",
    "        error_count += 1\n",
    "        #print(f\"ERROR MATCHING {fileID}\"+\" 0 MATCHES\")\n",
    "    \n",
    "    \n",
    "\n",
    "\n",
    "def plot_mel_spectrogram(path):\n",
    "\n",
    "    # get log-power mel spectrogram and sampling rate\n",
    "    _, spectrogram, sr = create_mel_spectrogram(path, 4778)\n",
    "\n",
    "    fig, ax = plt.subplots(figsize=(10,6))\n",
    "\n",
    "    img = librosa.display.specshow(spectrogram, sr=sr, hop_length=1024, x_axis='time', y_axis='mel', ax=ax)\n",
    "\n",
    "    plt.xticks(fontsize=16)\n",
    "    plt.yticks(fontsize=16)\n",
    "\n",
    "    plt.xlabel('Time [s]', fontsize=18)\n",
    "    plt.ylabel('Frequency [Hz]', fontsize=18)\n",
    "    #plt.title(f'Log-power mel-spectrogram\\ntrack id = {track_id} : genre = {genre}', fontsize=20)\n",
    "\n",
    "    cbar = plt.colorbar(img)\n",
    "    cbar.ax.set_ylim(-80, 0)\n",
    "    cbar.ax.tick_params(labelsize=16)\n",
    "    cbar.set_label('dB', size=18)\n",
    "\n",
    "    #plt.savefig('./images/Spectrogram.pdf', dpi=1200, bbox_inches='tight')\n",
    "    plt.show()\n",
    "\n"
   ]
  },
  {
   "cell_type": "code",
   "execution_count": 20,
   "id": "b67e3e08",
   "metadata": {},
   "outputs": [
    {
     "data": {
      "text/plain": [
       "(array([-0.07755621, -0.03318416,  0.02010757, ..., -0.01649958,\n",
       "        -0.02468019, -0.04666156], dtype=float32),\n",
       " array([[-38.423046 , -21.995298 , -14.615835 , ..., -15.060917 ,\n",
       "         -14.27486  , -17.888231 ],\n",
       "        [-27.508547 , -15.32662  ,  -8.750423 , ...,  -6.636223 ,\n",
       "          -6.238207 , -10.655884 ],\n",
       "        [-24.659506 , -14.475069 ,  -6.760723 , ...,  -3.4636574,\n",
       "          -4.6414585, -10.51004  ],\n",
       "        ...,\n",
       "        [-69.88977  , -75.91624  , -80.       , ..., -80.       ,\n",
       "         -80.       , -80.       ],\n",
       "        [-69.93348  , -75.95982  , -80.       , ..., -80.       ,\n",
       "         -80.       , -80.       ],\n",
       "        [-69.963585 , -75.9899   , -80.       , ..., -80.       ,\n",
       "         -80.       , -80.       ]], dtype=float32),\n",
       " 44100)"
      ]
     },
     "execution_count": 20,
     "metadata": {},
     "output_type": "execute_result"
    }
   ],
   "source": [
    "create_mel_spectrogram(\"Data/fma_small/004/004778.mp3\", 4778, 0)"
   ]
  },
  {
   "cell_type": "code",
   "execution_count": 13,
   "id": "feac5eb2",
   "metadata": {},
   "outputs": [
    {
     "name": "stdout",
     "output_type": "stream",
     "text": [
      "(128, 512)\n"
     ]
    },
    {
     "data": {
      "image/png": "[encoded data removed]",
      "text/plain": [
       "<Figure size 720x432 with 2 Axes>"
      ]
     },
     "metadata": {
      "needs_background": "light"
     },
     "output_type": "display_data"
    }
   ],
   "source": [
    "plot_mel_spectrogram(\"Data/fma_small/004/004778.mp3\")"
   ]
  },
  {
   "cell_type": "code",
   "execution_count": null,
   "id": "9b663908",
   "metadata": {},
   "outputs": [],
   "source": []
  },
  {
   "cell_type": "code",
   "execution_count": 21,
   "id": "23047abb",
   "metadata": {
    "scrolled": true
   },
   "outputs": [
    {
     "name": "stdout",
     "output_type": "stream",
     "text": [
      "Progress: 0.012651821862348178\n",
      "Progress: 0.025303643724696356\n",
      "Progress: 0.03795546558704453\n",
      "Progress: 0.05060728744939271\n",
      "Progress: 0.06325910931174089\n",
      "Progress: 0.07591093117408906\n",
      "Progress: 0.08856275303643725\n",
      "Progress: 0.10121457489878542\n",
      "Progress: 0.11386639676113361\n",
      "Progress: 0.12651821862348178\n",
      "Progress: 0.13917004048582995\n",
      "Progress: 0.15182186234817813\n",
      "Progress: 0.16447368421052633\n",
      "Progress: 0.1771255060728745\n",
      "Progress: 0.18977732793522267\n",
      "Progress: 0.20242914979757085\n"
     ]
    },
    {
     "name": "stderr",
     "output_type": "stream",
     "text": [
      "C:\\Users\\Jespe\\AppData\\Local\\Temp\\ipykernel_12236\\3909241871.py:54: RuntimeWarning: More than 20 figures have been opened. Figures created through the pyplot interface (`matplotlib.pyplot.figure`) are retained until explicitly closed and may consume too much memory. (To control this warning, see the rcParam `figure.max_open_warning`).\n",
      "  plt.figure(figsize=(fig_width, fig_height), dpi=dpi)\n",
      "C:\\Users\\Jespe\\AppData\\Local\\Temp\\ipykernel_12236\\3909241871.py:54: RuntimeWarning: More than 20 figures have been opened. Figures created through the pyplot interface (`matplotlib.pyplot.figure`) are retained until explicitly closed and may consume too much memory. (To control this warning, see the rcParam `figure.max_open_warning`).\n",
      "  plt.figure(figsize=(fig_width, fig_height), dpi=dpi)\n"
     ]
    },
    {
     "name": "stdout",
     "output_type": "stream",
     "text": [
      "Progress: 0.21508097165991902\n",
      "Progress: 0.22773279352226722\n",
      "Progress: 0.2403846153846154\n",
      "Progress: 0.25303643724696356\n",
      "Progress: 0.26568825910931176\n",
      "Progress: 0.2783400809716599\n",
      "Progress: 0.2909919028340081\n",
      "Progress: 0.30364372469635625\n",
      "Progress: 0.31629554655870445\n",
      "Progress: 0.32894736842105265\n",
      "Progress: 0.3415991902834008\n",
      "Progress: 0.354251012145749\n",
      "Progress: 0.36690283400809715\n",
      "Progress: 0.37955465587044535\n",
      "Progress: 0.39220647773279355\n",
      "Progress: 0.4048582995951417\n",
      "Progress: 0.4175101214574899\n",
      "Progress: 0.43016194331983804\n",
      "Progress: 0.44281376518218624\n",
      "Progress: 0.45546558704453444\n",
      "Progress: 0.4681174089068826\n",
      "Progress: 0.4807692307692308\n",
      "Progress: 0.4934210526315789\n",
      "Progress: 0.5060728744939271\n",
      "Progress: 0.5187246963562753\n",
      "Progress: 0.5313765182186235\n",
      "Progress: 0.5440283400809717\n",
      "Progress: 0.5566801619433198\n"
     ]
    },
    {
     "name": "stderr",
     "output_type": "stream",
     "text": [
      "C:\\Users\\Jespe\\AppData\\Local\\Temp\\ipykernel_12236\\3909241871.py:8: UserWarning: PySoundFile failed. Trying audioread instead.\n",
      "  y, sr = librosa.load(path, sr=None, mono=True)\n",
      "C:\\Users\\Jespe\\Anaconda3\\lib\\site-packages\\librosa\\core\\audio.py:184: FutureWarning: librosa.core.audio.__audioread_load\n",
      "\tDeprecated as of librosa version 0.10.0.\n",
      "\tIt will be removed in librosa version 1.0.\n",
      "  y, sr_native = __audioread_load(path, offset, duration, dtype)\n"
     ]
    },
    {
     "name": "stdout",
     "output_type": "stream",
     "text": [
      "Error: An error occurred while loading audio file Data/fma_small\\098\\098565.mp3. Error message: \n",
      "Error: An error occurred while loading audio file Data/fma_small\\098\\098567.mp3. Error message: \n",
      "Error: An error occurred while loading audio file Data/fma_small\\098\\098569.mp3. Error message: \n"
     ]
    },
    {
     "name": "stderr",
     "output_type": "stream",
     "text": [
      "C:\\Users\\Jespe\\AppData\\Local\\Temp\\ipykernel_12236\\3909241871.py:8: UserWarning: PySoundFile failed. Trying audioread instead.\n",
      "  y, sr = librosa.load(path, sr=None, mono=True)\n",
      "C:\\Users\\Jespe\\Anaconda3\\lib\\site-packages\\librosa\\core\\audio.py:184: FutureWarning: librosa.core.audio.__audioread_load\n",
      "\tDeprecated as of librosa version 0.10.0.\n",
      "\tIt will be removed in librosa version 1.0.\n",
      "  y, sr_native = __audioread_load(path, offset, duration, dtype)\n"
     ]
    },
    {
     "name": "stdout",
     "output_type": "stream",
     "text": [
      "Error: An error occurred while loading audio file Data/fma_small\\099\\099134.mp3. Error message: \n",
      "Progress: 0.569331983805668\n",
      "Progress: 0.5819838056680162\n",
      "Progress: 0.5946356275303644\n",
      "Progress: 0.6072874493927125\n",
      "Progress: 0.6199392712550608\n"
     ]
    },
    {
     "name": "stderr",
     "output_type": "stream",
     "text": [
      "C:\\Users\\Jespe\\AppData\\Local\\Temp\\ipykernel_12236\\3909241871.py:8: UserWarning: PySoundFile failed. Trying audioread instead.\n",
      "  y, sr = librosa.load(path, sr=None, mono=True)\n",
      "C:\\Users\\Jespe\\Anaconda3\\lib\\site-packages\\librosa\\core\\audio.py:184: FutureWarning: librosa.core.audio.__audioread_load\n",
      "\tDeprecated as of librosa version 0.10.0.\n",
      "\tIt will be removed in librosa version 1.0.\n",
      "  y, sr_native = __audioread_load(path, offset, duration, dtype)\n"
     ]
    },
    {
     "name": "stdout",
     "output_type": "stream",
     "text": [
      "Error: An error occurred while loading audio file Data/fma_small\\108\\108925.mp3. Error message: \n",
      "Progress: 0.6325910931174089\n",
      "Progress: 0.645242914979757\n",
      "Progress: 0.6578947368421053\n",
      "Progress: 0.6705465587044535\n",
      "Progress: 0.6831983805668016\n",
      "Progress: 0.6958502024291497\n",
      "Progress: 0.708502024291498\n",
      "Progress: 0.7211538461538461\n",
      "Progress: 0.7338056680161943\n",
      "Progress: 0.7464574898785425\n",
      "Progress: 0.7591093117408907\n",
      "Progress: 0.7717611336032388\n",
      "Progress: 0.7844129554655871\n",
      "Progress: 0.7970647773279352\n",
      "Progress: 0.8097165991902834\n",
      "Progress: 0.8223684210526315\n",
      "Progress: 0.8350202429149798\n",
      "Progress: 0.8476720647773279\n",
      "Progress: 0.8603238866396761\n",
      "Progress: 0.8729757085020243\n"
     ]
    },
    {
     "name": "stderr",
     "output_type": "stream",
     "text": [
      "C:\\Users\\Jespe\\AppData\\Local\\Temp\\ipykernel_12236\\3909241871.py:8: UserWarning: PySoundFile failed. Trying audioread instead.\n",
      "  y, sr = librosa.load(path, sr=None, mono=True)\n",
      "C:\\Users\\Jespe\\Anaconda3\\lib\\site-packages\\librosa\\core\\audio.py:184: FutureWarning: librosa.core.audio.__audioread_load\n",
      "\tDeprecated as of librosa version 0.10.0.\n",
      "\tIt will be removed in librosa version 1.0.\n",
      "  y, sr_native = __audioread_load(path, offset, duration, dtype)\n"
     ]
    },
    {
     "name": "stdout",
     "output_type": "stream",
     "text": [
      "Error: An error occurred while loading audio file Data/fma_small\\133\\133297.mp3. Error message: \n",
      "Progress: 0.8856275303643725\n",
      "Progress: 0.8982793522267206\n",
      "Progress: 0.9109311740890689\n",
      "Progress: 0.923582995951417\n",
      "Progress: 0.9362348178137652\n",
      "Progress: 0.9488866396761133\n",
      "Progress: 0.9615384615384616\n",
      "Progress: 0.9741902834008097\n",
      "Progress: 0.9868421052631579\n",
      "Progress: 0.9994939271255061\n",
      "Progress: 1.0121457489878543\n"
     ]
    },
    {
     "data": {
      "text/plain": [
       "<Figure size 512x128 with 0 Axes>"
      ]
     },
     "metadata": {},
     "output_type": "display_data"
    },
    {
     "data": {
      "text/plain": [
       "<Figure size 512x128 with 0 Axes>"
      ]
     },
     "metadata": {},
     "output_type": "display_data"
    },
    {
     "data": {
      "text/plain": [
       "<Figure size 512x128 with 0 Axes>"
      ]
     },
     "metadata": {},
     "output_type": "display_data"
    },
    {
     "data": {
      "text/plain": [
       "<Figure size 512x128 with 0 Axes>"
      ]
     },
     "metadata": {},
     "output_type": "display_data"
    },
    {
     "data": {
      "text/plain": [
       "<Figure size 512x128 with 0 Axes>"
      ]
     },
     "metadata": {},
     "output_type": "display_data"
    },
    {
     "data": {
      "text/plain": [
       "<Figure size 512x128 with 0 Axes>"
      ]
     },
     "metadata": {},
     "output_type": "display_data"
    },
    {
     "data": {
      "text/plain": [
       "<Figure size 512x128 with 0 Axes>"
      ]
     },
     "metadata": {},
     "output_type": "display_data"
    },
    {
     "data": {
      "text/plain": [
       "<Figure size 512x128 with 0 Axes>"
      ]
     },
     "metadata": {},
     "output_type": "display_data"
    },
    {
     "data": {
      "text/plain": [
       "<Figure size 512x128 with 0 Axes>"
      ]
     },
     "metadata": {},
     "output_type": "display_data"
    },
    {
     "data": {
      "text/plain": [
       "<Figure size 512x128 with 0 Axes>"
      ]
     },
     "metadata": {},
     "output_type": "display_data"
    },
    {
     "data": {
      "text/plain": [
       "<Figure size 512x128 with 0 Axes>"
      ]
     },
     "metadata": {},
     "output_type": "display_data"
    },
    {
     "data": {
      "text/plain": [
       "<Figure size 512x128 with 0 Axes>"
      ]
     },
     "metadata": {},
     "output_type": "display_data"
    },
    {
     "data": {
      "text/plain": [
       "<Figure size 512x128 with 0 Axes>"
      ]
     },
     "metadata": {},
     "output_type": "display_data"
    },
    {
     "data": {
      "text/plain": [
       "<Figure size 512x128 with 0 Axes>"
      ]
     },
     "metadata": {},
     "output_type": "display_data"
    },
    {
     "data": {
      "text/plain": [
       "<Figure size 512x128 with 0 Axes>"
      ]
     },
     "metadata": {},
     "output_type": "display_data"
    },
    {
     "data": {
      "text/plain": [
       "<Figure size 512x128 with 0 Axes>"
      ]
     },
     "metadata": {},
     "output_type": "display_data"
    },
    {
     "data": {
      "text/plain": [
       "<Figure size 512x128 with 0 Axes>"
      ]
     },
     "metadata": {},
     "output_type": "display_data"
    },
    {
     "data": {
      "text/plain": [
       "<Figure size 512x128 with 0 Axes>"
      ]
     },
     "metadata": {},
     "output_type": "display_data"
    },
    {
     "data": {
      "text/plain": [
       "<Figure size 512x128 with 0 Axes>"
      ]
     },
     "metadata": {},
     "output_type": "display_data"
    },
    {
     "data": {
      "text/plain": [
       "<Figure size 512x128 with 0 Axes>"
      ]
     },
     "metadata": {},
     "output_type": "display_data"
    },
    {
     "data": {
      "text/plain": [
       "<Figure size 512x128 with 0 Axes>"
      ]
     },
     "metadata": {},
     "output_type": "display_data"
    },
    {
     "data": {
      "text/plain": [
       "<Figure size 512x128 with 0 Axes>"
      ]
     },
     "metadata": {},
     "output_type": "display_data"
    },
    {
     "data": {
      "text/plain": [
       "<Figure size 512x128 with 0 Axes>"
      ]
     },
     "metadata": {},
     "output_type": "display_data"
    },
    {
     "data": {
      "text/plain": [
       "<Figure size 512x128 with 0 Axes>"
      ]
     },
     "metadata": {},
     "output_type": "display_data"
    },
    {
     "data": {
      "text/plain": [
       "<Figure size 512x128 with 0 Axes>"
      ]
     },
     "metadata": {},
     "output_type": "display_data"
    },
    {
     "data": {
      "text/plain": [
       "<Figure size 512x128 with 0 Axes>"
      ]
     },
     "metadata": {},
     "output_type": "display_data"
    },
    {
     "data": {
      "text/plain": [
       "<Figure size 512x128 with 0 Axes>"
      ]
     },
     "metadata": {},
     "output_type": "display_data"
    },
    {
     "data": {
      "text/plain": [
       "<Figure size 512x128 with 0 Axes>"
      ]
     },
     "metadata": {},
     "output_type": "display_data"
    },
    {
     "data": {
      "text/plain": [
       "<Figure size 512x128 with 0 Axes>"
      ]
     },
     "metadata": {},
     "output_type": "display_data"
    },
    {
     "data": {
      "text/plain": [
       "<Figure size 512x128 with 0 Axes>"
      ]
     },
     "metadata": {},
     "output_type": "display_data"
    },
    {
     "data": {
      "text/plain": [
       "<Figure size 512x128 with 0 Axes>"
      ]
     },
     "metadata": {},
     "output_type": "display_data"
    },
    {
     "data": {
      "text/plain": [
       "<Figure size 512x128 with 0 Axes>"
      ]
     },
     "metadata": {},
     "output_type": "display_data"
    },
    {
     "data": {
      "text/plain": [
       "<Figure size 512x128 with 0 Axes>"
      ]
     },
     "metadata": {},
     "output_type": "display_data"
    },
    {
     "data": {
      "text/plain": [
       "<Figure size 512x128 with 0 Axes>"
      ]
     },
     "metadata": {},
     "output_type": "display_data"
    },
    {
     "data": {
      "text/plain": [
       "<Figure size 512x128 with 0 Axes>"
      ]
     },
     "metadata": {},
     "output_type": "display_data"
    },
    {
     "data": {
      "text/plain": [
       "<Figure size 512x128 with 0 Axes>"
      ]
     },
     "metadata": {},
     "output_type": "display_data"
    },
    {
     "data": {
      "text/plain": [
       "<Figure size 512x128 with 0 Axes>"
      ]
     },
     "metadata": {},
     "output_type": "display_data"
    },
    {
     "data": {
      "text/plain": [
       "<Figure size 512x128 with 0 Axes>"
      ]
     },
     "metadata": {},
     "output_type": "display_data"
    },
    {
     "data": {
      "text/plain": [
       "<Figure size 512x128 with 0 Axes>"
      ]
     },
     "metadata": {},
     "output_type": "display_data"
    },
    {
     "data": {
      "text/plain": [
       "<Figure size 512x128 with 0 Axes>"
      ]
     },
     "metadata": {},
     "output_type": "display_data"
    },
    {
     "data": {
      "text/plain": [
       "<Figure size 512x128 with 0 Axes>"
      ]
     },
     "metadata": {},
     "output_type": "display_data"
    },
    {
     "data": {
      "text/plain": [
       "<Figure size 512x128 with 0 Axes>"
      ]
     },
     "metadata": {},
     "output_type": "display_data"
    },
    {
     "data": {
      "text/plain": [
       "<Figure size 512x128 with 0 Axes>"
      ]
     },
     "metadata": {},
     "output_type": "display_data"
    },
    {
     "data": {
      "text/plain": [
       "<Figure size 512x128 with 0 Axes>"
      ]
     },
     "metadata": {},
     "output_type": "display_data"
    },
    {
     "data": {
      "text/plain": [
       "<Figure size 512x128 with 0 Axes>"
      ]
     },
     "metadata": {},
     "output_type": "display_data"
    },
    {
     "data": {
      "text/plain": [
       "<Figure size 512x128 with 0 Axes>"
      ]
     },
     "metadata": {},
     "output_type": "display_data"
    },
    {
     "data": {
      "text/plain": [
       "<Figure size 512x128 with 0 Axes>"
      ]
     },
     "metadata": {},
     "output_type": "display_data"
    },
    {
     "data": {
      "text/plain": [
       "<Figure size 512x128 with 0 Axes>"
      ]
     },
     "metadata": {},
     "output_type": "display_data"
    },
    {
     "data": {
      "text/plain": [
       "<Figure size 512x128 with 0 Axes>"
      ]
     },
     "metadata": {},
     "output_type": "display_data"
    },
    {
     "data": {
      "text/plain": [
       "<Figure size 512x128 with 0 Axes>"
      ]
     },
     "metadata": {},
     "output_type": "display_data"
    },
    {
     "data": {
      "text/plain": [
       "<Figure size 512x128 with 0 Axes>"
      ]
     },
     "metadata": {},
     "output_type": "display_data"
    },
    {
     "data": {
      "text/plain": [
       "<Figure size 512x128 with 0 Axes>"
      ]
     },
     "metadata": {},
     "output_type": "display_data"
    },
    {
     "data": {
      "text/plain": [
       "<Figure size 512x128 with 0 Axes>"
      ]
     },
     "metadata": {},
     "output_type": "display_data"
    },
    {
     "data": {
      "text/plain": [
       "<Figure size 512x128 with 0 Axes>"
      ]
     },
     "metadata": {},
     "output_type": "display_data"
    },
    {
     "data": {
      "text/plain": [
       "<Figure size 512x128 with 0 Axes>"
      ]
     },
     "metadata": {},
     "output_type": "display_data"
    },
    {
     "data": {
      "text/plain": [
       "<Figure size 512x128 with 0 Axes>"
      ]
     },
     "metadata": {},
     "output_type": "display_data"
    },
    {
     "data": {
      "text/plain": [
       "<Figure size 512x128 with 0 Axes>"
      ]
     },
     "metadata": {},
     "output_type": "display_data"
    },
    {
     "data": {
      "text/plain": [
       "<Figure size 512x128 with 0 Axes>"
      ]
     },
     "metadata": {},
     "output_type": "display_data"
    },
    {
     "data": {
      "text/plain": [
       "<Figure size 512x128 with 0 Axes>"
      ]
     },
     "metadata": {},
     "output_type": "display_data"
    },
    {
     "data": {
      "text/plain": [
       "<Figure size 512x128 with 0 Axes>"
      ]
     },
     "metadata": {},
     "output_type": "display_data"
    },
    {
     "data": {
      "text/plain": [
       "<Figure size 512x128 with 0 Axes>"
      ]
     },
     "metadata": {},
     "output_type": "display_data"
    },
    {
     "data": {
      "text/plain": [
       "<Figure size 512x128 with 0 Axes>"
      ]
     },
     "metadata": {},
     "output_type": "display_data"
    },
    {
     "data": {
      "text/plain": [
       "<Figure size 512x128 with 0 Axes>"
      ]
     },
     "metadata": {},
     "output_type": "display_data"
    },
    {
     "data": {
      "text/plain": [
       "<Figure size 512x128 with 0 Axes>"
      ]
     },
     "metadata": {},
     "output_type": "display_data"
    },
    {
     "data": {
      "text/plain": [
       "<Figure size 512x128 with 0 Axes>"
      ]
     },
     "metadata": {},
     "output_type": "display_data"
    },
    {
     "data": {
      "text/plain": [
       "<Figure size 512x128 with 0 Axes>"
      ]
     },
     "metadata": {},
     "output_type": "display_data"
    },
    {
     "data": {
      "text/plain": [
       "<Figure size 512x128 with 0 Axes>"
      ]
     },
     "metadata": {},
     "output_type": "display_data"
    },
    {
     "data": {
      "text/plain": [
       "<Figure size 512x128 with 0 Axes>"
      ]
     },
     "metadata": {},
     "output_type": "display_data"
    },
    {
     "data": {
      "text/plain": [
       "<Figure size 512x128 with 0 Axes>"
      ]
     },
     "metadata": {},
     "output_type": "display_data"
    },
    {
     "data": {
      "text/plain": [
       "<Figure size 512x128 with 0 Axes>"
      ]
     },
     "metadata": {},
     "output_type": "display_data"
    },
    {
     "data": {
      "text/plain": [
       "<Figure size 512x128 with 0 Axes>"
      ]
     },
     "metadata": {},
     "output_type": "display_data"
    },
    {
     "data": {
      "text/plain": [
       "<Figure size 512x128 with 0 Axes>"
      ]
     },
     "metadata": {},
     "output_type": "display_data"
    },
    {
     "data": {
      "text/plain": [
       "<Figure size 512x128 with 0 Axes>"
      ]
     },
     "metadata": {},
     "output_type": "display_data"
    },
    {
     "data": {
      "text/plain": [
       "<Figure size 512x128 with 0 Axes>"
      ]
     },
     "metadata": {},
     "output_type": "display_data"
    },
    {
     "data": {
      "text/plain": [
       "<Figure size 512x128 with 0 Axes>"
      ]
     },
     "metadata": {},
     "output_type": "display_data"
    },
    {
     "data": {
      "text/plain": [
       "<Figure size 512x128 with 0 Axes>"
      ]
     },
     "metadata": {},
     "output_type": "display_data"
    },
    {
     "data": {
      "text/plain": [
       "<Figure size 512x128 with 0 Axes>"
      ]
     },
     "metadata": {},
     "output_type": "display_data"
    },
    {
     "data": {
      "text/plain": [
       "<Figure size 512x128 with 0 Axes>"
      ]
     },
     "metadata": {},
     "output_type": "display_data"
    },
    {
     "data": {
      "text/plain": [
       "<Figure size 512x128 with 0 Axes>"
      ]
     },
     "metadata": {},
     "output_type": "display_data"
    },
    {
     "data": {
      "text/plain": [
       "<Figure size 512x128 with 0 Axes>"
      ]
     },
     "metadata": {},
     "output_type": "display_data"
    },
    {
     "data": {
      "text/plain": [
       "<Figure size 512x128 with 0 Axes>"
      ]
     },
     "metadata": {},
     "output_type": "display_data"
    },
    {
     "data": {
      "text/plain": [
       "<Figure size 512x128 with 0 Axes>"
      ]
     },
     "metadata": {},
     "output_type": "display_data"
    },
    {
     "data": {
      "text/plain": [
       "<Figure size 512x128 with 0 Axes>"
      ]
     },
     "metadata": {},
     "output_type": "display_data"
    },
    {
     "data": {
      "text/plain": [
       "<Figure size 512x128 with 0 Axes>"
      ]
     },
     "metadata": {},
     "output_type": "display_data"
    },
    {
     "data": {
      "text/plain": [
       "<Figure size 512x128 with 0 Axes>"
      ]
     },
     "metadata": {},
     "output_type": "display_data"
    },
    {
     "data": {
      "text/plain": [
       "<Figure size 512x128 with 0 Axes>"
      ]
     },
     "metadata": {},
     "output_type": "display_data"
    },
    {
     "data": {
      "text/plain": [
       "<Figure size 512x128 with 0 Axes>"
      ]
     },
     "metadata": {},
     "output_type": "display_data"
    },
    {
     "data": {
      "text/plain": [
       "<Figure size 512x128 with 0 Axes>"
      ]
     },
     "metadata": {},
     "output_type": "display_data"
    },
    {
     "data": {
      "text/plain": [
       "<Figure size 512x128 with 0 Axes>"
      ]
     },
     "metadata": {},
     "output_type": "display_data"
    },
    {
     "data": {
      "text/plain": [
       "<Figure size 512x128 with 0 Axes>"
      ]
     },
     "metadata": {},
     "output_type": "display_data"
    }
   ],
   "source": [
    "error_count = 0\n",
    "\n",
    "def convert_all_files_to_spectrogram(error_count):\n",
    "    progress = 0\n",
    "    MelSpectrograms = []\n",
    "    directory = \"Data/fma_small\"\n",
    "\n",
    "    # Create SpectrogramData directory if it does not exist\n",
    "    if not os.path.exists(\"SpectrogramData\"):\n",
    "        os.makedirs(\"SpectrogramData\")\n",
    "\n",
    "    # Iterate over files in the directory and its subdirectories\n",
    "    for root, dirs, files in os.walk(directory):\n",
    "        for filename in files:\n",
    "            fileID = int(filename[:-4]) # Remvoes .MP3 prefix\n",
    "            filePath = os.path.join(root, filename)\n",
    "            #MP3ToSpectrogram(filePath, str(fileID))\n",
    "            create_mel_spectrogram(filePath, fileID, error_count)\n",
    "            progress += 1\n",
    "            if progress%100 == 0:\n",
    "                print(\"Progress:\",progress/fma_small.shape[0])\n",
    "\n",
    "convert_all_files_to_spectrogram(error_count)"
   ]
  },
  {
   "cell_type": "code",
   "execution_count": 16,
   "id": "26a81601",
   "metadata": {},
   "outputs": [
    {
     "data": {
      "text/plain": [
       "0"
      ]
     },
     "execution_count": 16,
     "metadata": {},
     "output_type": "execute_result"
    }
   ],
   "source": [
    "error_count"
   ]
  },
  {
   "cell_type": "code",
   "execution_count": null,
   "id": "702fea8c",
   "metadata": {},
   "outputs": [],
   "source": [
    "# Remove the files that were filtered out earliere\n",
    "# Should have a folder with 7904 spectrograms now and a CSV file with the corresponding metadata\n",
    "filenames_to_keep = list(fma_small[\"ID\"])\n",
    "\n",
    "for filename in os.listdir(\"SpectrogramData\"):\n",
    "    file_path = os.path.join(directory, filename)\n",
    "    fileID = int(filename[:-4]) # Since the ID's only include the int and not .mp3 I remove this part in every name.\n",
    "    if os.path.isfile(file_path) and fileID not in filenames_to_keep:\n",
    "#        print(int(filename[:-4]))\n",
    "        os.remove(file_path)\n",
    "    else:\n",
    "        filename = normalize_image(filename)\n"
   ]
  },
  {
   "cell_type": "code",
   "execution_count": null,
   "id": "b420cb8e",
   "metadata": {},
   "outputs": [],
   "source": []
  },
  {
   "cell_type": "code",
   "execution_count": null,
   "id": "837216be",
   "metadata": {},
   "outputs": [],
   "source": []
  },
  {
   "cell_type": "code",
   "execution_count": null,
   "id": "0f4c2821",
   "metadata": {},
   "outputs": [],
   "source": []
  }
 ],
 "metadata": {
  "kernelspec": {
   "display_name": "Python 3 (ipykernel)",
   "language": "python",
   "name": "python3"
  },
  "language_info": {
   "codemirror_mode": {
    "name": "ipython",
    "version": 3
   },
   "file_extension": ".py",
   "mimetype": "text/x-python",
   "name": "python",
   "nbconvert_exporter": "python",
   "pygments_lexer": "ipython3",
   "version": "3.9.12"
  }
 },
 "nbformat": 4,
 "nbformat_minor": 5
}
